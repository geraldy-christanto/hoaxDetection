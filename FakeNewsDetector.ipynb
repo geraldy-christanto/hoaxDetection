{
  "nbformat": 4,
  "nbformat_minor": 0,
  "metadata": {
    "colab": {
      "name": "FakeNewsDetector",
      "provenance": [],
      "collapsed_sections": [],
      "include_colab_link": true
    },
    "kernelspec": {
      "name": "python3",
      "display_name": "Python 3"
    }
  },
  "cells": [
    {
      "cell_type": "markdown",
      "metadata": {
        "id": "view-in-github",
        "colab_type": "text"
      },
      "source": [
        "<a href=\"https://colab.research.google.com/github/geraldy-christanto/UAS/blob/master/FakeNewsDetector.ipynb\" target=\"_parent\"><img src=\"https://colab.research.google.com/assets/colab-badge.svg\" alt=\"Open In Colab\"/></a>"
      ]
    },
    {
      "cell_type": "code",
      "metadata": {
        "id": "rBsb6-01eSOF",
        "colab_type": "code",
        "outputId": "29f5fe64-fe8b-432b-ec0d-088e54d25a77",
        "colab": {
          "base_uri": "https://localhost:8080/",
          "height": 51
        }
      },
      "source": [
        "import pandas as pd\n",
        "import csv\n",
        "import numpy as np\n",
        "import nltk\n",
        "from nltk.stem import SnowballStemmer\n",
        "from nltk.stem.porter import PorterStemmer\n",
        "from nltk.tokenize import word_tokenize\n",
        "import seaborn as sb\n",
        "from sklearn.feature_extraction.text import CountVectorizer\n",
        "from sklearn.feature_extraction.text import TfidfTransformer\n",
        "from sklearn.feature_extraction.text import TfidfVectorizer\n",
        "from sklearn.pipeline import Pipeline\n",
        "import nltk.corpus \n",
        "from gensim.models.word2vec import Word2Vec\n",
        "nltk.download('treebank')\n",
        "import pickle\n",
        "from sklearn.naive_bayes import MultinomialNB\n",
        "from sklearn.linear_model import  LogisticRegression\n",
        "from sklearn.linear_model import SGDClassifier\n",
        "from sklearn import svm\n",
        "from sklearn.ensemble import RandomForestClassifier\n",
        "from sklearn.model_selection import KFold\n",
        "from sklearn.metrics import confusion_matrix, f1_score, classification_report\n",
        "from sklearn.model_selection import GridSearchCV\n",
        "from sklearn.model_selection import learning_curve\n",
        "import matplotlib.pyplot as plt\n",
        "from sklearn.metrics import precision_recall_curve\n",
        "from sklearn.metrics import average_precision_score\n",
        "import sklearn.metrics as metrics\n"
      ],
      "execution_count": 1,
      "outputs": [
        {
          "output_type": "stream",
          "text": [
            "[nltk_data] Downloading package treebank to /root/nltk_data...\n",
            "[nltk_data]   Unzipping corpora/treebank.zip.\n"
          ],
          "name": "stdout"
        }
      ]
    },
    {
      "cell_type": "code",
      "metadata": {
        "id": "Lf3RekcugELb",
        "colab_type": "code",
        "colab": {}
      },
      "source": [
        "test_filename = 'https://raw.githubusercontent.com/geraldy-christanto/UAS/master/test.csv'\n",
        "train_filename = 'https://raw.githubusercontent.com/geraldy-christanto/UAS/master/train.csv'\n",
        "valid_filename = 'https://raw.githubusercontent.com/geraldy-christanto/UAS/master/valid.csv'\n",
        "\n",
        "train_news = pd.read_csv(train_filename)\n",
        "test_news = pd.read_csv(test_filename)\n",
        "valid_news = pd.read_csv(valid_filename)"
      ],
      "execution_count": 0,
      "outputs": []
    },
    {
      "cell_type": "code",
      "metadata": {
        "id": "YFutmW96g0sI",
        "colab_type": "code",
        "colab": {}
      },
      "source": [
        "#data observation\n",
        "def data_obs():\n",
        "    print(\"training dataset size:\")\n",
        "    print(train_news.shape)\n",
        "    print(train_news.head(10))\n",
        "\n",
        "    #below dataset were used for testing and validation purposes\n",
        "    print(test_news.shape)\n",
        "    print(test_news.head(10))\n",
        "    \n",
        "    print(valid_news.shape)\n",
        "    print(valid_news.head(10))"
      ],
      "execution_count": 0,
      "outputs": []
    },
    {
      "cell_type": "code",
      "metadata": {
        "id": "ppYGo59vg4jM",
        "colab_type": "code",
        "outputId": "8c8c376e-825c-40d5-ce0e-d036c88bcea5",
        "colab": {
          "base_uri": "https://localhost:8080/",
          "height": 646
        }
      },
      "source": [
        "data_obs()"
      ],
      "execution_count": 4,
      "outputs": [
        {
          "output_type": "stream",
          "text": [
            "training dataset size:\n",
            "(10240, 2)\n",
            "                                           Statement  Label\n",
            "0  Says the Annies List political group supports ...  False\n",
            "1  When did the decline of coal start? It started...   True\n",
            "2  Hillary Clinton agrees with John McCain \"by vo...   True\n",
            "3  Health care reform legislation is likely to ma...  False\n",
            "4  The economic turnaround started at the end of ...   True\n",
            "5  The Chicago Bears have had more starting quart...   True\n",
            "6  Jim Dunnam has not lived in the district he re...  False\n",
            "7  I'm the only person on this stage who has work...   True\n",
            "8  However, it took $19.5 million in Oregon Lotte...   True\n",
            "9  Says GOP primary opponents Glenn Grothman and ...   True\n",
            "(2551, 2)\n",
            "                                           Statement  Label\n",
            "0  Building a wall on the U.S.-Mexico border will...   True\n",
            "1  Wisconsin is on pace to double the number of l...  False\n",
            "2  Says John McCain has done nothing to help the ...  False\n",
            "3  Suzanne Bonamici supports a plan that will cut...   True\n",
            "4  When asked by a reporter whether hes at the ce...  False\n",
            "5  Over the past five years the federal governmen...   True\n",
            "6  Says that Tennessee law requires that schools ...   True\n",
            "7  Says Vice President Joe Biden \"admits that the...  False\n",
            "8  Donald Trump is against marriage equality. He ...   True\n",
            "9  We know that more than half of Hillary Clinton...  False\n",
            "(2571, 2)\n",
            "                                           Statement  Label\n",
            "0  We have less Americans working now than in the...  FALSE\n",
            "1  When Obama was sworn into office, he DID NOT u...  FALSE\n",
            "2  Says Having organizations parading as being so...  FALSE\n",
            "3     Says nearly half of Oregons children are poor.   TRUE\n",
            "4  On attacks by Republicans that various program...   TRUE\n",
            "5  Says when armed civilians stop mass shootings ...  FALSE\n",
            "6  Says Tennessee is providing millions of dollar...   TRUE\n",
            "7  The health care reform plan would set limits s...  FALSE\n",
            "8  Says Donald Trump started his career back in 1...   TRUE\n",
            "9  Bill White has a long history of trying to lim...   TRUE\n"
          ],
          "name": "stdout"
        }
      ]
    },
    {
      "cell_type": "code",
      "metadata": {
        "id": "vyb00tPAhA-e",
        "colab_type": "code",
        "colab": {}
      },
      "source": [
        "def create_distribution(dataFile):\n",
        "    \n",
        "    return sb.countplot(x='Label', data=dataFile, palette='hls')"
      ],
      "execution_count": 0,
      "outputs": []
    },
    {
      "cell_type": "code",
      "metadata": {
        "id": "aa2DquOhhEIC",
        "colab_type": "code",
        "outputId": "74ed6270-6599-4582-9214-6152a16f2553",
        "colab": {
          "base_uri": "https://localhost:8080/",
          "height": 299
        }
      },
      "source": [
        "create_distribution(train_news)"
      ],
      "execution_count": 6,
      "outputs": [
        {
          "output_type": "execute_result",
          "data": {
            "text/plain": [
              "<matplotlib.axes._subplots.AxesSubplot at 0x7f9165f3b8d0>"
            ]
          },
          "metadata": {
            "tags": []
          },
          "execution_count": 6
        },
        {
          "output_type": "display_data",
          "data": {
            "image/png": "[encoded data removed]",
            "text/plain": [
              "<Figure size 432x288 with 1 Axes>"
            ]
          },
          "metadata": {
            "tags": []
          }
        }
      ]
    },
    {
      "cell_type": "code",
      "metadata": {
        "id": "bVXdSlJKhFu3",
        "colab_type": "code",
        "outputId": "303c0121-a314-434e-ea55-9aa1dbe8f961",
        "colab": {
          "base_uri": "https://localhost:8080/",
          "height": 296
        }
      },
      "source": [
        "create_distribution(test_news)"
      ],
      "execution_count": 7,
      "outputs": [
        {
          "output_type": "execute_result",
          "data": {
            "text/plain": [
              "<matplotlib.axes._subplots.AxesSubplot at 0x7f91657aeb00>"
            ]
          },
          "metadata": {
            "tags": []
          },
          "execution_count": 7
        },
        {
          "output_type": "display_data",
          "data": {
            "image/png": "[encoded data removed]",
            "text/plain": [
              "<Figure size 432x288 with 1 Axes>"
            ]
          },
          "metadata": {
            "tags": []
          }
        }
      ]
    },
    {
      "cell_type": "code",
      "metadata": {
        "id": "FRs5a9ashHLD",
        "colab_type": "code",
        "outputId": "bd8cdf9a-15a6-4420-a6b1-7b35f9c1c652",
        "colab": {
          "base_uri": "https://localhost:8080/",
          "height": 300
        }
      },
      "source": [
        "create_distribution(valid_news)"
      ],
      "execution_count": 8,
      "outputs": [
        {
          "output_type": "execute_result",
          "data": {
            "text/plain": [
              "<matplotlib.axes._subplots.AxesSubplot at 0x7f916576cf60>"
            ]
          },
          "metadata": {
            "tags": []
          },
          "execution_count": 8
        },
        {
          "output_type": "display_data",
          "data": {
            "image/png": "[encoded data removed]",
            "text/plain": [
              "<Figure size 432x288 with 1 Axes>"
            ]
          },
          "metadata": {
            "tags": []
          }
        }
      ]
    },
    {
      "cell_type": "code",
      "metadata": {
        "id": "pm93c-cnhO3x",
        "colab_type": "code",
        "colab": {}
      },
      "source": [
        "def data_qualityCheck():\n",
        "    \n",
        "    print(\"Checking data qualitites...\")\n",
        "    train_news.isnull().sum()\n",
        "    train_news.info()\n",
        "        \n",
        "    print(\"check finished.\")\n",
        "\n",
        "    #below datasets were used to \n",
        "    test_news.isnull().sum()\n",
        "    test_news.info()\n",
        "\n",
        "    valid_news.isnull().sum()\n",
        "    valid_news.info()"
      ],
      "execution_count": 0,
      "outputs": []
    },
    {
      "cell_type": "code",
      "metadata": {
        "id": "gXoKwyLxhRct",
        "colab_type": "code",
        "outputId": "5bfdd07f-011c-47e4-fc59-f6d43b5218c1",
        "colab": {
          "base_uri": "https://localhost:8080/",
          "height": 408
        }
      },
      "source": [
        "data_qualityCheck()"
      ],
      "execution_count": 10,
      "outputs": [
        {
          "output_type": "stream",
          "text": [
            "Checking data qualitites...\n",
            "<class 'pandas.core.frame.DataFrame'>\n",
            "RangeIndex: 10240 entries, 0 to 10239\n",
            "Data columns (total 2 columns):\n",
            "Statement    10240 non-null object\n",
            "Label        10240 non-null bool\n",
            "dtypes: bool(1), object(1)\n",
            "memory usage: 90.1+ KB\n",
            "check finished.\n",
            "<class 'pandas.core.frame.DataFrame'>\n",
            "RangeIndex: 2551 entries, 0 to 2550\n",
            "Data columns (total 2 columns):\n",
            "Statement    2551 non-null object\n",
            "Label        2551 non-null bool\n",
            "dtypes: bool(1), object(1)\n",
            "memory usage: 22.5+ KB\n",
            "<class 'pandas.core.frame.DataFrame'>\n",
            "RangeIndex: 2571 entries, 0 to 2570\n",
            "Data columns (total 2 columns):\n",
            "Statement    2571 non-null object\n",
            "Label        2569 non-null object\n",
            "dtypes: object(2)\n",
            "memory usage: 40.3+ KB\n"
          ],
          "name": "stdout"
        }
      ]
    },
    {
      "cell_type": "code",
      "metadata": {
        "id": "eHVDKQCNhZ3h",
        "colab_type": "code",
        "colab": {}
      },
      "source": [
        "#Stemming\n",
        "def stem_tokens(tokens, stemmer):\n",
        "    stemmed = []\n",
        "    for token in tokens:\n",
        "        stemmed.append(stemmer.stem(token))\n",
        "    return stemmed\n",
        "\n",
        "#process the data\n",
        "def process_data(data,exclude_stopword=True,stem=True):\n",
        "    tokens = [w.lower() for w in data]\n",
        "    tokens_stemmed = tokens\n",
        "    tokens_stemmed = stem_tokens(tokens, eng_stemmer)\n",
        "    tokens_stemmed = [w for w in tokens_stemmed if w not in stopwords ]\n",
        "    return tokens_stemmed\n",
        "\n",
        "\n",
        "#creating ngrams\n",
        "#unigram \n",
        "def create_unigram(words):\n",
        "    assert type(words) == list\n",
        "    return words\n",
        "\n",
        "#bigram\n",
        "def create_bigrams(words):\n",
        "    assert type(words) == list\n",
        "    skip = 0\n",
        "    join_str = \" \"\n",
        "    Len = len(words)\n",
        "    if Len > 1:\n",
        "        lst = []\n",
        "        for i in range(Len-1):\n",
        "            for k in range(1,skip+2):\n",
        "                if i+k < Len:\n",
        "                    lst.append(join_str.join([words[i],words[i+k]]))\n",
        "    else:\n",
        "        #set it as unigram\n",
        "        lst = create_unigram(words)\n",
        "    return lst"
      ],
      "execution_count": 0,
      "outputs": []
    },
    {
      "cell_type": "code",
      "metadata": {
        "id": "iyyiumjchrc2",
        "colab_type": "code",
        "colab": {}
      },
      "source": [
        "porter = PorterStemmer()"
      ],
      "execution_count": 0,
      "outputs": []
    },
    {
      "cell_type": "code",
      "metadata": {
        "id": "BN1gLIhBhuCa",
        "colab_type": "code",
        "colab": {}
      },
      "source": [
        "def tokenizer(text):\n",
        "    return text.split()\n",
        "\n",
        "\n",
        "def tokenizer_porter(text):\n",
        "    return [porter.stem(word) for word in text.split()]\n"
      ],
      "execution_count": 0,
      "outputs": []
    },
    {
      "cell_type": "code",
      "metadata": {
        "id": "5ML-01XWiM-G",
        "colab_type": "code",
        "colab": {}
      },
      "source": [
        "countV = CountVectorizer()\n",
        "train_count = countV.fit_transform(train_news['Statement'].values)"
      ],
      "execution_count": 0,
      "outputs": []
    },
    {
      "cell_type": "code",
      "metadata": {
        "id": "CPO1C9w2iRvQ",
        "colab_type": "code",
        "outputId": "4b557c2c-849a-4483-aa9e-a94a61f2a1c7",
        "colab": {
          "base_uri": "https://localhost:8080/",
          "height": 986
        }
      },
      "source": [
        "print(countV)\n",
        "print(train_count)"
      ],
      "execution_count": 15,
      "outputs": [
        {
          "output_type": "stream",
          "text": [
            "CountVectorizer(analyzer='word', binary=False, decode_error='strict',\n",
            "                dtype=<class 'numpy.int64'>, encoding='utf-8', input='content',\n",
            "                lowercase=True, max_df=1.0, max_features=None, min_df=1,\n",
            "                ngram_range=(1, 1), preprocessor=None, stop_words=None,\n",
            "                strip_accents=None, token_pattern='(?u)\\\\b\\\\w\\\\w+\\\\b',\n",
            "                tokenizer=None, vocabulary=None)\n",
            "  (0, 9676)\t1\n",
            "  (0, 10988)\t1\n",
            "  (0, 1044)\t1\n",
            "  (0, 6639)\t1\n",
            "  (0, 8376)\t1\n",
            "  (0, 5115)\t1\n",
            "  (0, 10709)\t1\n",
            "  (0, 11036)\t1\n",
            "  (0, 11296)\t1\n",
            "  (0, 615)\t1\n",
            "  (0, 7728)\t1\n",
            "  (0, 3278)\t1\n",
            "  (1, 10988)\t1\n",
            "  (1, 11934)\t2\n",
            "  (1, 3434)\t1\n",
            "  (1, 3185)\t1\n",
            "  (1, 7672)\t1\n",
            "  (1, 2475)\t1\n",
            "  (1, 10425)\t1\n",
            "  (1, 6052)\t1\n",
            "  (1, 10426)\t2\n",
            "  (1, 7418)\t1\n",
            "  (1, 4860)\t1\n",
            "  (1, 11138)\t1\n",
            "  (1, 7674)\t1\n",
            "  :\t:\n",
            "  (10239, 10988)\t1\n",
            "  (10239, 7672)\t2\n",
            "  (10239, 11110)\t2\n",
            "  (10239, 5267)\t1\n",
            "  (10239, 7828)\t1\n",
            "  (10239, 7824)\t1\n",
            "  (10239, 1159)\t1\n",
            "  (10239, 12151)\t2\n",
            "  (10239, 6327)\t1\n",
            "  (10239, 6603)\t1\n",
            "  (10239, 11013)\t1\n",
            "  (10239, 11004)\t1\n",
            "  (10239, 3309)\t1\n",
            "  (10239, 12158)\t1\n",
            "  (10239, 11660)\t2\n",
            "  (10239, 799)\t1\n",
            "  (10239, 2568)\t1\n",
            "  (10239, 11622)\t1\n",
            "  (10239, 2549)\t1\n",
            "  (10239, 10660)\t1\n",
            "  (10239, 8996)\t1\n",
            "  (10239, 10918)\t1\n",
            "  (10239, 3989)\t1\n",
            "  (10239, 10594)\t1\n",
            "  (10239, 6853)\t1\n"
          ],
          "name": "stdout"
        }
      ]
    },
    {
      "cell_type": "code",
      "metadata": {
        "id": "ZkHkmGGGia0I",
        "colab_type": "code",
        "colab": {}
      },
      "source": [
        "def get_countVectorizer_stats():\n",
        "    \n",
        "    #vocab size\n",
        "    train_count.shape\n",
        "\n",
        "    #check vocabulary using below command\n",
        "    print(countV.vocabulary_)\n",
        "\n",
        "    #get feature names\n",
        "    print(countV.get_feature_names()[:25])\n",
        "\n",
        "\n",
        "#create tf-df frequency features\n",
        "#tf-idf \n",
        "tfidfV = TfidfTransformer()\n",
        "train_tfidf = tfidfV.fit_transform(train_count)\n",
        "\n",
        "def get_tfidf_stats():\n",
        "    train_tfidf.shape\n",
        "    #get train data feature names \n",
        "    print(train_tfidf.A[:10])"
      ],
      "execution_count": 0,
      "outputs": []
    },
    {
      "cell_type": "code",
      "metadata": {
        "id": "DRqnxFozifnn",
        "colab_type": "code",
        "colab": {}
      },
      "source": [
        "tfidf_ngram = TfidfVectorizer(stop_words='english',ngram_range=(1,4),use_idf=True,smooth_idf=True)"
      ],
      "execution_count": 0,
      "outputs": []
    },
    {
      "cell_type": "code",
      "metadata": {
        "id": "ka71rJ5eijBo",
        "colab_type": "code",
        "outputId": "776ff42f-b14a-49f0-dc38-1b50796cbe23",
        "colab": {
          "base_uri": "https://localhost:8080/",
          "height": 221
        }
      },
      "source": [
        "#POS Tagging\n",
        "tagged_sentences = nltk.corpus.treebank.tagged_sents()\n",
        "\n",
        "cutoff = int(.75 * len(tagged_sentences))\n",
        "training_sentences = train_news['Statement']\n",
        " \n",
        "print(training_sentences)"
      ],
      "execution_count": 18,
      "outputs": [
        {
          "output_type": "stream",
          "text": [
            "0        Says the Annies List political group supports ...\n",
            "1        When did the decline of coal start? It started...\n",
            "2        Hillary Clinton agrees with John McCain \"by vo...\n",
            "3        Health care reform legislation is likely to ma...\n",
            "4        The economic turnaround started at the end of ...\n",
            "                               ...                        \n",
            "10235    There are a larger number of shark attacks in ...\n",
            "10236    Democrats have now become the party of the [At...\n",
            "10237    Says an alternative to Social Security that op...\n",
            "10238    On lifting the U.S. Cuban embargo and allowing...\n",
            "10239    The Department of Veterans Affairs has a manua...\n",
            "Name: Statement, Length: 10240, dtype: object\n"
          ],
          "name": "stdout"
        }
      ]
    },
    {
      "cell_type": "code",
      "metadata": {
        "id": "El6_BEQ4i5f0",
        "colab_type": "code",
        "colab": {}
      },
      "source": [
        "def features(sentence, index):\n",
        "    \"\"\" sentence: [w1, w2, ...], index: the index of the word \"\"\"\n",
        "    return {\n",
        "        'word': sentence[index],\n",
        "        'is_first': index == 0,\n",
        "        'is_last': index == len(sentence) - 1,\n",
        "        'is_capitalized': sentence[index][0].upper() == sentence[index][0],\n",
        "        'is_all_caps': sentence[index].upper() == sentence[index],\n",
        "        'is_all_lower': sentence[index].lower() == sentence[index],\n",
        "        'prefix-1': sentence[index][0],\n",
        "        'prefix-2': sentence[index][:2],\n",
        "        'prefix-3': sentence[index][:3],\n",
        "        'suffix-1': sentence[index][-1],\n",
        "        'suffix-2': sentence[index][-2:],\n",
        "        'suffix-3': sentence[index][-3:],\n",
        "        'prev_word': '' if index == 0 else sentence[index - 1],\n",
        "        'next_word': '' if index == len(sentence) - 1 else sentence[index + 1],\n",
        "        'has_hyphen': '-' in sentence[index],\n",
        "        'is_numeric': sentence[index].isdigit(),\n",
        "        'capitals_inside': sentence[index][1:].lower() != sentence[index][1:]\n",
        "    }"
      ],
      "execution_count": 0,
      "outputs": []
    },
    {
      "cell_type": "code",
      "metadata": {
        "id": "Qs7gIDWGi9TN",
        "colab_type": "code",
        "colab": {}
      },
      "source": [
        "def untag(tagged_sentence):\n",
        "    return [w for w, t in tagged_sentence]"
      ],
      "execution_count": 0,
      "outputs": []
    },
    {
      "cell_type": "code",
      "metadata": {
        "id": "4EvusaN7kFsA",
        "colab_type": "code",
        "outputId": "5e379c87-faac-49e1-a8f5-14c348d666cd",
        "colab": {
          "base_uri": "https://localhost:8080/",
          "height": 122
        }
      },
      "source": [
        "from google.colab import drive\n",
        "drive.mount('/content/drive')"
      ],
      "execution_count": 21,
      "outputs": [
        {
          "output_type": "stream",
          "text": [
            "Go to this URL in a browser: https://accounts.google.com/o/oauth2/auth?client_id=947318989803-6bn6qk8qdgf4n4g3pfee6491hc0brc4i.apps.googleusercontent.com&redirect_uri=urn%3aietf%3awg%3aoauth%3a2.0%3aoob&response_type=code&scope=email%20https%3a%2f%2fwww.googleapis.com%2fauth%2fdocs.test%20https%3a%2f%2fwww.googleapis.com%2fauth%2fdrive%20https%3a%2f%2fwww.googleapis.com%2fauth%2fdrive.photos.readonly%20https%3a%2f%2fwww.googleapis.com%2fauth%2fpeopleapi.readonly\n",
            "\n",
            "Enter your authorization code:\n",
            "··········\n",
            "Mounted at /content/drive\n"
          ],
          "name": "stdout"
        }
      ]
    },
    {
      "cell_type": "code",
      "metadata": {
        "id": "zbfHkLxGjAkl",
        "colab_type": "code",
        "colab": {}
      },
      "source": [
        "#Using Word2Vec \n",
        "with open(\"/content/drive/My Drive/glove.6B.50d.txt\", \"rb\") as lines:\n",
        "    w2v = {line.split()[0]: np.array(map(float, line.split()[1:]))\n",
        "           for line in lines}"
      ],
      "execution_count": 0,
      "outputs": []
    },
    {
      "cell_type": "code",
      "metadata": {
        "id": "XN8NgBAiw7Uf",
        "colab_type": "code",
        "colab": {}
      },
      "source": [
        "class MeanEmbeddingVectorizer(object):\n",
        "    def __init__(self, word2vec):\n",
        "        self.word2vec = word2vec\n",
        "        # if a text is empty we should return a vector of zeros\n",
        "        # with the same dimensionality as all the other vectors\n",
        "        self.dim = len(word2vec.itervalues().next())\n",
        "\n",
        "    def fit(self, X, y):\n",
        "        return self\n",
        "\n",
        "    def transform(self, X):\n",
        "        return np.array([\n",
        "            np.mean([self.word2vec[w] for w in words if w in self.word2vec]\n",
        "                    or [np.zeros(self.dim)], axis=0)\n",
        "            for words in X\n",
        "        ])"
      ],
      "execution_count": 0,
      "outputs": []
    },
    {
      "cell_type": "code",
      "metadata": {
        "id": "4LDbCXdLxWBS",
        "colab_type": "code",
        "colab": {}
      },
      "source": [
        "doc_new = ['obama is running for president in 2016']"
      ],
      "execution_count": 0,
      "outputs": []
    },
    {
      "cell_type": "code",
      "metadata": {
        "id": "0lmn5XKpxZiY",
        "colab_type": "code",
        "outputId": "c217fdee-992a-4389-ccc9-ea099fe4a1df",
        "colab": {
          "base_uri": "https://localhost:8080/",
          "height": 34
        }
      },
      "source": [
        "#building classifier using naive bayes\n",
        "nb_pipeline = Pipeline([\n",
        "        ('NBCV',countV),\n",
        "        ('nb_clf',MultinomialNB())])\n",
        "\n",
        "nb_pipeline.fit(train_news['Statement'],train_news['Label'])\n",
        "predicted_nb = nb_pipeline.predict(test_news['Statement'])\n",
        "np.mean(predicted_nb == test_news['Label'])\n"
      ],
      "execution_count": 25,
      "outputs": [
        {
          "output_type": "execute_result",
          "data": {
            "text/plain": [
              "0.6072128577028616"
            ]
          },
          "metadata": {
            "tags": []
          },
          "execution_count": 25
        }
      ]
    },
    {
      "cell_type": "code",
      "metadata": {
        "id": "2D5yyGVfxjfg",
        "colab_type": "code",
        "outputId": "60ae44bb-cad6-436e-9b16-7da3cd0efbf2",
        "colab": {
          "base_uri": "https://localhost:8080/",
          "height": 88
        }
      },
      "source": [
        "#building classifier using logistic regression\n",
        "logR_pipeline = Pipeline([\n",
        "        ('LogRCV',countV),\n",
        "        ('LogR_clf',LogisticRegression())\n",
        "        ])\n",
        "\n",
        "logR_pipeline.fit(train_news['Statement'],train_news['Label'])\n",
        "predicted_LogR = logR_pipeline.predict(test_news['Statement'])\n",
        "np.mean(predicted_LogR == test_news['Label'])\n"
      ],
      "execution_count": 26,
      "outputs": [
        {
          "output_type": "stream",
          "text": [
            "/usr/local/lib/python3.6/dist-packages/sklearn/linear_model/logistic.py:432: FutureWarning: Default solver will be changed to 'lbfgs' in 0.22. Specify a solver to silence this warning.\n",
            "  FutureWarning)\n"
          ],
          "name": "stderr"
        },
        {
          "output_type": "execute_result",
          "data": {
            "text/plain": [
              "0.5985887887103096"
            ]
          },
          "metadata": {
            "tags": []
          },
          "execution_count": 26
        }
      ]
    },
    {
      "cell_type": "code",
      "metadata": {
        "id": "rRQ--5vXxvjG",
        "colab_type": "code",
        "outputId": "177f4dfc-6aa3-4007-de56-c78bebe00a31",
        "colab": {
          "base_uri": "https://localhost:8080/",
          "height": 68
        }
      },
      "source": [
        "#building Linear SVM classfier\n",
        "svm_pipeline = Pipeline([\n",
        "        ('svmCV',countV),\n",
        "        ('svm_clf',svm.LinearSVC())\n",
        "        ])\n",
        "\n",
        "svm_pipeline.fit(train_news['Statement'],train_news['Label'])\n",
        "predicted_svm = svm_pipeline.predict(test_news['Statement'])\n",
        "np.mean(predicted_svm == test_news['Label'])\n"
      ],
      "execution_count": 27,
      "outputs": [
        {
          "output_type": "stream",
          "text": [
            "/usr/local/lib/python3.6/dist-packages/sklearn/svm/base.py:929: ConvergenceWarning: Liblinear failed to converge, increase the number of iterations.\n",
            "  \"the number of iterations.\", ConvergenceWarning)\n"
          ],
          "name": "stderr"
        },
        {
          "output_type": "execute_result",
          "data": {
            "text/plain": [
              "0.5723245785966288"
            ]
          },
          "metadata": {
            "tags": []
          },
          "execution_count": 27
        }
      ]
    },
    {
      "cell_type": "code",
      "metadata": {
        "id": "u8HDvf-9x2tH",
        "colab_type": "code",
        "outputId": "1d4f45e4-339e-44ae-91ce-2fcc8788b1ae",
        "colab": {
          "base_uri": "https://localhost:8080/",
          "height": 34
        }
      },
      "source": [
        "#using SVM Stochastic Gradient Descent on hinge loss\n",
        "sgd_pipeline = Pipeline([\n",
        "        ('svm2CV',countV),\n",
        "        ('svm2_clf',SGDClassifier(loss='hinge', penalty='l2', alpha=1e-3))#, n_iter=5))\n",
        "        ])\n",
        "\n",
        "sgd_pipeline.fit(train_news['Statement'],train_news['Label'])\n",
        "predicted_sgd = sgd_pipeline.predict(test_news['Statement'])\n",
        "np.mean(predicted_sgd == test_news['Label'])\n"
      ],
      "execution_count": 28,
      "outputs": [
        {
          "output_type": "execute_result",
          "data": {
            "text/plain": [
              "0.6127009016072129"
            ]
          },
          "metadata": {
            "tags": []
          },
          "execution_count": 28
        }
      ]
    },
    {
      "cell_type": "code",
      "metadata": {
        "id": "6a74ZejWyLGm",
        "colab_type": "code",
        "outputId": "4415a40e-e5e9-4a6e-b88e-96595f711be6",
        "colab": {
          "base_uri": "https://localhost:8080/",
          "height": 34
        }
      },
      "source": [
        "#random forest\n",
        "random_forest = Pipeline([\n",
        "        ('rfCV',countV),\n",
        "        ('rf_clf',RandomForestClassifier(n_estimators=200,n_jobs=3))\n",
        "        ])\n",
        "    \n",
        "random_forest.fit(train_news['Statement'],train_news['Label'])\n",
        "predicted_rf = random_forest.predict(test_news['Statement'])\n",
        "np.mean(predicted_rf == test_news['Label'])"
      ],
      "execution_count": 29,
      "outputs": [
        {
          "output_type": "execute_result",
          "data": {
            "text/plain": [
              "0.6256370050960408"
            ]
          },
          "metadata": {
            "tags": []
          },
          "execution_count": 29
        }
      ]
    },
    {
      "cell_type": "code",
      "metadata": {
        "id": "W_v4iAB0ylF2",
        "colab_type": "code",
        "colab": {}
      },
      "source": [
        "def build_confusion_matrix(classifier):\n",
        "    \n",
        "    k_fold = KFold(n_splits=5)\n",
        "    scores = []\n",
        "    confusion = np.array([[0,0],[0,0]])\n",
        "\n",
        "    for train_ind, test_ind in k_fold.split(train_news):\n",
        "        train_text = train_news.iloc[train_ind]['Statement'] \n",
        "        train_y = train_news.iloc[train_ind]['Label']\n",
        "    \n",
        "        test_text = train_news.iloc[test_ind]['Statement']\n",
        "        test_y = train_news.iloc[test_ind]['Label']\n",
        "        \n",
        "        classifier.fit(train_text,train_y)\n",
        "        predictions = classifier.predict(test_text)\n",
        "        \n",
        "        confusion += confusion_matrix(test_y,predictions)\n",
        "        score = f1_score(test_y,predictions)\n",
        "        scores.append(score)\n",
        "    \n",
        "    return (print('Total statements classified:', len(train_news)),print('Score:', sum(scores)/len(scores)),print('score length', len(scores)),print('Confusion matrix:'),print(confusion))"
      ],
      "execution_count": 0,
      "outputs": []
    },
    {
      "cell_type": "code",
      "metadata": {
        "id": "ztA5BIszy1Zm",
        "colab_type": "code",
        "outputId": "b7c1c743-7085-44da-e04d-74f8016a81ee",
        "colab": {
          "base_uri": "https://localhost:8080/",
          "height": 734
        }
      },
      "source": [
        "#K-fold cross validation for all classifiers\n",
        "build_confusion_matrix(nb_pipeline)\n",
        "build_confusion_matrix(logR_pipeline)\n",
        "build_confusion_matrix(svm_pipeline)\n",
        "build_confusion_matrix(sgd_pipeline)\n",
        "build_confusion_matrix(random_forest)\n"
      ],
      "execution_count": 31,
      "outputs": [
        {
          "output_type": "stream",
          "text": [
            "Total statements classified: 10240\n",
            "Score: 0.66961153965076\n",
            "score length 5\n",
            "Confusion matrix:\n",
            "[[2118 2370]\n",
            " [1664 4088]]\n"
          ],
          "name": "stdout"
        },
        {
          "output_type": "stream",
          "text": [
            "/usr/local/lib/python3.6/dist-packages/sklearn/linear_model/logistic.py:432: FutureWarning: Default solver will be changed to 'lbfgs' in 0.22. Specify a solver to silence this warning.\n",
            "  FutureWarning)\n",
            "/usr/local/lib/python3.6/dist-packages/sklearn/linear_model/logistic.py:432: FutureWarning: Default solver will be changed to 'lbfgs' in 0.22. Specify a solver to silence this warning.\n",
            "  FutureWarning)\n",
            "/usr/local/lib/python3.6/dist-packages/sklearn/linear_model/logistic.py:432: FutureWarning: Default solver will be changed to 'lbfgs' in 0.22. Specify a solver to silence this warning.\n",
            "  FutureWarning)\n",
            "/usr/local/lib/python3.6/dist-packages/sklearn/linear_model/logistic.py:432: FutureWarning: Default solver will be changed to 'lbfgs' in 0.22. Specify a solver to silence this warning.\n",
            "  FutureWarning)\n",
            "/usr/local/lib/python3.6/dist-packages/sklearn/linear_model/logistic.py:432: FutureWarning: Default solver will be changed to 'lbfgs' in 0.22. Specify a solver to silence this warning.\n",
            "  FutureWarning)\n"
          ],
          "name": "stderr"
        },
        {
          "output_type": "stream",
          "text": [
            "Total statements classified: 10240\n",
            "Score: 0.6469090977975251\n",
            "score length 5\n",
            "Confusion matrix:\n",
            "[[2252 2236]\n",
            " [1933 3819]]\n",
            "Total statements classified: 10240\n",
            "Score: 0.6104687487924283\n",
            "score length 5\n",
            "Confusion matrix:\n",
            "[[2260 2228]\n",
            " [2246 3506]]\n",
            "Total statements classified: 10240\n",
            "Score: 0.6628038952134204\n",
            "score length 5\n",
            "Confusion matrix:\n",
            "[[2173 2315]\n",
            " [1753 3999]]\n",
            "Total statements classified: 10240\n",
            "Score: 0.6999255083801291\n",
            "score length 5\n",
            "Confusion matrix:\n",
            "[[1798 2690]\n",
            " [1207 4545]]\n"
          ],
          "name": "stdout"
        },
        {
          "output_type": "execute_result",
          "data": {
            "text/plain": [
              "(None, None, None, None, None)"
            ]
          },
          "metadata": {
            "tags": []
          },
          "execution_count": 31
        }
      ]
    },
    {
      "cell_type": "code",
      "metadata": {
        "id": "tuW6SD2qzhlO",
        "colab_type": "code",
        "outputId": "466abc9b-795b-4a34-f94e-ff58001cb397",
        "colab": {
          "base_uri": "https://localhost:8080/",
          "height": 34
        }
      },
      "source": [
        "#naive-bayes classifier\n",
        "nb_pipeline_ngram = Pipeline([\n",
        "        ('nb_tfidf',tfidf_ngram),\n",
        "        ('nb_clf',MultinomialNB())])\n",
        "\n",
        "nb_pipeline_ngram.fit(train_news['Statement'],train_news['Label'])\n",
        "predicted_nb_ngram = nb_pipeline_ngram.predict(test_news['Statement'])\n",
        "np.mean(predicted_nb_ngram == test_news['Label'])\n"
      ],
      "execution_count": 32,
      "outputs": [
        {
          "output_type": "execute_result",
          "data": {
            "text/plain": [
              "0.5938847510780086"
            ]
          },
          "metadata": {
            "tags": []
          },
          "execution_count": 32
        }
      ]
    },
    {
      "cell_type": "code",
      "metadata": {
        "id": "tpsH4yWqzhb4",
        "colab_type": "code",
        "outputId": "49ed17b5-88d7-4175-f3f7-f3eb3f7f3ff9",
        "colab": {
          "base_uri": "https://localhost:8080/",
          "height": 88
        }
      },
      "source": [
        "#logistic regression classifier\n",
        "logR_pipeline_ngram = Pipeline([\n",
        "        ('LogR_tfidf',tfidf_ngram),\n",
        "        ('LogR_clf',LogisticRegression(penalty=\"l2\",C=1))\n",
        "        ])\n",
        "\n",
        "logR_pipeline_ngram.fit(train_news['Statement'],train_news['Label'])\n",
        "predicted_LogR_ngram = logR_pipeline_ngram.predict(test_news['Statement'])\n",
        "np.mean(predicted_LogR_ngram == test_news['Label'])\n"
      ],
      "execution_count": 33,
      "outputs": [
        {
          "output_type": "stream",
          "text": [
            "/usr/local/lib/python3.6/dist-packages/sklearn/linear_model/logistic.py:432: FutureWarning: Default solver will be changed to 'lbfgs' in 0.22. Specify a solver to silence this warning.\n",
            "  FutureWarning)\n"
          ],
          "name": "stderr"
        },
        {
          "output_type": "execute_result",
          "data": {
            "text/plain": [
              "0.6193649549196394"
            ]
          },
          "metadata": {
            "tags": []
          },
          "execution_count": 33
        }
      ]
    },
    {
      "cell_type": "code",
      "metadata": {
        "id": "Ey8LosaAzhTA",
        "colab_type": "code",
        "outputId": "364e217b-3d68-403a-92d0-8183c2f8ac0a",
        "colab": {
          "base_uri": "https://localhost:8080/",
          "height": 34
        }
      },
      "source": [
        "#linear SVM classifier\n",
        "svm_pipeline_ngram = Pipeline([\n",
        "        ('svm_tfidf',tfidf_ngram),\n",
        "        ('svm_clf',svm.LinearSVC())\n",
        "        ])\n",
        "\n",
        "svm_pipeline_ngram.fit(train_news['Statement'],train_news['Label'])\n",
        "predicted_svm_ngram = svm_pipeline_ngram.predict(test_news['Statement'])\n",
        "np.mean(predicted_svm_ngram == test_news['Label'])\n"
      ],
      "execution_count": 34,
      "outputs": [
        {
          "output_type": "execute_result",
          "data": {
            "text/plain": [
              "0.6170129361034888"
            ]
          },
          "metadata": {
            "tags": []
          },
          "execution_count": 34
        }
      ]
    },
    {
      "cell_type": "code",
      "metadata": {
        "id": "_BocSUuOzhKy",
        "colab_type": "code",
        "outputId": "2b4dea92-cdf5-4a97-b652-abc9f8d0ebc0",
        "colab": {
          "base_uri": "https://localhost:8080/",
          "height": 34
        }
      },
      "source": [
        "#sgd classifier\n",
        "sgd_pipeline_ngram = Pipeline([\n",
        "         ('sgd_tfidf',tfidf_ngram),\n",
        "         ('sgd_clf',SGDClassifier(loss='hinge', penalty='l2', alpha=1e-3))#, n_iter=5))\n",
        "         ])\n",
        "\n",
        "sgd_pipeline_ngram.fit(train_news['Statement'],train_news['Label'])\n",
        "predicted_sgd_ngram = sgd_pipeline_ngram.predict(test_news['Statement'])\n",
        "np.mean(predicted_sgd_ngram == test_news['Label'])\n"
      ],
      "execution_count": 35,
      "outputs": [
        {
          "output_type": "execute_result",
          "data": {
            "text/plain": [
              "0.5417483339866719"
            ]
          },
          "metadata": {
            "tags": []
          },
          "execution_count": 35
        }
      ]
    },
    {
      "cell_type": "code",
      "metadata": {
        "id": "-naSqNuhzhCm",
        "colab_type": "code",
        "outputId": "c06a014b-7186-4dab-b6c1-7fd9453801c0",
        "colab": {
          "base_uri": "https://localhost:8080/",
          "height": 34
        }
      },
      "source": [
        "#random forest classifier\n",
        "random_forest_ngram = Pipeline([\n",
        "        ('rf_tfidf',tfidf_ngram),\n",
        "        ('rf_clf',RandomForestClassifier(n_estimators=300,n_jobs=3))\n",
        "        ])\n",
        "    \n",
        "random_forest_ngram.fit(train_news['Statement'],train_news['Label'])\n",
        "predicted_rf_ngram = random_forest_ngram.predict(test_news['Statement'])\n",
        "np.mean(predicted_rf_ngram == test_news['Label'])\n"
      ],
      "execution_count": 36,
      "outputs": [
        {
          "output_type": "execute_result",
          "data": {
            "text/plain": [
              "0.6009408075264602"
            ]
          },
          "metadata": {
            "tags": []
          },
          "execution_count": 36
        }
      ]
    },
    {
      "cell_type": "code",
      "metadata": {
        "id": "0q6viW9Lzg2H",
        "colab_type": "code",
        "outputId": "255ec691-4ed4-490d-b223-46743ed586c1",
        "colab": {
          "base_uri": "https://localhost:8080/",
          "height": 734
        }
      },
      "source": [
        "#K-fold cross validation for all classifiers\n",
        "build_confusion_matrix(nb_pipeline_ngram)\n",
        "build_confusion_matrix(logR_pipeline_ngram)\n",
        "build_confusion_matrix(svm_pipeline_ngram)\n",
        "build_confusion_matrix(sgd_pipeline_ngram)\n",
        "build_confusion_matrix(random_forest_ngram)"
      ],
      "execution_count": 37,
      "outputs": [
        {
          "output_type": "stream",
          "text": [
            "Total statements classified: 10240\n",
            "Score: 0.7224053159841455\n",
            "score length 5\n",
            "Confusion matrix:\n",
            "[[ 758 3730]\n",
            " [ 390 5362]]\n"
          ],
          "name": "stdout"
        },
        {
          "output_type": "stream",
          "text": [
            "/usr/local/lib/python3.6/dist-packages/sklearn/linear_model/logistic.py:432: FutureWarning: Default solver will be changed to 'lbfgs' in 0.22. Specify a solver to silence this warning.\n",
            "  FutureWarning)\n",
            "/usr/local/lib/python3.6/dist-packages/sklearn/linear_model/logistic.py:432: FutureWarning: Default solver will be changed to 'lbfgs' in 0.22. Specify a solver to silence this warning.\n",
            "  FutureWarning)\n",
            "/usr/local/lib/python3.6/dist-packages/sklearn/linear_model/logistic.py:432: FutureWarning: Default solver will be changed to 'lbfgs' in 0.22. Specify a solver to silence this warning.\n",
            "  FutureWarning)\n",
            "/usr/local/lib/python3.6/dist-packages/sklearn/linear_model/logistic.py:432: FutureWarning: Default solver will be changed to 'lbfgs' in 0.22. Specify a solver to silence this warning.\n",
            "  FutureWarning)\n",
            "/usr/local/lib/python3.6/dist-packages/sklearn/linear_model/logistic.py:432: FutureWarning: Default solver will be changed to 'lbfgs' in 0.22. Specify a solver to silence this warning.\n",
            "  FutureWarning)\n"
          ],
          "name": "stderr"
        },
        {
          "output_type": "stream",
          "text": [
            "Total statements classified: 10240\n",
            "Score: 0.7044355553757985\n",
            "score length 5\n",
            "Confusion matrix:\n",
            "[[1580 2908]\n",
            " [1043 4709]]\n",
            "Total statements classified: 10240\n",
            "Score: 0.6790920142902143\n",
            "score length 5\n",
            "Confusion matrix:\n",
            "[[2016 2472]\n",
            " [1524 4228]]\n",
            "Total statements classified: 10240\n",
            "Score: 0.7190643331130575\n",
            "score length 5\n",
            "Confusion matrix:\n",
            "[[   5 4483]\n",
            " [   6 5746]]\n",
            "Total statements classified: 10240\n",
            "Score: 0.6584902472696372\n",
            "score length 5\n",
            "Confusion matrix:\n",
            "[[2028 2460]\n",
            " [1721 4031]]\n"
          ],
          "name": "stdout"
        },
        {
          "output_type": "execute_result",
          "data": {
            "text/plain": [
              "(None, None, None, None, None)"
            ]
          },
          "metadata": {
            "tags": []
          },
          "execution_count": 37
        }
      ]
    },
    {
      "cell_type": "code",
      "metadata": {
        "id": "n4T1Gp27zgl6",
        "colab_type": "code",
        "outputId": "bf085fc5-99fd-4334-8ee5-db388bdfd167",
        "colab": {
          "base_uri": "https://localhost:8080/",
          "height": 853
        }
      },
      "source": [
        "print(classification_report(test_news['Label'], predicted_nb_ngram))\n",
        "print(classification_report(test_news['Label'], predicted_LogR_ngram))\n",
        "print(classification_report(test_news['Label'], predicted_svm_ngram))\n",
        "print(classification_report(test_news['Label'], predicted_sgd_ngram))\n",
        "print(classification_report(test_news['Label'], predicted_rf_ngram))\n",
        "\n",
        "test_news['Label'].shape\n"
      ],
      "execution_count": 38,
      "outputs": [
        {
          "output_type": "stream",
          "text": [
            "              precision    recall  f1-score   support\n",
            "\n",
            "       False       0.72      0.19      0.30      1169\n",
            "        True       0.58      0.94      0.71      1382\n",
            "\n",
            "    accuracy                           0.59      2551\n",
            "   macro avg       0.65      0.56      0.51      2551\n",
            "weighted avg       0.64      0.59      0.52      2551\n",
            "\n",
            "              precision    recall  f1-score   support\n",
            "\n",
            "       False       0.64      0.39      0.49      1169\n",
            "        True       0.61      0.81      0.70      1382\n",
            "\n",
            "    accuracy                           0.62      2551\n",
            "   macro avg       0.62      0.60      0.59      2551\n",
            "weighted avg       0.62      0.62      0.60      2551\n",
            "\n",
            "              precision    recall  f1-score   support\n",
            "\n",
            "       False       0.61      0.47      0.53      1169\n",
            "        True       0.62      0.74      0.68      1382\n",
            "\n",
            "    accuracy                           0.62      2551\n",
            "   macro avg       0.61      0.61      0.60      2551\n",
            "weighted avg       0.62      0.62      0.61      2551\n",
            "\n",
            "              precision    recall  f1-score   support\n",
            "\n",
            "       False       0.00      0.00      0.00      1169\n",
            "        True       0.54      1.00      0.70      1382\n",
            "\n",
            "    accuracy                           0.54      2551\n",
            "   macro avg       0.27      0.50      0.35      2551\n",
            "weighted avg       0.29      0.54      0.38      2551\n",
            "\n",
            "              precision    recall  f1-score   support\n",
            "\n",
            "       False       0.58      0.47      0.52      1169\n",
            "        True       0.61      0.71      0.66      1382\n",
            "\n",
            "    accuracy                           0.60      2551\n",
            "   macro avg       0.60      0.59      0.59      2551\n",
            "weighted avg       0.60      0.60      0.60      2551\n",
            "\n"
          ],
          "name": "stdout"
        },
        {
          "output_type": "stream",
          "text": [
            "/usr/local/lib/python3.6/dist-packages/sklearn/metrics/classification.py:1437: UndefinedMetricWarning: Precision and F-score are ill-defined and being set to 0.0 in labels with no predicted samples.\n",
            "  'precision', 'predicted', average, warn_for)\n"
          ],
          "name": "stderr"
        },
        {
          "output_type": "execute_result",
          "data": {
            "text/plain": [
              "(2551,)"
            ]
          },
          "metadata": {
            "tags": []
          },
          "execution_count": 38
        }
      ]
    },
    {
      "cell_type": "code",
      "metadata": {
        "colab_type": "code",
        "id": "OEHuVASK6PE3",
        "outputId": "87d53b6b-cf3e-49a6-80f6-fe0aa8688b50",
        "colab": {
          "base_uri": "https://localhost:8080/",
          "height": 1000
        }
      },
      "source": [
        "#random forest classifier parameters\n",
        "parameters = {'rf_tfidf__ngram_range': [(1, 1), (1, 2),(1,3),(1,4),(1,5)],\n",
        "               'rf_tfidf__use_idf': (True, False),\n",
        "               'rf_clf__max_depth': (1,2,3,4,5,6,7,8,9,10,11,12,13,14,15)\n",
        "}\n",
        "\n",
        "gs_clf = GridSearchCV(random_forest_ngram, parameters, cv = 5,n_jobs=-1)\n",
        "gs_clf = gs_clf.fit(train_news['Statement'][:10000],train_news['Label'][:10000])\n",
        "\n",
        "gs_clf.best_score_\n",
        "gs_clf.best_params_\n",
        "gs_clf.cv_results_\n"
      ],
      "execution_count": 39,
      "outputs": [
        {
          "output_type": "execute_result",
          "data": {
            "text/plain": [
              "{'mean_fit_time': array([1.44522519, 1.45280347, 2.00289917, 2.05517449, 2.70621552,\n",
              "        2.70797501, 3.21074286, 3.20161653, 3.71105342, 3.65221953,\n",
              "        1.55888376, 1.52821884, 2.12656016, 2.08620768, 2.70102754,\n",
              "        2.74913907, 3.27527156, 3.25638142, 3.82633152, 3.74545841,\n",
              "        1.52770467, 1.51513839, 2.1823092 , 2.18321729, 2.88461342,\n",
              "        2.89950986, 3.55865016, 3.48363504, 4.0642993 , 4.05136728,\n",
              "        1.67994652, 1.6698432 , 2.35463018, 2.35802026, 3.34158425,\n",
              "        3.22386603, 3.91261258, 3.83141842, 4.34665079, 4.37040997,\n",
              "        1.77482953, 1.75852513, 2.62061381, 2.6524374 , 3.41002679,\n",
              "        3.26902924, 4.11433806, 4.01649036, 4.65645351, 4.7033947 ,\n",
              "        1.82613435, 1.78859987, 2.57805157, 2.63869333, 3.58536744,\n",
              "        3.40316763, 4.25863423, 4.25049944, 5.04684672, 5.01303053,\n",
              "        1.92462149, 1.9005929 , 2.92457733, 2.88270917, 3.89758306,\n",
              "        3.80754433, 4.62936511, 4.66252909, 5.31720667, 5.27568517,\n",
              "        2.01258054, 1.97344222, 3.06225691, 2.98735819, 4.19658751,\n",
              "        4.1365736 , 4.97881775, 4.99928131, 5.84660444, 5.8982162 ,\n",
              "        2.13949261, 2.1308084 , 3.29602242, 3.30113835, 4.3927145 ,\n",
              "        4.17406645, 5.29843774, 5.09980478, 6.08551416, 6.10108929,\n",
              "        2.2571578 , 2.21042967, 3.55731449, 3.38277788, 4.81673126,\n",
              "        4.75426459, 5.87638416, 5.7826189 , 6.62593846, 6.65019379,\n",
              "        2.41448569, 2.38738956, 3.7531363 , 3.566293  , 5.017416  ,\n",
              "        5.18190551, 6.18543711, 6.02102113, 7.1063643 , 7.12256756,\n",
              "        2.50880175, 2.47378359, 3.95133772, 3.80635099, 5.25686312,\n",
              "        5.37510009, 7.02686496, 6.5487936 , 7.5411386 , 7.71114416,\n",
              "        2.59927449, 2.55100498, 4.02916613, 4.11492319, 5.75294657,\n",
              "        5.69974084, 7.09104066, 7.03663416, 8.29409776, 8.37749205,\n",
              "        2.90382209, 2.7818284 , 4.66840634, 4.53539853, 6.29260845,\n",
              "        5.90823216, 7.87010684, 7.59226909, 8.66991959, 8.88403721,\n",
              "        2.92053127, 2.84364738, 4.63159704, 4.6609539 , 6.08014488,\n",
              "        6.23952503, 8.13133636, 7.88634248, 9.08053188, 8.60643697]),\n",
              " 'mean_score_time': array([0.27255669, 0.27071261, 0.39879432, 0.40217991, 0.42396636,\n",
              "        0.41228647, 0.52642145, 0.52399354, 0.63849549, 0.61730523,\n",
              "        0.2752748 , 0.26469493, 0.41153417, 0.37959867, 0.48503666,\n",
              "        0.46286197, 0.54637704, 0.477737  , 0.56946063, 0.59338064,\n",
              "        0.27358789, 0.27198548, 0.40142326, 0.41295929, 0.45699215,\n",
              "        0.44595432, 0.531107  , 0.53588867, 0.63993912, 0.62107682,\n",
              "        0.27533984, 0.26858296, 0.41666727, 0.40878096, 0.4856143 ,\n",
              "        0.48282976, 0.58425255, 0.52610121, 0.60462976, 0.62193408,\n",
              "        0.26981959, 0.26538157, 0.41932631, 0.40398517, 0.44441581,\n",
              "        0.45818768, 0.51906486, 0.55382266, 0.59535928, 0.61262598,\n",
              "        0.28084354, 0.2759531 , 0.42315226, 0.40984607, 0.4655015 ,\n",
              "        0.45060267, 0.56361642, 0.52316155, 0.59535418, 0.57243514,\n",
              "        0.27626262, 0.27986226, 0.41818724, 0.40142646, 0.42513485,\n",
              "        0.45068417, 0.55842028, 0.52546129, 0.59942322, 0.59013429,\n",
              "        0.27887464, 0.26828909, 0.42013645, 0.40060458, 0.43108535,\n",
              "        0.47384043, 0.51424475, 0.52694197, 0.59166327, 0.59627137,\n",
              "        0.27640181, 0.2654861 , 0.43200936, 0.41750131, 0.44895744,\n",
              "        0.44599304, 0.49180088, 0.51026959, 0.58518877, 0.60494561,\n",
              "        0.26664786, 0.25956931, 0.41436338, 0.40943952, 0.48463216,\n",
              "        0.44307904, 0.59572153, 0.54685311, 0.67011971, 0.62292209,\n",
              "        0.28604574, 0.27560911, 0.44469094, 0.42839942, 0.44909143,\n",
              "        0.44862652, 0.56918273, 0.50807385, 0.62915945, 0.64014263,\n",
              "        0.29621601, 0.28681469, 0.42666121, 0.42480936, 0.48805723,\n",
              "        0.4759408 , 0.5300457 , 0.51828542, 0.61091552, 0.63144155,\n",
              "        0.29191232, 0.28706121, 0.46045356, 0.42119255, 0.50160031,\n",
              "        0.44766302, 0.56880345, 0.51176734, 0.68800783, 0.69393225,\n",
              "        0.34186482, 0.27481217, 0.45193849, 0.42978292, 0.53565264,\n",
              "        0.49737992, 0.52678151, 0.5482295 , 0.66405811, 0.60485611,\n",
              "        0.29318614, 0.30752454, 0.4728353 , 0.45275636, 0.55564365,\n",
              "        0.56498814, 0.64546609, 0.58218565, 0.66547704, 0.6900044 ]),\n",
              " 'mean_test_score': array([0.5611, 0.5611, 0.5611, 0.5611, 0.5611, 0.5611, 0.5611, 0.5611,\n",
              "        0.5611, 0.5611, 0.5611, 0.5611, 0.5611, 0.5611, 0.5611, 0.5611,\n",
              "        0.5611, 0.5611, 0.5611, 0.5611, 0.5611, 0.5611, 0.5611, 0.5611,\n",
              "        0.5611, 0.5611, 0.5611, 0.5611, 0.5611, 0.5611, 0.5611, 0.5611,\n",
              "        0.5611, 0.5611, 0.5611, 0.5611, 0.5611, 0.5611, 0.5611, 0.5611,\n",
              "        0.5611, 0.5611, 0.5611, 0.5611, 0.5611, 0.5611, 0.5611, 0.5611,\n",
              "        0.5611, 0.5611, 0.5611, 0.5611, 0.5611, 0.5611, 0.5611, 0.5611,\n",
              "        0.5611, 0.5611, 0.5611, 0.5611, 0.5611, 0.5611, 0.5611, 0.5611,\n",
              "        0.5613, 0.5611, 0.5612, 0.5612, 0.561 , 0.5611, 0.5613, 0.5611,\n",
              "        0.5615, 0.5612, 0.5612, 0.5611, 0.5612, 0.5612, 0.5611, 0.561 ,\n",
              "        0.5617, 0.5617, 0.5618, 0.5613, 0.5607, 0.5615, 0.5617, 0.5612,\n",
              "        0.5612, 0.5612, 0.5626, 0.5626, 0.5622, 0.5614, 0.5618, 0.5622,\n",
              "        0.5615, 0.5612, 0.5615, 0.5613, 0.5623, 0.5629, 0.5625, 0.5618,\n",
              "        0.5629, 0.5626, 0.5622, 0.5619, 0.5618, 0.5617, 0.5628, 0.5641,\n",
              "        0.5629, 0.5629, 0.5632, 0.5621, 0.5625, 0.5618, 0.5624, 0.5624,\n",
              "        0.5649, 0.565 , 0.5647, 0.5639, 0.564 , 0.5637, 0.5623, 0.563 ,\n",
              "        0.5617, 0.5625, 0.5667, 0.5663, 0.5642, 0.5647, 0.5642, 0.5638,\n",
              "        0.5637, 0.5634, 0.5627, 0.5626, 0.5661, 0.5681, 0.5656, 0.5649,\n",
              "        0.5648, 0.5647, 0.5645, 0.564 , 0.5643, 0.563 ]),\n",
              " 'param_rf_clf__max_depth': masked_array(data=[1, 1, 1, 1, 1, 1, 1, 1, 1, 1, 2, 2, 2, 2, 2, 2, 2, 2,\n",
              "                    2, 2, 3, 3, 3, 3, 3, 3, 3, 3, 3, 3, 4, 4, 4, 4, 4, 4,\n",
              "                    4, 4, 4, 4, 5, 5, 5, 5, 5, 5, 5, 5, 5, 5, 6, 6, 6, 6,\n",
              "                    6, 6, 6, 6, 6, 6, 7, 7, 7, 7, 7, 7, 7, 7, 7, 7, 8, 8,\n",
              "                    8, 8, 8, 8, 8, 8, 8, 8, 9, 9, 9, 9, 9, 9, 9, 9, 9, 9,\n",
              "                    10, 10, 10, 10, 10, 10, 10, 10, 10, 10, 11, 11, 11, 11,\n",
              "                    11, 11, 11, 11, 11, 11, 12, 12, 12, 12, 12, 12, 12, 12,\n",
              "                    12, 12, 13, 13, 13, 13, 13, 13, 13, 13, 13, 13, 14, 14,\n",
              "                    14, 14, 14, 14, 14, 14, 14, 14, 15, 15, 15, 15, 15, 15,\n",
              "                    15, 15, 15, 15],\n",
              "              mask=[False, False, False, False, False, False, False, False,\n",
              "                    False, False, False, False, False, False, False, False,\n",
              "                    False, False, False, False, False, False, False, False,\n",
              "                    False, False, False, False, False, False, False, False,\n",
              "                    False, False, False, False, False, False, False, False,\n",
              "                    False, False, False, False, False, False, False, False,\n",
              "                    False, False, False, False, False, False, False, False,\n",
              "                    False, False, False, False, False, False, False, False,\n",
              "                    False, False, False, False, False, False, False, False,\n",
              "                    False, False, False, False, False, False, False, False,\n",
              "                    False, False, False, False, False, False, False, False,\n",
              "                    False, False, False, False, False, False, False, False,\n",
              "                    False, False, False, False, False, False, False, False,\n",
              "                    False, False, False, False, False, False, False, False,\n",
              "                    False, False, False, False, False, False, False, False,\n",
              "                    False, False, False, False, False, False, False, False,\n",
              "                    False, False, False, False, False, False, False, False,\n",
              "                    False, False, False, False, False, False, False, False,\n",
              "                    False, False, False, False, False, False],\n",
              "        fill_value='?',\n",
              "             dtype=object),\n",
              " 'param_rf_tfidf__ngram_range': masked_array(data=[(1, 1), (1, 1), (1, 2), (1, 2), (1, 3), (1, 3), (1, 4),\n",
              "                    (1, 4), (1, 5), (1, 5), (1, 1), (1, 1), (1, 2), (1, 2),\n",
              "                    (1, 3), (1, 3), (1, 4), (1, 4), (1, 5), (1, 5), (1, 1),\n",
              "                    (1, 1), (1, 2), (1, 2), (1, 3), (1, 3), (1, 4), (1, 4),\n",
              "                    (1, 5), (1, 5), (1, 1), (1, 1), (1, 2), (1, 2), (1, 3),\n",
              "                    (1, 3), (1, 4), (1, 4), (1, 5), (1, 5), (1, 1), (1, 1),\n",
              "                    (1, 2), (1, 2), (1, 3), (1, 3), (1, 4), (1, 4), (1, 5),\n",
              "                    (1, 5), (1, 1), (1, 1), (1, 2), (1, 2), (1, 3), (1, 3),\n",
              "                    (1, 4), (1, 4), (1, 5), (1, 5), (1, 1), (1, 1), (1, 2),\n",
              "                    (1, 2), (1, 3), (1, 3), (1, 4), (1, 4), (1, 5), (1, 5),\n",
              "                    (1, 1), (1, 1), (1, 2), (1, 2), (1, 3), (1, 3), (1, 4),\n",
              "                    (1, 4), (1, 5), (1, 5), (1, 1), (1, 1), (1, 2), (1, 2),\n",
              "                    (1, 3), (1, 3), (1, 4), (1, 4), (1, 5), (1, 5), (1, 1),\n",
              "                    (1, 1), (1, 2), (1, 2), (1, 3), (1, 3), (1, 4), (1, 4),\n",
              "                    (1, 5), (1, 5), (1, 1), (1, 1), (1, 2), (1, 2), (1, 3),\n",
              "                    (1, 3), (1, 4), (1, 4), (1, 5), (1, 5), (1, 1), (1, 1),\n",
              "                    (1, 2), (1, 2), (1, 3), (1, 3), (1, 4), (1, 4), (1, 5),\n",
              "                    (1, 5), (1, 1), (1, 1), (1, 2), (1, 2), (1, 3), (1, 3),\n",
              "                    (1, 4), (1, 4), (1, 5), (1, 5), (1, 1), (1, 1), (1, 2),\n",
              "                    (1, 2), (1, 3), (1, 3), (1, 4), (1, 4), (1, 5), (1, 5),\n",
              "                    (1, 1), (1, 1), (1, 2), (1, 2), (1, 3), (1, 3), (1, 4),\n",
              "                    (1, 4), (1, 5), (1, 5)],\n",
              "              mask=[False, False, False, False, False, False, False, False,\n",
              "                    False, False, False, False, False, False, False, False,\n",
              "                    False, False, False, False, False, False, False, False,\n",
              "                    False, False, False, False, False, False, False, False,\n",
              "                    False, False, False, False, False, False, False, False,\n",
              "                    False, False, False, False, False, False, False, False,\n",
              "                    False, False, False, False, False, False, False, False,\n",
              "                    False, False, False, False, False, False, False, False,\n",
              "                    False, False, False, False, False, False, False, False,\n",
              "                    False, False, False, False, False, False, False, False,\n",
              "                    False, False, False, False, False, False, False, False,\n",
              "                    False, False, False, False, False, False, False, False,\n",
              "                    False, False, False, False, False, False, False, False,\n",
              "                    False, False, False, False, False, False, False, False,\n",
              "                    False, False, False, False, False, False, False, False,\n",
              "                    False, False, False, False, False, False, False, False,\n",
              "                    False, False, False, False, False, False, False, False,\n",
              "                    False, False, False, False, False, False, False, False,\n",
              "                    False, False, False, False, False, False],\n",
              "        fill_value='?',\n",
              "             dtype=object),\n",
              " 'param_rf_tfidf__use_idf': masked_array(data=[True, False, True, False, True, False, True, False,\n",
              "                    True, False, True, False, True, False, True, False,\n",
              "                    True, False, True, False, True, False, True, False,\n",
              "                    True, False, True, False, True, False, True, False,\n",
              "                    True, False, True, False, True, False, True, False,\n",
              "                    True, False, True, False, True, False, True, False,\n",
              "                    True, False, True, False, True, False, True, False,\n",
              "                    True, False, True, False, True, False, True, False,\n",
              "                    True, False, True, False, True, False, True, False,\n",
              "                    True, False, True, False, True, False, True, False,\n",
              "                    True, False, True, False, True, False, True, False,\n",
              "                    True, False, True, False, True, False, True, False,\n",
              "                    True, False, True, False, True, False, True, False,\n",
              "                    True, False, True, False, True, False, True, False,\n",
              "                    True, False, True, False, True, False, True, False,\n",
              "                    True, False, True, False, True, False, True, False,\n",
              "                    True, False, True, False, True, False, True, False,\n",
              "                    True, False, True, False, True, False, True, False,\n",
              "                    True, False, True, False, True, False],\n",
              "              mask=[False, False, False, False, False, False, False, False,\n",
              "                    False, False, False, False, False, False, False, False,\n",
              "                    False, False, False, False, False, False, False, False,\n",
              "                    False, False, False, False, False, False, False, False,\n",
              "                    False, False, False, False, False, False, False, False,\n",
              "                    False, False, False, False, False, False, False, False,\n",
              "                    False, False, False, False, False, False, False, False,\n",
              "                    False, False, False, False, False, False, False, False,\n",
              "                    False, False, False, False, False, False, False, False,\n",
              "                    False, False, False, False, False, False, False, False,\n",
              "                    False, False, False, False, False, False, False, False,\n",
              "                    False, False, False, False, False, False, False, False,\n",
              "                    False, False, False, False, False, False, False, False,\n",
              "                    False, False, False, False, False, False, False, False,\n",
              "                    False, False, False, False, False, False, False, False,\n",
              "                    False, False, False, False, False, False, False, False,\n",
              "                    False, False, False, False, False, False, False, False,\n",
              "                    False, False, False, False, False, False, False, False,\n",
              "                    False, False, False, False, False, False],\n",
              "        fill_value='?',\n",
              "             dtype=object),\n",
              " 'params': [{'rf_clf__max_depth': 1,\n",
              "   'rf_tfidf__ngram_range': (1, 1),\n",
              "   'rf_tfidf__use_idf': True},\n",
              "  {'rf_clf__max_depth': 1,\n",
              "   'rf_tfidf__ngram_range': (1, 1),\n",
              "   'rf_tfidf__use_idf': False},\n",
              "  {'rf_clf__max_depth': 1,\n",
              "   'rf_tfidf__ngram_range': (1, 2),\n",
              "   'rf_tfidf__use_idf': True},\n",
              "  {'rf_clf__max_depth': 1,\n",
              "   'rf_tfidf__ngram_range': (1, 2),\n",
              "   'rf_tfidf__use_idf': False},\n",
              "  {'rf_clf__max_depth': 1,\n",
              "   'rf_tfidf__ngram_range': (1, 3),\n",
              "   'rf_tfidf__use_idf': True},\n",
              "  {'rf_clf__max_depth': 1,\n",
              "   'rf_tfidf__ngram_range': (1, 3),\n",
              "   'rf_tfidf__use_idf': False},\n",
              "  {'rf_clf__max_depth': 1,\n",
              "   'rf_tfidf__ngram_range': (1, 4),\n",
              "   'rf_tfidf__use_idf': True},\n",
              "  {'rf_clf__max_depth': 1,\n",
              "   'rf_tfidf__ngram_range': (1, 4),\n",
              "   'rf_tfidf__use_idf': False},\n",
              "  {'rf_clf__max_depth': 1,\n",
              "   'rf_tfidf__ngram_range': (1, 5),\n",
              "   'rf_tfidf__use_idf': True},\n",
              "  {'rf_clf__max_depth': 1,\n",
              "   'rf_tfidf__ngram_range': (1, 5),\n",
              "   'rf_tfidf__use_idf': False},\n",
              "  {'rf_clf__max_depth': 2,\n",
              "   'rf_tfidf__ngram_range': (1, 1),\n",
              "   'rf_tfidf__use_idf': True},\n",
              "  {'rf_clf__max_depth': 2,\n",
              "   'rf_tfidf__ngram_range': (1, 1),\n",
              "   'rf_tfidf__use_idf': False},\n",
              "  {'rf_clf__max_depth': 2,\n",
              "   'rf_tfidf__ngram_range': (1, 2),\n",
              "   'rf_tfidf__use_idf': True},\n",
              "  {'rf_clf__max_depth': 2,\n",
              "   'rf_tfidf__ngram_range': (1, 2),\n",
              "   'rf_tfidf__use_idf': False},\n",
              "  {'rf_clf__max_depth': 2,\n",
              "   'rf_tfidf__ngram_range': (1, 3),\n",
              "   'rf_tfidf__use_idf': True},\n",
              "  {'rf_clf__max_depth': 2,\n",
              "   'rf_tfidf__ngram_range': (1, 3),\n",
              "   'rf_tfidf__use_idf': False},\n",
              "  {'rf_clf__max_depth': 2,\n",
              "   'rf_tfidf__ngram_range': (1, 4),\n",
              "   'rf_tfidf__use_idf': True},\n",
              "  {'rf_clf__max_depth': 2,\n",
              "   'rf_tfidf__ngram_range': (1, 4),\n",
              "   'rf_tfidf__use_idf': False},\n",
              "  {'rf_clf__max_depth': 2,\n",
              "   'rf_tfidf__ngram_range': (1, 5),\n",
              "   'rf_tfidf__use_idf': True},\n",
              "  {'rf_clf__max_depth': 2,\n",
              "   'rf_tfidf__ngram_range': (1, 5),\n",
              "   'rf_tfidf__use_idf': False},\n",
              "  {'rf_clf__max_depth': 3,\n",
              "   'rf_tfidf__ngram_range': (1, 1),\n",
              "   'rf_tfidf__use_idf': True},\n",
              "  {'rf_clf__max_depth': 3,\n",
              "   'rf_tfidf__ngram_range': (1, 1),\n",
              "   'rf_tfidf__use_idf': False},\n",
              "  {'rf_clf__max_depth': 3,\n",
              "   'rf_tfidf__ngram_range': (1, 2),\n",
              "   'rf_tfidf__use_idf': True},\n",
              "  {'rf_clf__max_depth': 3,\n",
              "   'rf_tfidf__ngram_range': (1, 2),\n",
              "   'rf_tfidf__use_idf': False},\n",
              "  {'rf_clf__max_depth': 3,\n",
              "   'rf_tfidf__ngram_range': (1, 3),\n",
              "   'rf_tfidf__use_idf': True},\n",
              "  {'rf_clf__max_depth': 3,\n",
              "   'rf_tfidf__ngram_range': (1, 3),\n",
              "   'rf_tfidf__use_idf': False},\n",
              "  {'rf_clf__max_depth': 3,\n",
              "   'rf_tfidf__ngram_range': (1, 4),\n",
              "   'rf_tfidf__use_idf': True},\n",
              "  {'rf_clf__max_depth': 3,\n",
              "   'rf_tfidf__ngram_range': (1, 4),\n",
              "   'rf_tfidf__use_idf': False},\n",
              "  {'rf_clf__max_depth': 3,\n",
              "   'rf_tfidf__ngram_range': (1, 5),\n",
              "   'rf_tfidf__use_idf': True},\n",
              "  {'rf_clf__max_depth': 3,\n",
              "   'rf_tfidf__ngram_range': (1, 5),\n",
              "   'rf_tfidf__use_idf': False},\n",
              "  {'rf_clf__max_depth': 4,\n",
              "   'rf_tfidf__ngram_range': (1, 1),\n",
              "   'rf_tfidf__use_idf': True},\n",
              "  {'rf_clf__max_depth': 4,\n",
              "   'rf_tfidf__ngram_range': (1, 1),\n",
              "   'rf_tfidf__use_idf': False},\n",
              "  {'rf_clf__max_depth': 4,\n",
              "   'rf_tfidf__ngram_range': (1, 2),\n",
              "   'rf_tfidf__use_idf': True},\n",
              "  {'rf_clf__max_depth': 4,\n",
              "   'rf_tfidf__ngram_range': (1, 2),\n",
              "   'rf_tfidf__use_idf': False},\n",
              "  {'rf_clf__max_depth': 4,\n",
              "   'rf_tfidf__ngram_range': (1, 3),\n",
              "   'rf_tfidf__use_idf': True},\n",
              "  {'rf_clf__max_depth': 4,\n",
              "   'rf_tfidf__ngram_range': (1, 3),\n",
              "   'rf_tfidf__use_idf': False},\n",
              "  {'rf_clf__max_depth': 4,\n",
              "   'rf_tfidf__ngram_range': (1, 4),\n",
              "   'rf_tfidf__use_idf': True},\n",
              "  {'rf_clf__max_depth': 4,\n",
              "   'rf_tfidf__ngram_range': (1, 4),\n",
              "   'rf_tfidf__use_idf': False},\n",
              "  {'rf_clf__max_depth': 4,\n",
              "   'rf_tfidf__ngram_range': (1, 5),\n",
              "   'rf_tfidf__use_idf': True},\n",
              "  {'rf_clf__max_depth': 4,\n",
              "   'rf_tfidf__ngram_range': (1, 5),\n",
              "   'rf_tfidf__use_idf': False},\n",
              "  {'rf_clf__max_depth': 5,\n",
              "   'rf_tfidf__ngram_range': (1, 1),\n",
              "   'rf_tfidf__use_idf': True},\n",
              "  {'rf_clf__max_depth': 5,\n",
              "   'rf_tfidf__ngram_range': (1, 1),\n",
              "   'rf_tfidf__use_idf': False},\n",
              "  {'rf_clf__max_depth': 5,\n",
              "   'rf_tfidf__ngram_range': (1, 2),\n",
              "   'rf_tfidf__use_idf': True},\n",
              "  {'rf_clf__max_depth': 5,\n",
              "   'rf_tfidf__ngram_range': (1, 2),\n",
              "   'rf_tfidf__use_idf': False},\n",
              "  {'rf_clf__max_depth': 5,\n",
              "   'rf_tfidf__ngram_range': (1, 3),\n",
              "   'rf_tfidf__use_idf': True},\n",
              "  {'rf_clf__max_depth': 5,\n",
              "   'rf_tfidf__ngram_range': (1, 3),\n",
              "   'rf_tfidf__use_idf': False},\n",
              "  {'rf_clf__max_depth': 5,\n",
              "   'rf_tfidf__ngram_range': (1, 4),\n",
              "   'rf_tfidf__use_idf': True},\n",
              "  {'rf_clf__max_depth': 5,\n",
              "   'rf_tfidf__ngram_range': (1, 4),\n",
              "   'rf_tfidf__use_idf': False},\n",
              "  {'rf_clf__max_depth': 5,\n",
              "   'rf_tfidf__ngram_range': (1, 5),\n",
              "   'rf_tfidf__use_idf': True},\n",
              "  {'rf_clf__max_depth': 5,\n",
              "   'rf_tfidf__ngram_range': (1, 5),\n",
              "   'rf_tfidf__use_idf': False},\n",
              "  {'rf_clf__max_depth': 6,\n",
              "   'rf_tfidf__ngram_range': (1, 1),\n",
              "   'rf_tfidf__use_idf': True},\n",
              "  {'rf_clf__max_depth': 6,\n",
              "   'rf_tfidf__ngram_range': (1, 1),\n",
              "   'rf_tfidf__use_idf': False},\n",
              "  {'rf_clf__max_depth': 6,\n",
              "   'rf_tfidf__ngram_range': (1, 2),\n",
              "   'rf_tfidf__use_idf': True},\n",
              "  {'rf_clf__max_depth': 6,\n",
              "   'rf_tfidf__ngram_range': (1, 2),\n",
              "   'rf_tfidf__use_idf': False},\n",
              "  {'rf_clf__max_depth': 6,\n",
              "   'rf_tfidf__ngram_range': (1, 3),\n",
              "   'rf_tfidf__use_idf': True},\n",
              "  {'rf_clf__max_depth': 6,\n",
              "   'rf_tfidf__ngram_range': (1, 3),\n",
              "   'rf_tfidf__use_idf': False},\n",
              "  {'rf_clf__max_depth': 6,\n",
              "   'rf_tfidf__ngram_range': (1, 4),\n",
              "   'rf_tfidf__use_idf': True},\n",
              "  {'rf_clf__max_depth': 6,\n",
              "   'rf_tfidf__ngram_range': (1, 4),\n",
              "   'rf_tfidf__use_idf': False},\n",
              "  {'rf_clf__max_depth': 6,\n",
              "   'rf_tfidf__ngram_range': (1, 5),\n",
              "   'rf_tfidf__use_idf': True},\n",
              "  {'rf_clf__max_depth': 6,\n",
              "   'rf_tfidf__ngram_range': (1, 5),\n",
              "   'rf_tfidf__use_idf': False},\n",
              "  {'rf_clf__max_depth': 7,\n",
              "   'rf_tfidf__ngram_range': (1, 1),\n",
              "   'rf_tfidf__use_idf': True},\n",
              "  {'rf_clf__max_depth': 7,\n",
              "   'rf_tfidf__ngram_range': (1, 1),\n",
              "   'rf_tfidf__use_idf': False},\n",
              "  {'rf_clf__max_depth': 7,\n",
              "   'rf_tfidf__ngram_range': (1, 2),\n",
              "   'rf_tfidf__use_idf': True},\n",
              "  {'rf_clf__max_depth': 7,\n",
              "   'rf_tfidf__ngram_range': (1, 2),\n",
              "   'rf_tfidf__use_idf': False},\n",
              "  {'rf_clf__max_depth': 7,\n",
              "   'rf_tfidf__ngram_range': (1, 3),\n",
              "   'rf_tfidf__use_idf': True},\n",
              "  {'rf_clf__max_depth': 7,\n",
              "   'rf_tfidf__ngram_range': (1, 3),\n",
              "   'rf_tfidf__use_idf': False},\n",
              "  {'rf_clf__max_depth': 7,\n",
              "   'rf_tfidf__ngram_range': (1, 4),\n",
              "   'rf_tfidf__use_idf': True},\n",
              "  {'rf_clf__max_depth': 7,\n",
              "   'rf_tfidf__ngram_range': (1, 4),\n",
              "   'rf_tfidf__use_idf': False},\n",
              "  {'rf_clf__max_depth': 7,\n",
              "   'rf_tfidf__ngram_range': (1, 5),\n",
              "   'rf_tfidf__use_idf': True},\n",
              "  {'rf_clf__max_depth': 7,\n",
              "   'rf_tfidf__ngram_range': (1, 5),\n",
              "   'rf_tfidf__use_idf': False},\n",
              "  {'rf_clf__max_depth': 8,\n",
              "   'rf_tfidf__ngram_range': (1, 1),\n",
              "   'rf_tfidf__use_idf': True},\n",
              "  {'rf_clf__max_depth': 8,\n",
              "   'rf_tfidf__ngram_range': (1, 1),\n",
              "   'rf_tfidf__use_idf': False},\n",
              "  {'rf_clf__max_depth': 8,\n",
              "   'rf_tfidf__ngram_range': (1, 2),\n",
              "   'rf_tfidf__use_idf': True},\n",
              "  {'rf_clf__max_depth': 8,\n",
              "   'rf_tfidf__ngram_range': (1, 2),\n",
              "   'rf_tfidf__use_idf': False},\n",
              "  {'rf_clf__max_depth': 8,\n",
              "   'rf_tfidf__ngram_range': (1, 3),\n",
              "   'rf_tfidf__use_idf': True},\n",
              "  {'rf_clf__max_depth': 8,\n",
              "   'rf_tfidf__ngram_range': (1, 3),\n",
              "   'rf_tfidf__use_idf': False},\n",
              "  {'rf_clf__max_depth': 8,\n",
              "   'rf_tfidf__ngram_range': (1, 4),\n",
              "   'rf_tfidf__use_idf': True},\n",
              "  {'rf_clf__max_depth': 8,\n",
              "   'rf_tfidf__ngram_range': (1, 4),\n",
              "   'rf_tfidf__use_idf': False},\n",
              "  {'rf_clf__max_depth': 8,\n",
              "   'rf_tfidf__ngram_range': (1, 5),\n",
              "   'rf_tfidf__use_idf': True},\n",
              "  {'rf_clf__max_depth': 8,\n",
              "   'rf_tfidf__ngram_range': (1, 5),\n",
              "   'rf_tfidf__use_idf': False},\n",
              "  {'rf_clf__max_depth': 9,\n",
              "   'rf_tfidf__ngram_range': (1, 1),\n",
              "   'rf_tfidf__use_idf': True},\n",
              "  {'rf_clf__max_depth': 9,\n",
              "   'rf_tfidf__ngram_range': (1, 1),\n",
              "   'rf_tfidf__use_idf': False},\n",
              "  {'rf_clf__max_depth': 9,\n",
              "   'rf_tfidf__ngram_range': (1, 2),\n",
              "   'rf_tfidf__use_idf': True},\n",
              "  {'rf_clf__max_depth': 9,\n",
              "   'rf_tfidf__ngram_range': (1, 2),\n",
              "   'rf_tfidf__use_idf': False},\n",
              "  {'rf_clf__max_depth': 9,\n",
              "   'rf_tfidf__ngram_range': (1, 3),\n",
              "   'rf_tfidf__use_idf': True},\n",
              "  {'rf_clf__max_depth': 9,\n",
              "   'rf_tfidf__ngram_range': (1, 3),\n",
              "   'rf_tfidf__use_idf': False},\n",
              "  {'rf_clf__max_depth': 9,\n",
              "   'rf_tfidf__ngram_range': (1, 4),\n",
              "   'rf_tfidf__use_idf': True},\n",
              "  {'rf_clf__max_depth': 9,\n",
              "   'rf_tfidf__ngram_range': (1, 4),\n",
              "   'rf_tfidf__use_idf': False},\n",
              "  {'rf_clf__max_depth': 9,\n",
              "   'rf_tfidf__ngram_range': (1, 5),\n",
              "   'rf_tfidf__use_idf': True},\n",
              "  {'rf_clf__max_depth': 9,\n",
              "   'rf_tfidf__ngram_range': (1, 5),\n",
              "   'rf_tfidf__use_idf': False},\n",
              "  {'rf_clf__max_depth': 10,\n",
              "   'rf_tfidf__ngram_range': (1, 1),\n",
              "   'rf_tfidf__use_idf': True},\n",
              "  {'rf_clf__max_depth': 10,\n",
              "   'rf_tfidf__ngram_range': (1, 1),\n",
              "   'rf_tfidf__use_idf': False},\n",
              "  {'rf_clf__max_depth': 10,\n",
              "   'rf_tfidf__ngram_range': (1, 2),\n",
              "   'rf_tfidf__use_idf': True},\n",
              "  {'rf_clf__max_depth': 10,\n",
              "   'rf_tfidf__ngram_range': (1, 2),\n",
              "   'rf_tfidf__use_idf': False},\n",
              "  {'rf_clf__max_depth': 10,\n",
              "   'rf_tfidf__ngram_range': (1, 3),\n",
              "   'rf_tfidf__use_idf': True},\n",
              "  {'rf_clf__max_depth': 10,\n",
              "   'rf_tfidf__ngram_range': (1, 3),\n",
              "   'rf_tfidf__use_idf': False},\n",
              "  {'rf_clf__max_depth': 10,\n",
              "   'rf_tfidf__ngram_range': (1, 4),\n",
              "   'rf_tfidf__use_idf': True},\n",
              "  {'rf_clf__max_depth': 10,\n",
              "   'rf_tfidf__ngram_range': (1, 4),\n",
              "   'rf_tfidf__use_idf': False},\n",
              "  {'rf_clf__max_depth': 10,\n",
              "   'rf_tfidf__ngram_range': (1, 5),\n",
              "   'rf_tfidf__use_idf': True},\n",
              "  {'rf_clf__max_depth': 10,\n",
              "   'rf_tfidf__ngram_range': (1, 5),\n",
              "   'rf_tfidf__use_idf': False},\n",
              "  {'rf_clf__max_depth': 11,\n",
              "   'rf_tfidf__ngram_range': (1, 1),\n",
              "   'rf_tfidf__use_idf': True},\n",
              "  {'rf_clf__max_depth': 11,\n",
              "   'rf_tfidf__ngram_range': (1, 1),\n",
              "   'rf_tfidf__use_idf': False},\n",
              "  {'rf_clf__max_depth': 11,\n",
              "   'rf_tfidf__ngram_range': (1, 2),\n",
              "   'rf_tfidf__use_idf': True},\n",
              "  {'rf_clf__max_depth': 11,\n",
              "   'rf_tfidf__ngram_range': (1, 2),\n",
              "   'rf_tfidf__use_idf': False},\n",
              "  {'rf_clf__max_depth': 11,\n",
              "   'rf_tfidf__ngram_range': (1, 3),\n",
              "   'rf_tfidf__use_idf': True},\n",
              "  {'rf_clf__max_depth': 11,\n",
              "   'rf_tfidf__ngram_range': (1, 3),\n",
              "   'rf_tfidf__use_idf': False},\n",
              "  {'rf_clf__max_depth': 11,\n",
              "   'rf_tfidf__ngram_range': (1, 4),\n",
              "   'rf_tfidf__use_idf': True},\n",
              "  {'rf_clf__max_depth': 11,\n",
              "   'rf_tfidf__ngram_range': (1, 4),\n",
              "   'rf_tfidf__use_idf': False},\n",
              "  {'rf_clf__max_depth': 11,\n",
              "   'rf_tfidf__ngram_range': (1, 5),\n",
              "   'rf_tfidf__use_idf': True},\n",
              "  {'rf_clf__max_depth': 11,\n",
              "   'rf_tfidf__ngram_range': (1, 5),\n",
              "   'rf_tfidf__use_idf': False},\n",
              "  {'rf_clf__max_depth': 12,\n",
              "   'rf_tfidf__ngram_range': (1, 1),\n",
              "   'rf_tfidf__use_idf': True},\n",
              "  {'rf_clf__max_depth': 12,\n",
              "   'rf_tfidf__ngram_range': (1, 1),\n",
              "   'rf_tfidf__use_idf': False},\n",
              "  {'rf_clf__max_depth': 12,\n",
              "   'rf_tfidf__ngram_range': (1, 2),\n",
              "   'rf_tfidf__use_idf': True},\n",
              "  {'rf_clf__max_depth': 12,\n",
              "   'rf_tfidf__ngram_range': (1, 2),\n",
              "   'rf_tfidf__use_idf': False},\n",
              "  {'rf_clf__max_depth': 12,\n",
              "   'rf_tfidf__ngram_range': (1, 3),\n",
              "   'rf_tfidf__use_idf': True},\n",
              "  {'rf_clf__max_depth': 12,\n",
              "   'rf_tfidf__ngram_range': (1, 3),\n",
              "   'rf_tfidf__use_idf': False},\n",
              "  {'rf_clf__max_depth': 12,\n",
              "   'rf_tfidf__ngram_range': (1, 4),\n",
              "   'rf_tfidf__use_idf': True},\n",
              "  {'rf_clf__max_depth': 12,\n",
              "   'rf_tfidf__ngram_range': (1, 4),\n",
              "   'rf_tfidf__use_idf': False},\n",
              "  {'rf_clf__max_depth': 12,\n",
              "   'rf_tfidf__ngram_range': (1, 5),\n",
              "   'rf_tfidf__use_idf': True},\n",
              "  {'rf_clf__max_depth': 12,\n",
              "   'rf_tfidf__ngram_range': (1, 5),\n",
              "   'rf_tfidf__use_idf': False},\n",
              "  {'rf_clf__max_depth': 13,\n",
              "   'rf_tfidf__ngram_range': (1, 1),\n",
              "   'rf_tfidf__use_idf': True},\n",
              "  {'rf_clf__max_depth': 13,\n",
              "   'rf_tfidf__ngram_range': (1, 1),\n",
              "   'rf_tfidf__use_idf': False},\n",
              "  {'rf_clf__max_depth': 13,\n",
              "   'rf_tfidf__ngram_range': (1, 2),\n",
              "   'rf_tfidf__use_idf': True},\n",
              "  {'rf_clf__max_depth': 13,\n",
              "   'rf_tfidf__ngram_range': (1, 2),\n",
              "   'rf_tfidf__use_idf': False},\n",
              "  {'rf_clf__max_depth': 13,\n",
              "   'rf_tfidf__ngram_range': (1, 3),\n",
              "   'rf_tfidf__use_idf': True},\n",
              "  {'rf_clf__max_depth': 13,\n",
              "   'rf_tfidf__ngram_range': (1, 3),\n",
              "   'rf_tfidf__use_idf': False},\n",
              "  {'rf_clf__max_depth': 13,\n",
              "   'rf_tfidf__ngram_range': (1, 4),\n",
              "   'rf_tfidf__use_idf': True},\n",
              "  {'rf_clf__max_depth': 13,\n",
              "   'rf_tfidf__ngram_range': (1, 4),\n",
              "   'rf_tfidf__use_idf': False},\n",
              "  {'rf_clf__max_depth': 13,\n",
              "   'rf_tfidf__ngram_range': (1, 5),\n",
              "   'rf_tfidf__use_idf': True},\n",
              "  {'rf_clf__max_depth': 13,\n",
              "   'rf_tfidf__ngram_range': (1, 5),\n",
              "   'rf_tfidf__use_idf': False},\n",
              "  {'rf_clf__max_depth': 14,\n",
              "   'rf_tfidf__ngram_range': (1, 1),\n",
              "   'rf_tfidf__use_idf': True},\n",
              "  {'rf_clf__max_depth': 14,\n",
              "   'rf_tfidf__ngram_range': (1, 1),\n",
              "   'rf_tfidf__use_idf': False},\n",
              "  {'rf_clf__max_depth': 14,\n",
              "   'rf_tfidf__ngram_range': (1, 2),\n",
              "   'rf_tfidf__use_idf': True},\n",
              "  {'rf_clf__max_depth': 14,\n",
              "   'rf_tfidf__ngram_range': (1, 2),\n",
              "   'rf_tfidf__use_idf': False},\n",
              "  {'rf_clf__max_depth': 14,\n",
              "   'rf_tfidf__ngram_range': (1, 3),\n",
              "   'rf_tfidf__use_idf': True},\n",
              "  {'rf_clf__max_depth': 14,\n",
              "   'rf_tfidf__ngram_range': (1, 3),\n",
              "   'rf_tfidf__use_idf': False},\n",
              "  {'rf_clf__max_depth': 14,\n",
              "   'rf_tfidf__ngram_range': (1, 4),\n",
              "   'rf_tfidf__use_idf': True},\n",
              "  {'rf_clf__max_depth': 14,\n",
              "   'rf_tfidf__ngram_range': (1, 4),\n",
              "   'rf_tfidf__use_idf': False},\n",
              "  {'rf_clf__max_depth': 14,\n",
              "   'rf_tfidf__ngram_range': (1, 5),\n",
              "   'rf_tfidf__use_idf': True},\n",
              "  {'rf_clf__max_depth': 14,\n",
              "   'rf_tfidf__ngram_range': (1, 5),\n",
              "   'rf_tfidf__use_idf': False},\n",
              "  {'rf_clf__max_depth': 15,\n",
              "   'rf_tfidf__ngram_range': (1, 1),\n",
              "   'rf_tfidf__use_idf': True},\n",
              "  {'rf_clf__max_depth': 15,\n",
              "   'rf_tfidf__ngram_range': (1, 1),\n",
              "   'rf_tfidf__use_idf': False},\n",
              "  {'rf_clf__max_depth': 15,\n",
              "   'rf_tfidf__ngram_range': (1, 2),\n",
              "   'rf_tfidf__use_idf': True},\n",
              "  {'rf_clf__max_depth': 15,\n",
              "   'rf_tfidf__ngram_range': (1, 2),\n",
              "   'rf_tfidf__use_idf': False},\n",
              "  {'rf_clf__max_depth': 15,\n",
              "   'rf_tfidf__ngram_range': (1, 3),\n",
              "   'rf_tfidf__use_idf': True},\n",
              "  {'rf_clf__max_depth': 15,\n",
              "   'rf_tfidf__ngram_range': (1, 3),\n",
              "   'rf_tfidf__use_idf': False},\n",
              "  {'rf_clf__max_depth': 15,\n",
              "   'rf_tfidf__ngram_range': (1, 4),\n",
              "   'rf_tfidf__use_idf': True},\n",
              "  {'rf_clf__max_depth': 15,\n",
              "   'rf_tfidf__ngram_range': (1, 4),\n",
              "   'rf_tfidf__use_idf': False},\n",
              "  {'rf_clf__max_depth': 15,\n",
              "   'rf_tfidf__ngram_range': (1, 5),\n",
              "   'rf_tfidf__use_idf': True},\n",
              "  {'rf_clf__max_depth': 15,\n",
              "   'rf_tfidf__ngram_range': (1, 5),\n",
              "   'rf_tfidf__use_idf': False}],\n",
              " 'rank_test_score': array([ 79,  79,  79,  79,  79,  79,  79,  79,  79,  79,  79,  79,  79,\n",
              "         79,  79,  79,  79,  79,  79,  79,  79,  79,  79,  79,  79,  79,\n",
              "         79,  79,  79,  79,  79,  79,  79,  79,  79,  79,  79,  79,  79,\n",
              "         79,  79,  79,  79,  79,  79,  79,  79,  79,  79,  79,  79,  79,\n",
              "         79,  79,  79,  79,  79,  79,  79,  79,  79,  79,  79,  79,  65,\n",
              "         79,  69,  69, 148,  79,  65,  79,  60,  69,  69,  79,  69,  69,\n",
              "         79, 148,  55,  55,  50,  65, 150,  60,  55,  69,  69,  69,  34,\n",
              "         34,  45,  64,  50,  45,  60,  69,  60,  65,  43,  28,  38,  50,\n",
              "         28,  34,  45,  49,  50,  55,  32,  17,  28,  28,  25,  48,  38,\n",
              "         50,  41,  41,   7,   6,  10,  20,  18,  22,  43,  26,  55,  38,\n",
              "          2,   3,  15,  10,  15,  21,  22,  24,  33,  34,   4,   1,   5,\n",
              "          7,   9,  10,  13,  18,  14,  26], dtype=int32),\n",
              " 'split0_test_score': array([0.56121939, 0.56121939, 0.56121939, 0.56121939, 0.56121939,\n",
              "        0.56121939, 0.56121939, 0.56121939, 0.56121939, 0.56121939,\n",
              "        0.56121939, 0.56121939, 0.56121939, 0.56121939, 0.56121939,\n",
              "        0.56121939, 0.56121939, 0.56121939, 0.56121939, 0.56121939,\n",
              "        0.56121939, 0.56121939, 0.56121939, 0.56121939, 0.56121939,\n",
              "        0.56121939, 0.56121939, 0.56121939, 0.56121939, 0.56121939,\n",
              "        0.56121939, 0.56121939, 0.56121939, 0.56121939, 0.56121939,\n",
              "        0.56121939, 0.56121939, 0.56121939, 0.56121939, 0.56121939,\n",
              "        0.56121939, 0.56121939, 0.56121939, 0.56121939, 0.56121939,\n",
              "        0.56121939, 0.56121939, 0.56121939, 0.56121939, 0.56121939,\n",
              "        0.56121939, 0.56121939, 0.56121939, 0.56121939, 0.56121939,\n",
              "        0.56121939, 0.56121939, 0.56121939, 0.56121939, 0.56121939,\n",
              "        0.56121939, 0.56121939, 0.56121939, 0.56121939, 0.56171914,\n",
              "        0.56121939, 0.56121939, 0.56121939, 0.56071964, 0.56121939,\n",
              "        0.56121939, 0.56071964, 0.56071964, 0.56121939, 0.56121939,\n",
              "        0.56071964, 0.56071964, 0.56121939, 0.56121939, 0.56071964,\n",
              "        0.56121939, 0.56171914, 0.56171914, 0.56071964, 0.56121939,\n",
              "        0.56171914, 0.56221889, 0.56121939, 0.56121939, 0.56121939,\n",
              "        0.56071964, 0.56121939, 0.56121939, 0.56121939, 0.56271864,\n",
              "        0.56171914, 0.56171914, 0.56121939, 0.56121939, 0.56121939,\n",
              "        0.56021989, 0.56171914, 0.56321839, 0.56221889, 0.56271864,\n",
              "        0.56221889, 0.56221889, 0.56171914, 0.56171914, 0.56171914,\n",
              "        0.55972014, 0.56121939, 0.56221889, 0.56221889, 0.56321839,\n",
              "        0.56171914, 0.56221889, 0.56271864, 0.56171914, 0.56171914,\n",
              "        0.56221889, 0.56321839, 0.56221889, 0.56221889, 0.56371814,\n",
              "        0.56271864, 0.56171914, 0.56271864, 0.56221889, 0.56221889,\n",
              "        0.56571714, 0.56221889, 0.56321839, 0.56371814, 0.56371814,\n",
              "        0.56321839, 0.56221889, 0.56221889, 0.56371814, 0.56221889,\n",
              "        0.56221889, 0.56571714, 0.56471764, 0.56171914, 0.56371814,\n",
              "        0.56421789, 0.56321839, 0.56371814, 0.56321839, 0.56171914]),\n",
              " 'split1_test_score': array([0.561 , 0.561 , 0.561 , 0.561 , 0.561 , 0.561 , 0.561 , 0.561 ,\n",
              "        0.561 , 0.561 , 0.561 , 0.561 , 0.561 , 0.561 , 0.561 , 0.561 ,\n",
              "        0.561 , 0.561 , 0.561 , 0.561 , 0.561 , 0.561 , 0.561 , 0.561 ,\n",
              "        0.561 , 0.561 , 0.561 , 0.561 , 0.561 , 0.561 , 0.561 , 0.561 ,\n",
              "        0.561 , 0.561 , 0.561 , 0.561 , 0.561 , 0.561 , 0.561 , 0.561 ,\n",
              "        0.561 , 0.561 , 0.561 , 0.561 , 0.561 , 0.561 , 0.561 , 0.561 ,\n",
              "        0.561 , 0.561 , 0.561 , 0.561 , 0.561 , 0.561 , 0.561 , 0.561 ,\n",
              "        0.561 , 0.561 , 0.561 , 0.561 , 0.5615, 0.561 , 0.561 , 0.561 ,\n",
              "        0.561 , 0.561 , 0.561 , 0.561 , 0.561 , 0.561 , 0.5615, 0.5615,\n",
              "        0.561 , 0.561 , 0.561 , 0.561 , 0.561 , 0.561 , 0.561 , 0.561 ,\n",
              "        0.562 , 0.5615, 0.5615, 0.561 , 0.561 , 0.561 , 0.5615, 0.561 ,\n",
              "        0.561 , 0.561 , 0.5625, 0.561 , 0.562 , 0.5605, 0.5615, 0.562 ,\n",
              "        0.561 , 0.561 , 0.561 , 0.561 , 0.5625, 0.561 , 0.562 , 0.561 ,\n",
              "        0.5615, 0.561 , 0.561 , 0.562 , 0.5605, 0.5615, 0.563 , 0.5635,\n",
              "        0.563 , 0.562 , 0.5645, 0.561 , 0.5615, 0.563 , 0.5635, 0.5615,\n",
              "        0.565 , 0.5635, 0.5645, 0.564 , 0.564 , 0.562 , 0.563 , 0.563 ,\n",
              "        0.561 , 0.561 , 0.566 , 0.5665, 0.563 , 0.5655, 0.566 , 0.564 ,\n",
              "        0.5635, 0.564 , 0.563 , 0.563 , 0.5665, 0.5655, 0.567 , 0.5655,\n",
              "        0.5645, 0.5655, 0.565 , 0.5645, 0.564 , 0.564 ]),\n",
              " 'split2_test_score': array([0.561 , 0.561 , 0.561 , 0.561 , 0.561 , 0.561 , 0.561 , 0.561 ,\n",
              "        0.561 , 0.561 , 0.561 , 0.561 , 0.561 , 0.561 , 0.561 , 0.561 ,\n",
              "        0.561 , 0.561 , 0.561 , 0.561 , 0.561 , 0.561 , 0.561 , 0.561 ,\n",
              "        0.561 , 0.561 , 0.561 , 0.561 , 0.561 , 0.561 , 0.561 , 0.561 ,\n",
              "        0.561 , 0.561 , 0.561 , 0.561 , 0.561 , 0.561 , 0.561 , 0.561 ,\n",
              "        0.561 , 0.561 , 0.561 , 0.561 , 0.561 , 0.561 , 0.561 , 0.561 ,\n",
              "        0.561 , 0.561 , 0.561 , 0.561 , 0.561 , 0.561 , 0.561 , 0.561 ,\n",
              "        0.561 , 0.561 , 0.561 , 0.561 , 0.5605, 0.561 , 0.561 , 0.561 ,\n",
              "        0.5615, 0.561 , 0.5615, 0.5615, 0.561 , 0.561 , 0.5605, 0.5605,\n",
              "        0.563 , 0.5615, 0.5615, 0.5615, 0.5615, 0.5615, 0.561 , 0.561 ,\n",
              "        0.563 , 0.5615, 0.563 , 0.5615, 0.5585, 0.5615, 0.5615, 0.5615,\n",
              "        0.5615, 0.5615, 0.564 , 0.565 , 0.5635, 0.562 , 0.5585, 0.563 ,\n",
              "        0.5615, 0.5595, 0.563 , 0.5615, 0.563 , 0.564 , 0.5625, 0.561 ,\n",
              "        0.564 , 0.5655, 0.562 , 0.561 , 0.5625, 0.5625, 0.5635, 0.5655,\n",
              "        0.563 , 0.5645, 0.563 , 0.5615, 0.5635, 0.558 , 0.562 , 0.564 ,\n",
              "        0.5665, 0.566 , 0.5655, 0.566 , 0.564 , 0.564 , 0.5595, 0.5625,\n",
              "        0.56  , 0.563 , 0.5695, 0.5675, 0.5625, 0.564 , 0.5595, 0.563 ,\n",
              "        0.5625, 0.563 , 0.56  , 0.5605, 0.5655, 0.571 , 0.566 , 0.5655,\n",
              "        0.5665, 0.564 , 0.5625, 0.563 , 0.564 , 0.5625]),\n",
              " 'split3_test_score': array([0.561 , 0.561 , 0.561 , 0.561 , 0.561 , 0.561 , 0.561 , 0.561 ,\n",
              "        0.561 , 0.561 , 0.561 , 0.561 , 0.561 , 0.561 , 0.561 , 0.561 ,\n",
              "        0.561 , 0.561 , 0.561 , 0.561 , 0.561 , 0.561 , 0.561 , 0.561 ,\n",
              "        0.561 , 0.561 , 0.561 , 0.561 , 0.561 , 0.561 , 0.561 , 0.561 ,\n",
              "        0.561 , 0.561 , 0.561 , 0.561 , 0.561 , 0.561 , 0.561 , 0.561 ,\n",
              "        0.561 , 0.561 , 0.561 , 0.561 , 0.561 , 0.561 , 0.561 , 0.561 ,\n",
              "        0.561 , 0.561 , 0.561 , 0.561 , 0.561 , 0.561 , 0.561 , 0.561 ,\n",
              "        0.561 , 0.561 , 0.561 , 0.561 , 0.561 , 0.561 , 0.561 , 0.561 ,\n",
              "        0.561 , 0.561 , 0.561 , 0.561 , 0.561 , 0.561 , 0.5615, 0.5615,\n",
              "        0.561 , 0.561 , 0.561 , 0.561 , 0.5615, 0.561 , 0.561 , 0.561 ,\n",
              "        0.5615, 0.562 , 0.5615, 0.561 , 0.5615, 0.561 , 0.5615, 0.561 ,\n",
              "        0.561 , 0.561 , 0.5625, 0.5635, 0.5615, 0.5615, 0.5635, 0.562 ,\n",
              "        0.562 , 0.562 , 0.561 , 0.5615, 0.563 , 0.5625, 0.561 , 0.563 ,\n",
              "        0.563 , 0.562 , 0.5625, 0.563 , 0.5615, 0.5615, 0.5645, 0.5665,\n",
              "        0.5625, 0.562 , 0.563 , 0.5635, 0.5625, 0.5625, 0.562 , 0.5625,\n",
              "        0.5655, 0.5665, 0.5655, 0.5635, 0.564 , 0.5645, 0.563 , 0.563 ,\n",
              "        0.5625, 0.563 , 0.5665, 0.569 , 0.567 , 0.5645, 0.5635, 0.5645,\n",
              "        0.5645, 0.5635, 0.563 , 0.564 , 0.5695, 0.5705, 0.5655, 0.5655,\n",
              "        0.5645, 0.564 , 0.566 , 0.5645, 0.5655, 0.5645]),\n",
              " 'split4_test_score': array([0.56128064, 0.56128064, 0.56128064, 0.56128064, 0.56128064,\n",
              "        0.56128064, 0.56128064, 0.56128064, 0.56128064, 0.56128064,\n",
              "        0.56128064, 0.56128064, 0.56128064, 0.56128064, 0.56128064,\n",
              "        0.56128064, 0.56128064, 0.56128064, 0.56128064, 0.56128064,\n",
              "        0.56128064, 0.56128064, 0.56128064, 0.56128064, 0.56128064,\n",
              "        0.56128064, 0.56128064, 0.56128064, 0.56128064, 0.56128064,\n",
              "        0.56128064, 0.56128064, 0.56128064, 0.56128064, 0.56128064,\n",
              "        0.56128064, 0.56128064, 0.56128064, 0.56128064, 0.56128064,\n",
              "        0.56128064, 0.56128064, 0.56128064, 0.56128064, 0.56128064,\n",
              "        0.56128064, 0.56128064, 0.56128064, 0.56128064, 0.56128064,\n",
              "        0.56128064, 0.56128064, 0.56128064, 0.56128064, 0.56128064,\n",
              "        0.56128064, 0.56128064, 0.56128064, 0.56128064, 0.56128064,\n",
              "        0.56128064, 0.56128064, 0.56128064, 0.56128064, 0.56128064,\n",
              "        0.56128064, 0.56128064, 0.56128064, 0.56128064, 0.56128064,\n",
              "        0.56178089, 0.56128064, 0.56178089, 0.56128064, 0.56128064,\n",
              "        0.56128064, 0.56128064, 0.56128064, 0.56128064, 0.56128064,\n",
              "        0.56078039, 0.56178089, 0.56128064, 0.56228114, 0.56128064,\n",
              "        0.56228114, 0.56178089, 0.56128064, 0.56128064, 0.56128064,\n",
              "        0.56328164, 0.56228114, 0.56278139, 0.56178089, 0.56278139,\n",
              "        0.56228114, 0.56128064, 0.56228114, 0.56128064, 0.56128064,\n",
              "        0.56278139, 0.56528264, 0.56378189, 0.56178089, 0.56328164,\n",
              "        0.56228114, 0.56328164, 0.56178089, 0.56278139, 0.56128064,\n",
              "        0.56328164, 0.56378189, 0.56378189, 0.56378189, 0.56228114,\n",
              "        0.56278139, 0.56278139, 0.56278139, 0.56278139, 0.56228114,\n",
              "        0.56528264, 0.56578289, 0.56578289, 0.56378189, 0.56428214,\n",
              "        0.56528264, 0.56428214, 0.56378189, 0.56278139, 0.56328164,\n",
              "        0.56578289, 0.56628314, 0.56528264, 0.56578289, 0.56828414,\n",
              "        0.56428214, 0.56578289, 0.56428214, 0.56378189, 0.56328164,\n",
              "        0.56678339, 0.56778389, 0.56478239, 0.56628314, 0.56478239,\n",
              "        0.56578289, 0.56578289, 0.56428214, 0.56478239, 0.56228114]),\n",
              " 'std_fit_time': array([0.04961935, 0.05378483, 0.08975274, 0.0909896 , 0.09913921,\n",
              "        0.02736668, 0.04336637, 0.06690345, 0.08263998, 0.03542367,\n",
              "        0.06301274, 0.05999464, 0.09332768, 0.04895873, 0.0545458 ,\n",
              "        0.05059272, 0.06089114, 0.01111203, 0.04952339, 0.05457337,\n",
              "        0.02826553, 0.02925581, 0.0541102 , 0.09369593, 0.09959679,\n",
              "        0.06999051, 0.03093304, 0.07550206, 0.06853256, 0.03887487,\n",
              "        0.03697448, 0.05587309, 0.04373469, 0.04954213, 0.06055843,\n",
              "        0.06514812, 0.03560262, 0.07028415, 0.09463502, 0.10852615,\n",
              "        0.03745588, 0.06367954, 0.04776995, 0.05156227, 0.08253739,\n",
              "        0.03284777, 0.03590484, 0.08113841, 0.14649168, 0.18380973,\n",
              "        0.09383273, 0.06214321, 0.03923503, 0.06169528, 0.03644557,\n",
              "        0.0423665 , 0.11870572, 0.0329392 , 0.03780012, 0.06245653,\n",
              "        0.03301554, 0.02824851, 0.0485948 , 0.05170867, 0.02675598,\n",
              "        0.08354666, 0.07874521, 0.05068051, 0.04866755, 0.05946885,\n",
              "        0.05289723, 0.04860164, 0.07305484, 0.0521899 , 0.04875928,\n",
              "        0.07929798, 0.05361702, 0.03711645, 0.08134985, 0.13483461,\n",
              "        0.03857399, 0.07772515, 0.088066  , 0.06742091, 0.06009503,\n",
              "        0.07395366, 0.08022604, 0.0388024 , 0.11804077, 0.10001142,\n",
              "        0.04125946, 0.05071179, 0.0974636 , 0.10892797, 0.08969492,\n",
              "        0.07700097, 0.0536496 , 0.1737413 , 0.26240563, 0.15726166,\n",
              "        0.0543727 , 0.01898399, 0.18851403, 0.09447299, 0.05910213,\n",
              "        0.14687602, 0.23722916, 0.19905277, 0.2043015 , 0.15447525,\n",
              "        0.06744703, 0.03441332, 0.08606634, 0.06317179, 0.26617351,\n",
              "        0.22503607, 0.16657146, 0.13638237, 0.25433736, 0.17441052,\n",
              "        0.064626  , 0.07903818, 0.08791876, 0.10721064, 0.19978809,\n",
              "        0.28266955, 0.29374258, 0.24532805, 0.17908754, 0.22306967,\n",
              "        0.06638198, 0.06161353, 0.0876708 , 0.17350498, 0.37228161,\n",
              "        0.17367528, 0.20829226, 0.13646846, 0.28743943, 0.23567729,\n",
              "        0.04600804, 0.12335212, 0.02463309, 0.32914636, 0.17437297,\n",
              "        0.20356682, 0.32114956, 0.20423201, 0.42482461, 0.81204467]),\n",
              " 'std_score_time': array([0.00496035, 0.0101617 , 0.05059821, 0.00705675, 0.0099843 ,\n",
              "        0.00208942, 0.05844918, 0.05811082, 0.05598713, 0.05029503,\n",
              "        0.00921962, 0.0075685 , 0.0157441 , 0.04312001, 0.06040087,\n",
              "        0.05554405, 0.07213274, 0.06136356, 0.0436623 , 0.03687994,\n",
              "        0.02141353, 0.02345199, 0.04585041, 0.01341285, 0.02853495,\n",
              "        0.02965102, 0.06275969, 0.07324551, 0.0682304 , 0.06372181,\n",
              "        0.00849042, 0.00996362, 0.01822249, 0.01869629, 0.05543108,\n",
              "        0.07106669, 0.03015128, 0.06402584, 0.02406114, 0.04301751,\n",
              "        0.00561285, 0.00773085, 0.02448334, 0.06258749, 0.01382795,\n",
              "        0.02917342, 0.0642263 , 0.02772448, 0.02101405, 0.0491975 ,\n",
              "        0.02473207, 0.01045079, 0.01781111, 0.02147749, 0.03092264,\n",
              "        0.02803918, 0.07024087, 0.0412903 , 0.01970405, 0.05274709,\n",
              "        0.01308096, 0.01614043, 0.01452139, 0.01208812, 0.01569436,\n",
              "        0.04310713, 0.06099192, 0.05595035, 0.03765199, 0.03568592,\n",
              "        0.02414244, 0.01121093, 0.03779261, 0.02719607, 0.01341275,\n",
              "        0.04415639, 0.04852367, 0.0291754 , 0.04248828, 0.07570758,\n",
              "        0.01806753, 0.00727897, 0.02772216, 0.03055934, 0.02372199,\n",
              "        0.01961539, 0.03762776, 0.06293966, 0.03586873, 0.04616898,\n",
              "        0.01691812, 0.0209845 , 0.01733118, 0.02947612, 0.04715565,\n",
              "        0.02463977, 0.0490062 , 0.04236349, 0.091613  , 0.06944457,\n",
              "        0.01593711, 0.01466301, 0.02154248, 0.02004539, 0.0191284 ,\n",
              "        0.04109649, 0.10713942, 0.08098357, 0.11346969, 0.11114005,\n",
              "        0.01203661, 0.0115057 , 0.01421116, 0.02583252, 0.06043457,\n",
              "        0.069982  , 0.07582737, 0.11257401, 0.13669269, 0.06021583,\n",
              "        0.01522545, 0.0188333 , 0.01730504, 0.01972344, 0.06602537,\n",
              "        0.03966851, 0.10786584, 0.08698665, 0.10526511, 0.1219121 ,\n",
              "        0.05889454, 0.01635883, 0.05821437, 0.0361089 , 0.06471035,\n",
              "        0.09829086, 0.06847445, 0.09187266, 0.07515776, 0.04349256,\n",
              "        0.02828615, 0.0397737 , 0.01812857, 0.0294986 , 0.05489637,\n",
              "        0.06078522, 0.06200369, 0.04955051, 0.06221357, 0.1698189 ]),\n",
              " 'std_test_score': array([0.000124  , 0.000124  , 0.000124  , 0.000124  , 0.000124  ,\n",
              "        0.000124  , 0.000124  , 0.000124  , 0.000124  , 0.000124  ,\n",
              "        0.000124  , 0.000124  , 0.000124  , 0.000124  , 0.000124  ,\n",
              "        0.000124  , 0.000124  , 0.000124  , 0.000124  , 0.000124  ,\n",
              "        0.000124  , 0.000124  , 0.000124  , 0.000124  , 0.000124  ,\n",
              "        0.000124  , 0.000124  , 0.000124  , 0.000124  , 0.000124  ,\n",
              "        0.000124  , 0.000124  , 0.000124  , 0.000124  , 0.000124  ,\n",
              "        0.000124  , 0.000124  , 0.000124  , 0.000124  , 0.000124  ,\n",
              "        0.000124  , 0.000124  , 0.000124  , 0.000124  , 0.000124  ,\n",
              "        0.000124  , 0.000124  , 0.000124  , 0.000124  , 0.000124  ,\n",
              "        0.000124  , 0.000124  , 0.000124  , 0.000124  , 0.000124  ,\n",
              "        0.000124  , 0.000124  , 0.000124  , 0.000124  , 0.000124  ,\n",
              "        0.00033967, 0.000124  , 0.000124  , 0.000124  , 0.00028148,\n",
              "        0.000124  , 0.00018808, 0.00018808, 0.0001774 , 0.000124  ,\n",
              "        0.00043764, 0.00041409, 0.00082923, 0.00018808, 0.00018808,\n",
              "        0.00026734, 0.00030244, 0.00018808, 0.000124  , 0.0001774 ,\n",
              "        0.0007611 , 0.0001881 , 0.00061582, 0.00055121, 0.00111147,\n",
              "        0.00048123, 0.0002814 , 0.00018808, 0.00018808, 0.00018808,\n",
              "        0.00109379, 0.00149256, 0.00083904, 0.00052108, 0.0017707 ,\n",
              "        0.0004377 , 0.00034529, 0.00097351, 0.00075853, 0.00018808,\n",
              "        0.00105647, 0.00155237, 0.00096527, 0.00076104, 0.00081957,\n",
              "        0.00152164, 0.00074023, 0.0006445 , 0.00080488, 0.00042335,\n",
              "        0.00162124, 0.00181567, 0.0005332 , 0.0010413 , 0.00072308,\n",
              "        0.00090986, 0.00065699, 0.00190667, 0.00065409, 0.0008784 ,\n",
              "        0.00143306, 0.00136296, 0.00131537, 0.00121832, 0.00017835,\n",
              "        0.00119055, 0.00161768, 0.00043365, 0.00104482, 0.00082942,\n",
              "        0.00142669, 0.0022554 , 0.00169148, 0.00081322, 0.00292316,\n",
              "        0.00059005, 0.00131537, 0.00073532, 0.00139119, 0.00119497,\n",
              "        0.00235021, 0.00231131, 0.00084582, 0.00161957, 0.00092101,\n",
              "        0.00077777, 0.00139917, 0.00057603, 0.00077757, 0.00106376])}"
            ]
          },
          "metadata": {
            "tags": []
          },
          "execution_count": 39
        }
      ]
    },
    {
      "cell_type": "code",
      "metadata": {
        "id": "3iu8a77T5V8z",
        "colab_type": "code",
        "outputId": "d33dc521-6782-4cdd-f9de-2edf3ccdad1b",
        "colab": {
          "base_uri": "https://localhost:8080/",
          "height": 1000
        }
      },
      "source": [
        "#logistic regression parameters\n",
        "parameters = {'LogR_tfidf__ngram_range': [(1, 1), (1, 2),(1,3),(1,4),(1,5)],\n",
        "               'LogR_tfidf__use_idf': (True, False),\n",
        "               'LogR_tfidf__smooth_idf': (True, False)\n",
        "}\n",
        "\n",
        "gs_clf = GridSearchCV(logR_pipeline_ngram, parameters, n_jobs=-1, cv =5)\n",
        "gs_clf = gs_clf.fit(train_news['Statement'][:10000],train_news['Label'][:10000])\n",
        "\n",
        "gs_clf.best_score_\n",
        "gs_clf.best_params_\n",
        "gs_clf.cv_results_"
      ],
      "execution_count": 40,
      "outputs": [
        {
          "output_type": "stream",
          "text": [
            "/usr/local/lib/python3.6/dist-packages/sklearn/linear_model/logistic.py:432: FutureWarning: Default solver will be changed to 'lbfgs' in 0.22. Specify a solver to silence this warning.\n",
            "  FutureWarning)\n"
          ],
          "name": "stderr"
        },
        {
          "output_type": "execute_result",
          "data": {
            "text/plain": [
              "{'mean_fit_time': array([0.30987101, 0.31218762, 0.30140657, 0.31972532, 0.8392282 ,\n",
              "        0.82787614, 0.83281431, 0.82833428, 1.40323305, 1.43012357,\n",
              "        1.3858079 , 1.39676566, 1.92544107, 1.99157376, 2.02432461,\n",
              "        2.04153061, 2.46624751, 2.48336759, 2.49769158, 2.50699062]),\n",
              " 'mean_score_time': array([0.06156387, 0.06345987, 0.06717682, 0.06357579, 0.0950635 ,\n",
              "        0.09481058, 0.09632707, 0.0946589 , 0.11809182, 0.11938381,\n",
              "        0.11846991, 0.11498966, 0.13902979, 0.14444785, 0.14610991,\n",
              "        0.14263034, 0.18141475, 0.18340421, 0.19177799, 0.17684007]),\n",
              " 'mean_test_score': array([0.6048, 0.6107, 0.6057, 0.6107, 0.6145, 0.6113, 0.6139, 0.6113,\n",
              "        0.6148, 0.6108, 0.6166, 0.6108, 0.616 , 0.6099, 0.6159, 0.6099,\n",
              "        0.6158, 0.6093, 0.6148, 0.6093]),\n",
              " 'param_LogR_tfidf__ngram_range': masked_array(data=[(1, 1), (1, 1), (1, 1), (1, 1), (1, 2), (1, 2), (1, 2),\n",
              "                    (1, 2), (1, 3), (1, 3), (1, 3), (1, 3), (1, 4), (1, 4),\n",
              "                    (1, 4), (1, 4), (1, 5), (1, 5), (1, 5), (1, 5)],\n",
              "              mask=[False, False, False, False, False, False, False, False,\n",
              "                    False, False, False, False, False, False, False, False,\n",
              "                    False, False, False, False],\n",
              "        fill_value='?',\n",
              "             dtype=object),\n",
              " 'param_LogR_tfidf__smooth_idf': masked_array(data=[True, True, False, False, True, True, False, False,\n",
              "                    True, True, False, False, True, True, False, False,\n",
              "                    True, True, False, False],\n",
              "              mask=[False, False, False, False, False, False, False, False,\n",
              "                    False, False, False, False, False, False, False, False,\n",
              "                    False, False, False, False],\n",
              "        fill_value='?',\n",
              "             dtype=object),\n",
              " 'param_LogR_tfidf__use_idf': masked_array(data=[True, False, True, False, True, False, True, False,\n",
              "                    True, False, True, False, True, False, True, False,\n",
              "                    True, False, True, False],\n",
              "              mask=[False, False, False, False, False, False, False, False,\n",
              "                    False, False, False, False, False, False, False, False,\n",
              "                    False, False, False, False],\n",
              "        fill_value='?',\n",
              "             dtype=object),\n",
              " 'params': [{'LogR_tfidf__ngram_range': (1, 1),\n",
              "   'LogR_tfidf__smooth_idf': True,\n",
              "   'LogR_tfidf__use_idf': True},\n",
              "  {'LogR_tfidf__ngram_range': (1, 1),\n",
              "   'LogR_tfidf__smooth_idf': True,\n",
              "   'LogR_tfidf__use_idf': False},\n",
              "  {'LogR_tfidf__ngram_range': (1, 1),\n",
              "   'LogR_tfidf__smooth_idf': False,\n",
              "   'LogR_tfidf__use_idf': True},\n",
              "  {'LogR_tfidf__ngram_range': (1, 1),\n",
              "   'LogR_tfidf__smooth_idf': False,\n",
              "   'LogR_tfidf__use_idf': False},\n",
              "  {'LogR_tfidf__ngram_range': (1, 2),\n",
              "   'LogR_tfidf__smooth_idf': True,\n",
              "   'LogR_tfidf__use_idf': True},\n",
              "  {'LogR_tfidf__ngram_range': (1, 2),\n",
              "   'LogR_tfidf__smooth_idf': True,\n",
              "   'LogR_tfidf__use_idf': False},\n",
              "  {'LogR_tfidf__ngram_range': (1, 2),\n",
              "   'LogR_tfidf__smooth_idf': False,\n",
              "   'LogR_tfidf__use_idf': True},\n",
              "  {'LogR_tfidf__ngram_range': (1, 2),\n",
              "   'LogR_tfidf__smooth_idf': False,\n",
              "   'LogR_tfidf__use_idf': False},\n",
              "  {'LogR_tfidf__ngram_range': (1, 3),\n",
              "   'LogR_tfidf__smooth_idf': True,\n",
              "   'LogR_tfidf__use_idf': True},\n",
              "  {'LogR_tfidf__ngram_range': (1, 3),\n",
              "   'LogR_tfidf__smooth_idf': True,\n",
              "   'LogR_tfidf__use_idf': False},\n",
              "  {'LogR_tfidf__ngram_range': (1, 3),\n",
              "   'LogR_tfidf__smooth_idf': False,\n",
              "   'LogR_tfidf__use_idf': True},\n",
              "  {'LogR_tfidf__ngram_range': (1, 3),\n",
              "   'LogR_tfidf__smooth_idf': False,\n",
              "   'LogR_tfidf__use_idf': False},\n",
              "  {'LogR_tfidf__ngram_range': (1, 4),\n",
              "   'LogR_tfidf__smooth_idf': True,\n",
              "   'LogR_tfidf__use_idf': True},\n",
              "  {'LogR_tfidf__ngram_range': (1, 4),\n",
              "   'LogR_tfidf__smooth_idf': True,\n",
              "   'LogR_tfidf__use_idf': False},\n",
              "  {'LogR_tfidf__ngram_range': (1, 4),\n",
              "   'LogR_tfidf__smooth_idf': False,\n",
              "   'LogR_tfidf__use_idf': True},\n",
              "  {'LogR_tfidf__ngram_range': (1, 4),\n",
              "   'LogR_tfidf__smooth_idf': False,\n",
              "   'LogR_tfidf__use_idf': False},\n",
              "  {'LogR_tfidf__ngram_range': (1, 5),\n",
              "   'LogR_tfidf__smooth_idf': True,\n",
              "   'LogR_tfidf__use_idf': True},\n",
              "  {'LogR_tfidf__ngram_range': (1, 5),\n",
              "   'LogR_tfidf__smooth_idf': True,\n",
              "   'LogR_tfidf__use_idf': False},\n",
              "  {'LogR_tfidf__ngram_range': (1, 5),\n",
              "   'LogR_tfidf__smooth_idf': False,\n",
              "   'LogR_tfidf__use_idf': True},\n",
              "  {'LogR_tfidf__ngram_range': (1, 5),\n",
              "   'LogR_tfidf__smooth_idf': False,\n",
              "   'LogR_tfidf__use_idf': False}],\n",
              " 'rank_test_score': array([20, 13, 19, 13,  7,  9,  8,  9,  5, 11,  1, 11,  2, 15,  3, 15,  4,\n",
              "        17,  5, 17], dtype=int32),\n",
              " 'split0_test_score': array([0.61369315, 0.6181909 , 0.61269365, 0.6181909 , 0.62068966,\n",
              "        0.61869065, 0.6181909 , 0.61869065, 0.62068966, 0.6181909 ,\n",
              "        0.62168916, 0.6181909 , 0.61669165, 0.61569215, 0.61769115,\n",
              "        0.61569215, 0.6141929 , 0.6141929 , 0.61069465, 0.6141929 ]),\n",
              " 'split1_test_score': array([0.617 , 0.62  , 0.6175, 0.62  , 0.6255, 0.623 , 0.624 , 0.623 ,\n",
              "        0.624 , 0.616 , 0.624 , 0.616 , 0.6235, 0.6135, 0.62  , 0.6135,\n",
              "        0.621 , 0.6135, 0.6185, 0.6135]),\n",
              " 'split2_test_score': array([0.5955, 0.6025, 0.5975, 0.6025, 0.603 , 0.603 , 0.606 , 0.603 ,\n",
              "        0.605 , 0.6055, 0.6085, 0.6055, 0.608 , 0.604 , 0.607 , 0.604 ,\n",
              "        0.6075, 0.603 , 0.6095, 0.603 ]),\n",
              " 'split3_test_score': array([0.6   , 0.6085, 0.6005, 0.6085, 0.6095, 0.6055, 0.6095, 0.6055,\n",
              "        0.6115, 0.607 , 0.6145, 0.607 , 0.616 , 0.6105, 0.6165, 0.6105,\n",
              "        0.62  , 0.611 , 0.618 , 0.611 ]),\n",
              " 'split4_test_score': array([0.5977989 , 0.60430215, 0.60030015, 0.60430215, 0.6138069 ,\n",
              "        0.60630315, 0.6118059 , 0.60630315, 0.6128064 , 0.60730365,\n",
              "        0.61430715, 0.60730365, 0.6158079 , 0.6058029 , 0.61830915,\n",
              "        0.6058029 , 0.61630815, 0.6048024 , 0.61730865, 0.6048024 ]),\n",
              " 'std_fit_time': array([0.00515194, 0.00972565, 0.00848818, 0.01327695, 0.00554443,\n",
              "        0.00321154, 0.01486196, 0.01325403, 0.01823331, 0.02188822,\n",
              "        0.02383285, 0.01268425, 0.03165527, 0.01659301, 0.04912617,\n",
              "        0.01984583, 0.04466094, 0.02006534, 0.02547922, 0.02636595]),\n",
              " 'std_score_time': array([0.00268592, 0.00537633, 0.00550217, 0.00679735, 0.00704679,\n",
              "        0.00536529, 0.00572744, 0.00774429, 0.00844509, 0.00631494,\n",
              "        0.00912271, 0.00796441, 0.00940208, 0.00407431, 0.00814173,\n",
              "        0.00720095, 0.01569218, 0.00877117, 0.00527841, 0.01288844]),\n",
              " 'std_test_score': array([0.00879191, 0.00715016, 0.00789429, 0.00715016, 0.00796318,\n",
              "        0.0079878 , 0.00642782, 0.0079878 , 0.00678598, 0.00522381,\n",
              "        0.00558475, 0.00522381, 0.00491458, 0.00443787, 0.0045911 ,\n",
              "        0.00443787, 0.00482519, 0.00456926, 0.00387743, 0.00456926])}"
            ]
          },
          "metadata": {
            "tags": []
          },
          "execution_count": 40
        }
      ]
    },
    {
      "cell_type": "code",
      "metadata": {
        "id": "XojNU2eG5Vo8",
        "colab_type": "code",
        "outputId": "251e3f98-39b4-45d9-fb67-f279e393f488",
        "colab": {
          "base_uri": "https://localhost:8080/",
          "height": 1000
        }
      },
      "source": [
        "#Linear SVM \n",
        "parameters = {'svm_tfidf__ngram_range': [(1, 1), (1, 2),(1,3),(1,4),(1,5)],\n",
        "               'svm_tfidf__use_idf': (True, False),\n",
        "               'svm_tfidf__smooth_idf': (True, False),\n",
        "               'svm_clf__penalty': ('l1','l2'),\n",
        "}\n",
        "\n",
        "gs_clf = GridSearchCV(svm_pipeline_ngram, parameters, n_jobs=-1, error_score = 0.0)\n",
        "gs_clf = gs_clf.fit(train_news['Statement'][:10000],train_news['Label'][:10000])\n",
        "\n",
        "gs_clf.best_score_\n",
        "gs_clf.best_params_\n",
        "gs_clf.cv_results_\n"
      ],
      "execution_count": 41,
      "outputs": [
        {
          "output_type": "stream",
          "text": [
            "/usr/local/lib/python3.6/dist-packages/sklearn/model_selection/_split.py:1978: FutureWarning: The default value of cv will change from 3 to 5 in version 0.22. Specify it explicitly to silence this warning.\n",
            "  warnings.warn(CV_WARNING, FutureWarning)\n"
          ],
          "name": "stderr"
        },
        {
          "output_type": "execute_result",
          "data": {
            "text/plain": [
              "{'mean_fit_time': array([0.22763205, 0.22783494, 0.22804832, 0.23547339, 0.65210358,\n",
              "        0.62219405, 0.63386933, 0.62600851, 1.09362356, 1.05472573,\n",
              "        1.09313329, 1.06199161, 1.51241803, 1.46047497, 1.51054049,\n",
              "        1.45289119, 1.90548356, 1.8698678 , 1.88264179, 1.85707792,\n",
              "        0.27998749, 0.2848413 , 0.27984643, 0.27675414, 0.71328672,\n",
              "        0.68664924, 0.69999774, 0.70870352, 1.1987462 , 1.14599355,\n",
              "        1.17830118, 1.14935573, 1.62496098, 1.57684127, 1.63485869,\n",
              "        1.6112632 , 1.99587131, 1.91264121, 1.96652182, 1.91801842]),\n",
              " 'mean_score_time': array([0.        , 0.        , 0.        , 0.        , 0.        ,\n",
              "        0.        , 0.        , 0.        , 0.        , 0.        ,\n",
              "        0.        , 0.        , 0.        , 0.        , 0.        ,\n",
              "        0.        , 0.        , 0.        , 0.        , 0.        ,\n",
              "        0.09972342, 0.1001366 , 0.09987179, 0.09862598, 0.1547517 ,\n",
              "        0.15589277, 0.15690486, 0.15774703, 0.19643251, 0.19691245,\n",
              "        0.1948026 , 0.1956683 , 0.23899984, 0.24665244, 0.24533947,\n",
              "        0.24735546, 0.27622334, 0.28194451, 0.28808379, 0.26535638]),\n",
              " 'mean_test_score': array([0.    , 0.    , 0.    , 0.    , 0.    , 0.    , 0.    , 0.    ,\n",
              "        0.    , 0.    , 0.    , 0.    , 0.    , 0.    , 0.    , 0.    ,\n",
              "        0.    , 0.    , 0.    , 0.    , 0.5812, 0.5868, 0.5805, 0.5868,\n",
              "        0.6031, 0.6003, 0.6027, 0.6003, 0.6075, 0.6061, 0.6084, 0.6061,\n",
              "        0.6099, 0.6073, 0.6102, 0.6073, 0.6082, 0.6065, 0.6091, 0.6065]),\n",
              " 'param_svm_clf__penalty': masked_array(data=['l1', 'l1', 'l1', 'l1', 'l1', 'l1', 'l1', 'l1', 'l1',\n",
              "                    'l1', 'l1', 'l1', 'l1', 'l1', 'l1', 'l1', 'l1', 'l1',\n",
              "                    'l1', 'l1', 'l2', 'l2', 'l2', 'l2', 'l2', 'l2', 'l2',\n",
              "                    'l2', 'l2', 'l2', 'l2', 'l2', 'l2', 'l2', 'l2', 'l2',\n",
              "                    'l2', 'l2', 'l2', 'l2'],\n",
              "              mask=[False, False, False, False, False, False, False, False,\n",
              "                    False, False, False, False, False, False, False, False,\n",
              "                    False, False, False, False, False, False, False, False,\n",
              "                    False, False, False, False, False, False, False, False,\n",
              "                    False, False, False, False, False, False, False, False],\n",
              "        fill_value='?',\n",
              "             dtype=object),\n",
              " 'param_svm_tfidf__ngram_range': masked_array(data=[(1, 1), (1, 1), (1, 1), (1, 1), (1, 2), (1, 2), (1, 2),\n",
              "                    (1, 2), (1, 3), (1, 3), (1, 3), (1, 3), (1, 4), (1, 4),\n",
              "                    (1, 4), (1, 4), (1, 5), (1, 5), (1, 5), (1, 5), (1, 1),\n",
              "                    (1, 1), (1, 1), (1, 1), (1, 2), (1, 2), (1, 2), (1, 2),\n",
              "                    (1, 3), (1, 3), (1, 3), (1, 3), (1, 4), (1, 4), (1, 4),\n",
              "                    (1, 4), (1, 5), (1, 5), (1, 5), (1, 5)],\n",
              "              mask=[False, False, False, False, False, False, False, False,\n",
              "                    False, False, False, False, False, False, False, False,\n",
              "                    False, False, False, False, False, False, False, False,\n",
              "                    False, False, False, False, False, False, False, False,\n",
              "                    False, False, False, False, False, False, False, False],\n",
              "        fill_value='?',\n",
              "             dtype=object),\n",
              " 'param_svm_tfidf__smooth_idf': masked_array(data=[True, True, False, False, True, True, False, False,\n",
              "                    True, True, False, False, True, True, False, False,\n",
              "                    True, True, False, False, True, True, False, False,\n",
              "                    True, True, False, False, True, True, False, False,\n",
              "                    True, True, False, False, True, True, False, False],\n",
              "              mask=[False, False, False, False, False, False, False, False,\n",
              "                    False, False, False, False, False, False, False, False,\n",
              "                    False, False, False, False, False, False, False, False,\n",
              "                    False, False, False, False, False, False, False, False,\n",
              "                    False, False, False, False, False, False, False, False],\n",
              "        fill_value='?',\n",
              "             dtype=object),\n",
              " 'param_svm_tfidf__use_idf': masked_array(data=[True, False, True, False, True, False, True, False,\n",
              "                    True, False, True, False, True, False, True, False,\n",
              "                    True, False, True, False, True, False, True, False,\n",
              "                    True, False, True, False, True, False, True, False,\n",
              "                    True, False, True, False, True, False, True, False],\n",
              "              mask=[False, False, False, False, False, False, False, False,\n",
              "                    False, False, False, False, False, False, False, False,\n",
              "                    False, False, False, False, False, False, False, False,\n",
              "                    False, False, False, False, False, False, False, False,\n",
              "                    False, False, False, False, False, False, False, False],\n",
              "        fill_value='?',\n",
              "             dtype=object),\n",
              " 'params': [{'svm_clf__penalty': 'l1',\n",
              "   'svm_tfidf__ngram_range': (1, 1),\n",
              "   'svm_tfidf__smooth_idf': True,\n",
              "   'svm_tfidf__use_idf': True},\n",
              "  {'svm_clf__penalty': 'l1',\n",
              "   'svm_tfidf__ngram_range': (1, 1),\n",
              "   'svm_tfidf__smooth_idf': True,\n",
              "   'svm_tfidf__use_idf': False},\n",
              "  {'svm_clf__penalty': 'l1',\n",
              "   'svm_tfidf__ngram_range': (1, 1),\n",
              "   'svm_tfidf__smooth_idf': False,\n",
              "   'svm_tfidf__use_idf': True},\n",
              "  {'svm_clf__penalty': 'l1',\n",
              "   'svm_tfidf__ngram_range': (1, 1),\n",
              "   'svm_tfidf__smooth_idf': False,\n",
              "   'svm_tfidf__use_idf': False},\n",
              "  {'svm_clf__penalty': 'l1',\n",
              "   'svm_tfidf__ngram_range': (1, 2),\n",
              "   'svm_tfidf__smooth_idf': True,\n",
              "   'svm_tfidf__use_idf': True},\n",
              "  {'svm_clf__penalty': 'l1',\n",
              "   'svm_tfidf__ngram_range': (1, 2),\n",
              "   'svm_tfidf__smooth_idf': True,\n",
              "   'svm_tfidf__use_idf': False},\n",
              "  {'svm_clf__penalty': 'l1',\n",
              "   'svm_tfidf__ngram_range': (1, 2),\n",
              "   'svm_tfidf__smooth_idf': False,\n",
              "   'svm_tfidf__use_idf': True},\n",
              "  {'svm_clf__penalty': 'l1',\n",
              "   'svm_tfidf__ngram_range': (1, 2),\n",
              "   'svm_tfidf__smooth_idf': False,\n",
              "   'svm_tfidf__use_idf': False},\n",
              "  {'svm_clf__penalty': 'l1',\n",
              "   'svm_tfidf__ngram_range': (1, 3),\n",
              "   'svm_tfidf__smooth_idf': True,\n",
              "   'svm_tfidf__use_idf': True},\n",
              "  {'svm_clf__penalty': 'l1',\n",
              "   'svm_tfidf__ngram_range': (1, 3),\n",
              "   'svm_tfidf__smooth_idf': True,\n",
              "   'svm_tfidf__use_idf': False},\n",
              "  {'svm_clf__penalty': 'l1',\n",
              "   'svm_tfidf__ngram_range': (1, 3),\n",
              "   'svm_tfidf__smooth_idf': False,\n",
              "   'svm_tfidf__use_idf': True},\n",
              "  {'svm_clf__penalty': 'l1',\n",
              "   'svm_tfidf__ngram_range': (1, 3),\n",
              "   'svm_tfidf__smooth_idf': False,\n",
              "   'svm_tfidf__use_idf': False},\n",
              "  {'svm_clf__penalty': 'l1',\n",
              "   'svm_tfidf__ngram_range': (1, 4),\n",
              "   'svm_tfidf__smooth_idf': True,\n",
              "   'svm_tfidf__use_idf': True},\n",
              "  {'svm_clf__penalty': 'l1',\n",
              "   'svm_tfidf__ngram_range': (1, 4),\n",
              "   'svm_tfidf__smooth_idf': True,\n",
              "   'svm_tfidf__use_idf': False},\n",
              "  {'svm_clf__penalty': 'l1',\n",
              "   'svm_tfidf__ngram_range': (1, 4),\n",
              "   'svm_tfidf__smooth_idf': False,\n",
              "   'svm_tfidf__use_idf': True},\n",
              "  {'svm_clf__penalty': 'l1',\n",
              "   'svm_tfidf__ngram_range': (1, 4),\n",
              "   'svm_tfidf__smooth_idf': False,\n",
              "   'svm_tfidf__use_idf': False},\n",
              "  {'svm_clf__penalty': 'l1',\n",
              "   'svm_tfidf__ngram_range': (1, 5),\n",
              "   'svm_tfidf__smooth_idf': True,\n",
              "   'svm_tfidf__use_idf': True},\n",
              "  {'svm_clf__penalty': 'l1',\n",
              "   'svm_tfidf__ngram_range': (1, 5),\n",
              "   'svm_tfidf__smooth_idf': True,\n",
              "   'svm_tfidf__use_idf': False},\n",
              "  {'svm_clf__penalty': 'l1',\n",
              "   'svm_tfidf__ngram_range': (1, 5),\n",
              "   'svm_tfidf__smooth_idf': False,\n",
              "   'svm_tfidf__use_idf': True},\n",
              "  {'svm_clf__penalty': 'l1',\n",
              "   'svm_tfidf__ngram_range': (1, 5),\n",
              "   'svm_tfidf__smooth_idf': False,\n",
              "   'svm_tfidf__use_idf': False},\n",
              "  {'svm_clf__penalty': 'l2',\n",
              "   'svm_tfidf__ngram_range': (1, 1),\n",
              "   'svm_tfidf__smooth_idf': True,\n",
              "   'svm_tfidf__use_idf': True},\n",
              "  {'svm_clf__penalty': 'l2',\n",
              "   'svm_tfidf__ngram_range': (1, 1),\n",
              "   'svm_tfidf__smooth_idf': True,\n",
              "   'svm_tfidf__use_idf': False},\n",
              "  {'svm_clf__penalty': 'l2',\n",
              "   'svm_tfidf__ngram_range': (1, 1),\n",
              "   'svm_tfidf__smooth_idf': False,\n",
              "   'svm_tfidf__use_idf': True},\n",
              "  {'svm_clf__penalty': 'l2',\n",
              "   'svm_tfidf__ngram_range': (1, 1),\n",
              "   'svm_tfidf__smooth_idf': False,\n",
              "   'svm_tfidf__use_idf': False},\n",
              "  {'svm_clf__penalty': 'l2',\n",
              "   'svm_tfidf__ngram_range': (1, 2),\n",
              "   'svm_tfidf__smooth_idf': True,\n",
              "   'svm_tfidf__use_idf': True},\n",
              "  {'svm_clf__penalty': 'l2',\n",
              "   'svm_tfidf__ngram_range': (1, 2),\n",
              "   'svm_tfidf__smooth_idf': True,\n",
              "   'svm_tfidf__use_idf': False},\n",
              "  {'svm_clf__penalty': 'l2',\n",
              "   'svm_tfidf__ngram_range': (1, 2),\n",
              "   'svm_tfidf__smooth_idf': False,\n",
              "   'svm_tfidf__use_idf': True},\n",
              "  {'svm_clf__penalty': 'l2',\n",
              "   'svm_tfidf__ngram_range': (1, 2),\n",
              "   'svm_tfidf__smooth_idf': False,\n",
              "   'svm_tfidf__use_idf': False},\n",
              "  {'svm_clf__penalty': 'l2',\n",
              "   'svm_tfidf__ngram_range': (1, 3),\n",
              "   'svm_tfidf__smooth_idf': True,\n",
              "   'svm_tfidf__use_idf': True},\n",
              "  {'svm_clf__penalty': 'l2',\n",
              "   'svm_tfidf__ngram_range': (1, 3),\n",
              "   'svm_tfidf__smooth_idf': True,\n",
              "   'svm_tfidf__use_idf': False},\n",
              "  {'svm_clf__penalty': 'l2',\n",
              "   'svm_tfidf__ngram_range': (1, 3),\n",
              "   'svm_tfidf__smooth_idf': False,\n",
              "   'svm_tfidf__use_idf': True},\n",
              "  {'svm_clf__penalty': 'l2',\n",
              "   'svm_tfidf__ngram_range': (1, 3),\n",
              "   'svm_tfidf__smooth_idf': False,\n",
              "   'svm_tfidf__use_idf': False},\n",
              "  {'svm_clf__penalty': 'l2',\n",
              "   'svm_tfidf__ngram_range': (1, 4),\n",
              "   'svm_tfidf__smooth_idf': True,\n",
              "   'svm_tfidf__use_idf': True},\n",
              "  {'svm_clf__penalty': 'l2',\n",
              "   'svm_tfidf__ngram_range': (1, 4),\n",
              "   'svm_tfidf__smooth_idf': True,\n",
              "   'svm_tfidf__use_idf': False},\n",
              "  {'svm_clf__penalty': 'l2',\n",
              "   'svm_tfidf__ngram_range': (1, 4),\n",
              "   'svm_tfidf__smooth_idf': False,\n",
              "   'svm_tfidf__use_idf': True},\n",
              "  {'svm_clf__penalty': 'l2',\n",
              "   'svm_tfidf__ngram_range': (1, 4),\n",
              "   'svm_tfidf__smooth_idf': False,\n",
              "   'svm_tfidf__use_idf': False},\n",
              "  {'svm_clf__penalty': 'l2',\n",
              "   'svm_tfidf__ngram_range': (1, 5),\n",
              "   'svm_tfidf__smooth_idf': True,\n",
              "   'svm_tfidf__use_idf': True},\n",
              "  {'svm_clf__penalty': 'l2',\n",
              "   'svm_tfidf__ngram_range': (1, 5),\n",
              "   'svm_tfidf__smooth_idf': True,\n",
              "   'svm_tfidf__use_idf': False},\n",
              "  {'svm_clf__penalty': 'l2',\n",
              "   'svm_tfidf__ngram_range': (1, 5),\n",
              "   'svm_tfidf__smooth_idf': False,\n",
              "   'svm_tfidf__use_idf': True},\n",
              "  {'svm_clf__penalty': 'l2',\n",
              "   'svm_tfidf__ngram_range': (1, 5),\n",
              "   'svm_tfidf__smooth_idf': False,\n",
              "   'svm_tfidf__use_idf': False}],\n",
              " 'rank_test_score': array([21, 21, 21, 21, 21, 21, 21, 21, 21, 21, 21, 21, 21, 21, 21, 21, 21,\n",
              "        21, 21, 21, 19, 17, 20, 17, 13, 15, 14, 15,  6, 11,  4, 11,  2,  7,\n",
              "         1,  7,  5,  9,  3,  9], dtype=int32),\n",
              " 'split0_test_score': array([0.        , 0.        , 0.        , 0.        , 0.        ,\n",
              "        0.        , 0.        , 0.        , 0.        , 0.        ,\n",
              "        0.        , 0.        , 0.        , 0.        , 0.        ,\n",
              "        0.        , 0.        , 0.        , 0.        , 0.        ,\n",
              "        0.59238152, 0.59988002, 0.59268146, 0.59988002, 0.61367726,\n",
              "        0.6139772 , 0.61607678, 0.6139772 , 0.61967606, 0.6184763 ,\n",
              "        0.62087582, 0.6184763 , 0.62327534, 0.6169766 , 0.62387522,\n",
              "        0.6169766 , 0.62237552, 0.62087582, 0.62087582, 0.62087582]),\n",
              " 'split1_test_score': array([0.        , 0.        , 0.        , 0.        , 0.        ,\n",
              "        0.        , 0.        , 0.        , 0.        , 0.        ,\n",
              "        0.        , 0.        , 0.        , 0.        , 0.        ,\n",
              "        0.        , 0.        , 0.        , 0.        , 0.        ,\n",
              "        0.57605761, 0.58085809, 0.57635764, 0.58085809, 0.6009601 ,\n",
              "        0.59645965, 0.59825983, 0.59645965, 0.60066007, 0.6039604 ,\n",
              "        0.60276028, 0.6039604 , 0.6039604 , 0.60666067, 0.60546055,\n",
              "        0.60666067, 0.60486049, 0.60366037, 0.60756076, 0.60366037]),\n",
              " 'split2_test_score': array([0.        , 0.        , 0.        , 0.        , 0.        ,\n",
              "        0.        , 0.        , 0.        , 0.        , 0.        ,\n",
              "        0.        , 0.        , 0.        , 0.        , 0.        ,\n",
              "        0.        , 0.        , 0.        , 0.        , 0.        ,\n",
              "        0.57515752, 0.57965797, 0.57245725, 0.57965797, 0.59465947,\n",
              "        0.59045905, 0.59375938, 0.59045905, 0.60216022, 0.59585959,\n",
              "        0.60156016, 0.59585959, 0.60246025, 0.59825983, 0.60126013,\n",
              "        0.59825983, 0.59735974, 0.5949595 , 0.59885989, 0.5949595 ]),\n",
              " 'std_fit_time': array([0.00429084, 0.01057059, 0.01021126, 0.00898653, 0.0026195 ,\n",
              "        0.01529005, 0.01015111, 0.00703326, 0.01279677, 0.02029406,\n",
              "        0.01888697, 0.00552357, 0.01002882, 0.01409928, 0.00996706,\n",
              "        0.01207316, 0.00832078, 0.01990136, 0.00818566, 0.01450722,\n",
              "        0.01423481, 0.01032815, 0.00601219, 0.00440201, 0.00501273,\n",
              "        0.0046015 , 0.01272706, 0.00794191, 0.00763437, 0.01412619,\n",
              "        0.02077698, 0.01187709, 0.02019464, 0.01169475, 0.01023991,\n",
              "        0.02035927, 0.01497115, 0.02956724, 0.02192486, 0.01291395]),\n",
              " 'std_score_time': array([0.        , 0.        , 0.        , 0.        , 0.        ,\n",
              "        0.        , 0.        , 0.        , 0.        , 0.        ,\n",
              "        0.        , 0.        , 0.        , 0.        , 0.        ,\n",
              "        0.        , 0.        , 0.        , 0.        , 0.        ,\n",
              "        0.00253008, 0.00056994, 0.00148288, 0.00118448, 0.01339368,\n",
              "        0.00535948, 0.00516624, 0.00674135, 0.0158445 , 0.01144063,\n",
              "        0.01207913, 0.01289384, 0.01151231, 0.01246218, 0.01280437,\n",
              "        0.01477582, 0.00949102, 0.00809188, 0.00452035, 0.02863532]),\n",
              " 'std_test_score': array([0.        , 0.        , 0.        , 0.        , 0.        ,\n",
              "        0.        , 0.        , 0.        , 0.        , 0.        ,\n",
              "        0.        , 0.        , 0.        , 0.        , 0.        ,\n",
              "        0.        , 0.        , 0.        , 0.        , 0.        ,\n",
              "        0.00791625, 0.00926333, 0.0087608 , 0.00926333, 0.00791023,\n",
              "        0.00997806, 0.00963698, 0.00997806, 0.00863282, 0.00935658,\n",
              "        0.00883666, 0.00935658, 0.00947902, 0.00765464, 0.00982213,\n",
              "        0.00765464, 0.01048231, 0.01076937, 0.00905384, 0.01076937])}"
            ]
          },
          "metadata": {
            "tags": []
          },
          "execution_count": 41
        }
      ]
    },
    {
      "cell_type": "code",
      "metadata": {
        "id": "ZzstbU7F5VfI",
        "colab_type": "code",
        "outputId": "0aaff4db-f96c-4c85-fb7f-fa9ffc4ddb93",
        "colab": {
          "base_uri": "https://localhost:8080/",
          "height": 170
        }
      },
      "source": [
        "#running both random forest and logistic regression models again with best parameter found with GridSearch method\n",
        "random_forest_final = Pipeline([\n",
        "        ('rf_tfidf',TfidfVectorizer(stop_words='english',ngram_range=(1,3),use_idf=True,smooth_idf=True)),\n",
        "        ('rf_clf',RandomForestClassifier(n_estimators=300,n_jobs=3,max_depth=10))\n",
        "        ])\n",
        "    \n",
        "random_forest_final.fit(train_news['Statement'],train_news['Label'])\n",
        "predicted_rf_final = random_forest_final.predict(test_news['Statement'])\n",
        "np.mean(predicted_rf_final == test_news['Label'])\n",
        "print(metrics.classification_report(test_news['Label'], predicted_rf_final))\n"
      ],
      "execution_count": 42,
      "outputs": [
        {
          "output_type": "stream",
          "text": [
            "              precision    recall  f1-score   support\n",
            "\n",
            "       False       1.00      0.00      0.00      1169\n",
            "        True       0.54      1.00      0.70      1382\n",
            "\n",
            "    accuracy                           0.54      2551\n",
            "   macro avg       0.77      0.50      0.35      2551\n",
            "weighted avg       0.75      0.54      0.38      2551\n",
            "\n"
          ],
          "name": "stdout"
        }
      ]
    },
    {
      "cell_type": "code",
      "metadata": {
        "id": "Vnm2wF_F5VU2",
        "colab_type": "code",
        "outputId": "7b514a09-1a93-4b31-8ce6-043d17df327c",
        "colab": {
          "base_uri": "https://localhost:8080/",
          "height": 170
        }
      },
      "source": [
        "logR_pipeline_final = Pipeline([\n",
        "        #('LogRCV',countV_ngram),\n",
        "        ('LogR_tfidf',TfidfVectorizer(stop_words='english',ngram_range=(1,5),use_idf=True,smooth_idf=False)),\n",
        "        ('LogR_clf',LogisticRegression(penalty=\"l2\",C=1,solver='lbfgs'))\n",
        "        ])\n",
        "\n",
        "logR_pipeline_final.fit(train_news['Statement'],train_news['Label'])\n",
        "predicted_LogR_final = logR_pipeline_final.predict(test_news['Statement'])\n",
        "np.mean(predicted_LogR_final == test_news['Label'])\n",
        "#accuracy\n",
        "print(metrics.classification_report(test_news['Label'], predicted_LogR_final))\n"
      ],
      "execution_count": 54,
      "outputs": [
        {
          "output_type": "stream",
          "text": [
            "              precision    recall  f1-score   support\n",
            "\n",
            "       False       0.64      0.38      0.48      1169\n",
            "        True       0.61      0.82      0.70      1382\n",
            "\n",
            "    accuracy                           0.62      2551\n",
            "   macro avg       0.62      0.60      0.59      2551\n",
            "weighted avg       0.62      0.62      0.60      2551\n",
            "\n"
          ],
          "name": "stdout"
        }
      ]
    },
    {
      "cell_type": "code",
      "metadata": {
        "id": "-lRKuZqx5VK5",
        "colab_type": "code",
        "colab": {}
      },
      "source": [
        "#saving best model to the disk\n",
        "model_file = 'final_model.sav'\n",
        "pickle.dump(logR_pipeline_ngram,open(model_file,'wb'))\n"
      ],
      "execution_count": 0,
      "outputs": []
    },
    {
      "cell_type": "code",
      "metadata": {
        "id": "pXlyPH_Y5U8e",
        "colab_type": "code",
        "colab": {}
      },
      "source": [
        "#Plotting learing curve\n",
        "def plot_learing_curve(pipeline,title):\n",
        "    size = 10000\n",
        "    cv = KFold(size, shuffle=True)\n",
        "    \n",
        "    X = train_news[\"Statement\"]\n",
        "    y = train_news[\"Label\"]\n",
        "    \n",
        "    pl = pipeline\n",
        "    pl.fit(X,y)\n",
        "    \n",
        "    train_sizes, train_scores, test_scores = learning_curve(pl, X, y, n_jobs=-1, cv=cv, train_sizes=np.linspace(.1, 1.0, 5), verbose=0)\n",
        "       \n",
        "    train_scores_mean = np.mean(train_scores, axis=1)\n",
        "    train_scores_std = np.std(train_scores, axis=1)\n",
        "    test_scores_mean = np.mean(test_scores, axis=1)\n",
        "    test_scores_std = np.std(test_scores, axis=1)\n",
        "     \n",
        "    plt.figure()\n",
        "    plt.title(title)\n",
        "    plt.legend(loc=\"best\")\n",
        "    plt.xlabel(\"Training examples\")\n",
        "    plt.ylabel(\"Score\")\n",
        "    plt.gca().invert_yaxis()\n",
        "    \n",
        "    # box-like grid\n",
        "    plt.grid()\n",
        "    \n",
        "    # plot the std deviation as a transparent range at each training set size\n",
        "    plt.fill_between(train_sizes, train_scores_mean - train_scores_std, train_scores_mean + train_scores_std, alpha=0.1, color=\"r\")\n",
        "    plt.fill_between(train_sizes, test_scores_mean - test_scores_std, test_scores_mean + test_scores_std, alpha=0.1, color=\"g\")\n",
        "    \n",
        "    # plot the average training and test score lines at each training set size\n",
        "    plt.plot(train_sizes, train_scores_mean, 'o-', color=\"r\", label=\"Training score\")\n",
        "    plt.plot(train_sizes, test_scores_mean, 'o-', color=\"g\", label=\"Cross-validation score\")\n",
        "    \n",
        "    # sizes the window for readability and displays the plot\n",
        "    # shows error from 0 to 1.1\n",
        "    plt.ylim(-.1,1.1)\n",
        "    plt.show()"
      ],
      "execution_count": 0,
      "outputs": []
    },
    {
      "cell_type": "code",
      "metadata": {
        "id": "peIm2PHIV5Dd",
        "colab_type": "code",
        "colab": {}
      },
      "source": [
        "def plot_learning_curve(pipeline,title,X,y, train_sizes=np.linspace(.1,1.0,5)):\n",
        "    size = 100\n",
        " \n",
        "    pl = pipeline\n",
        "    pl.fit(X,y)\n",
        "    \n",
        "    cv = KFold(size, shuffle=True)   \n",
        "    plt.figure()\n",
        "    plt.title(title)\n",
        "    plt.legend(loc=\"best\")\n",
        "    plt.xlabel(\"Training examples\")\n",
        "    plt.ylabel(\"Score\")\n",
        "    train_sizes, train_scores, test_scores = learning_curve(pl, X, y, n_jobs=-1, cv=cv, train_sizes=np.linspace(.1, 1.0, 5))\n",
        "    train_scores_mean = np.mean(train_scores, axis=1)\n",
        "    train_scores_std = np.std(train_scores, axis=1)\n",
        "    test_scores_mean = np.mean(test_scores, axis=1)\n",
        "    test_scores_std = np.std(test_scores, axis=1)\n",
        "     \n",
        "    plt.gca().invert_yaxis()\n",
        "    \n",
        "    # box-like grid\n",
        "    plt.grid()\n",
        "    \n",
        "    # plot the std deviation as a transparent range at each training set size\n",
        "    plt.fill_between(train_sizes, train_scores_mean - train_scores_std, train_scores_mean + train_scores_std, alpha=0.1, color=\"r\")\n",
        "    plt.fill_between(train_sizes, test_scores_mean - test_scores_std, test_scores_mean + test_scores_std, alpha=0.1, color=\"g\")\n",
        "    \n",
        "    # plot the average training and test score lines at each training set size\n",
        "    plt.plot(train_sizes, train_scores_mean, 'o-', color=\"r\", label=\"Training score\")\n",
        "    plt.plot(train_sizes, test_scores_mean, 'o-', color=\"g\", label=\"Cross-validation score\")\n",
        "    \n",
        "    # sizes the window for readability and displays the plot\n",
        "    # shows error from 0 to 1.1\n",
        "    plt.ylim(-.1,1.1)\n",
        "    plt.show()\n",
        "    return plt\n"
      ],
      "execution_count": 0,
      "outputs": []
    },
    {
      "cell_type": "code",
      "metadata": {
        "id": "4a5PHi7u5Uyx",
        "colab_type": "code",
        "outputId": "9bee0db8-ae0a-47e9-f92c-6159718c74af",
        "colab": {
          "base_uri": "https://localhost:8080/",
          "height": 383
        }
      },
      "source": [
        "#below command will plot learing curves for each of the classifiers\n",
        "X = train_news[\"Statement\"]\n",
        "y = train_news[\"Label\"]\n",
        "    \n",
        "plot_learning_curve(logR_pipeline_ngram,\"Naive-bayes Classifier\", X,y)\n"
      ],
      "execution_count": 66,
      "outputs": [
        {
          "output_type": "stream",
          "text": [
            "/usr/local/lib/python3.6/dist-packages/sklearn/linear_model/logistic.py:432: FutureWarning: Default solver will be changed to 'lbfgs' in 0.22. Specify a solver to silence this warning.\n",
            "  FutureWarning)\n",
            "No handles with labels found to put in legend.\n"
          ],
          "name": "stderr"
        },
        {
          "output_type": "display_data",
          "data": {
            "image/png": "[encoded data removed]",
            "text/plain": [
              "<Figure size 432x288 with 1 Axes>"
            ]
          },
          "metadata": {
            "tags": []
          }
        },
        {
          "output_type": "execute_result",
          "data": {
            "text/plain": [
              "<module 'matplotlib.pyplot' from '/usr/local/lib/python3.6/dist-packages/matplotlib/pyplot.py'>"
            ]
          },
          "metadata": {
            "tags": []
          },
          "execution_count": 66
        }
      ]
    },
    {
      "cell_type": "code",
      "metadata": {
        "id": "v4aYe5wXGAIR",
        "colab_type": "code",
        "colab": {}
      },
      "source": [
        "plot_learing_curve(nb_pipeline_ngram,\"LogisticRegression Classifier\")"
      ],
      "execution_count": 0,
      "outputs": []
    },
    {
      "cell_type": "code",
      "metadata": {
        "id": "MR88-7uhGCnl",
        "colab_type": "code",
        "colab": {
          "base_uri": "https://localhost:8080/",
          "height": 312
        },
        "outputId": "53ea3657-3462-4897-da52-7c2ad8cc8878"
      },
      "source": [
        "plot_learing_curve(svm_pipeline_ngram,\"SVM Classifier\")"
      ],
      "execution_count": 63,
      "outputs": [
        {
          "output_type": "stream",
          "text": [
            "No handles with labels found to put in legend.\n"
          ],
          "name": "stderr"
        },
        {
          "output_type": "display_data",
          "data": {
            "image/png": "[encoded data removed]",
            "text/plain": [
              "<Figure size 432x288 with 1 Axes>"
            ]
          },
          "metadata": {
            "tags": []
          }
        }
      ]
    },
    {
      "cell_type": "code",
      "metadata": {
        "id": "mqlSijm7GE5s",
        "colab_type": "code",
        "colab": {
          "base_uri": "https://localhost:8080/",
          "height": 312
        },
        "outputId": "90aaa036-4f85-4d50-d1c2-69629db8942f"
      },
      "source": [
        "plot_learing_curve(sgd_pipeline_ngram,\"SGD Classifier\")"
      ],
      "execution_count": 67,
      "outputs": [
        {
          "output_type": "stream",
          "text": [
            "No handles with labels found to put in legend.\n"
          ],
          "name": "stderr"
        },
        {
          "output_type": "display_data",
          "data": {
            "image/png": "[encoded data removed]",
            "text/plain": [
              "<Figure size 432x288 with 1 Axes>"
            ]
          },
          "metadata": {
            "tags": []
          }
        }
      ]
    },
    {
      "cell_type": "code",
      "metadata": {
        "id": "2THnt9oJGHWg",
        "colab_type": "code",
        "colab": {}
      },
      "source": [
        "plot_learing_curve(random_forest_ngram,\"RandomForest Classifier\")"
      ],
      "execution_count": 0,
      "outputs": []
    },
    {
      "cell_type": "code",
      "metadata": {
        "id": "VxvEyW2b5UpN",
        "colab_type": "code",
        "colab": {}
      },
      "source": [
        "#plotting Precision-Recall curve\n",
        "def plot_PR_curve(classifier):\n",
        "    \n",
        "    precision, recall, thresholds = precision_recall_curve(test_news['Label'], classifier)\n",
        "    average_precision = average_precision_score(test_news['Label'], classifier)\n",
        "    \n",
        "    plt.step(recall, precision, color='b', alpha=0.2,\n",
        "             where='post')\n",
        "    plt.fill_between(recall, precision, step='post', alpha=0.2,\n",
        "                     color='b')\n",
        "    \n",
        "    plt.xlabel('Recall')\n",
        "    plt.ylabel('Precision')\n",
        "    plt.ylim([0.0, 1.05])\n",
        "    plt.xlim([0.0, 1.0])\n",
        "    plt.title('2-class Random Forest Precision-Recall curve: AP={0:0.2f}'.format(\n",
        "              average_precision))"
      ],
      "execution_count": 0,
      "outputs": []
    },
    {
      "cell_type": "code",
      "metadata": {
        "id": "um9qmJrE5UZk",
        "colab_type": "code",
        "colab": {}
      },
      "source": [
        "plot_PR_curve(predicted_LogR_ngram)\n",
        "plot_PR_curve(predicted_rf_ngram)"
      ],
      "execution_count": 0,
      "outputs": []
    },
    {
      "cell_type": "code",
      "metadata": {
        "id": "kuU-EwG25UPX",
        "colab_type": "code",
        "colab": {}
      },
      "source": [
        ""
      ],
      "execution_count": 0,
      "outputs": []
    },
    {
      "cell_type": "code",
      "metadata": {
        "id": "CkBqk1PR5UFj",
        "colab_type": "code",
        "colab": {}
      },
      "source": [
        ""
      ],
      "execution_count": 0,
      "outputs": []
    },
    {
      "cell_type": "code",
      "metadata": {
        "id": "EhtPzsYA5T5H",
        "colab_type": "code",
        "colab": {}
      },
      "source": [
        ""
      ],
      "execution_count": 0,
      "outputs": []
    }
  ]
}