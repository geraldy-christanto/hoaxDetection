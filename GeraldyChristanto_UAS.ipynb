{
  "nbformat": 4,
  "nbformat_minor": 0,
  "metadata": {
    "colab": {
      "name": "GeraldyChristanto_UAS",
      "provenance": [],
      "collapsed_sections": [
        "dHIz4ECEkGKp",
        "kISYCggNs2pm",
        "IzXRn170zeJA",
        "VQum11oSvmsX",
        "Z8xq-2n0s4u6"
      ],
      "include_colab_link": true
    },
    "kernelspec": {
      "name": "python3",
      "display_name": "Python 3"
    }
  },
  "cells": [
    {
      "cell_type": "markdown",
      "metadata": {
        "id": "view-in-github",
        "colab_type": "text"
      },
      "source": [
        "<a href=\"https://colab.research.google.com/github/geraldy-christanto/hoaxDetection/blob/master/GeraldyChristanto_UAS.ipynb\" target=\"_parent\"><img src=\"https://colab.research.google.com/assets/colab-badge.svg\" alt=\"Open In Colab\"/></a>"
      ]
    },
    {
      "cell_type": "markdown",
      "metadata": {
        "id": "dHIz4ECEkGKp",
        "colab_type": "text"
      },
      "source": [
        "#PERSIAPAN DATA#"
      ]
    },
    {
      "cell_type": "markdown",
      "metadata": {
        "id": "l4HnemLqj74U",
        "colab_type": "text"
      },
      "source": [
        "**Import Library**"
      ]
    },
    {
      "cell_type": "code",
      "metadata": {
        "id": "rBsb6-01eSOF",
        "colab_type": "code",
        "outputId": "faaa71c5-3709-4618-cb52-f5193ef5b9ae",
        "colab": {
          "base_uri": "https://localhost:8080/",
          "height": 51
        }
      },
      "source": [
        "import pandas as pd\n",
        "import csv\n",
        "import numpy as np\n",
        "import nltk\n",
        "from nltk.stem import SnowballStemmer\n",
        "from nltk.stem.porter import PorterStemmer\n",
        "from nltk.tokenize import word_tokenize\n",
        "import nltk.corpus \n",
        "nltk.download('treebank')\n",
        "import seaborn as sb\n",
        "import matplotlib.pyplot as plt\n",
        "import pickle\n",
        "from sklearn.naive_bayes import MultinomialNB\n",
        "from sklearn.linear_model import  LogisticRegression\n",
        "from sklearn.linear_model import SGDClassifier\n",
        "from sklearn import svm\n",
        "from sklearn.feature_extraction.text import CountVectorizer\n",
        "from sklearn.feature_extraction.text import TfidfTransformer\n",
        "from sklearn.feature_extraction.text import TfidfVectorizer\n",
        "from sklearn.pipeline import Pipeline\n",
        "from sklearn.ensemble import RandomForestClassifier\n",
        "from sklearn.model_selection import KFold\n",
        "from sklearn.metrics import confusion_matrix, f1_score, classification_report\n",
        "from sklearn.model_selection import GridSearchCV\n",
        "from sklearn.model_selection import learning_curve\n",
        "from sklearn.metrics import precision_recall_curve\n",
        "from sklearn.metrics import average_precision_score\n",
        "import sklearn.metrics as metrics\n",
        "from gensim.models.word2vec import Word2Vec"
      ],
      "execution_count": 4,
      "outputs": [
        {
          "output_type": "stream",
          "text": [
            "[nltk_data] Downloading package treebank to /root/nltk_data...\n",
            "[nltk_data]   Unzipping corpora/treebank.zip.\n"
          ],
          "name": "stdout"
        }
      ]
    },
    {
      "cell_type": "markdown",
      "metadata": {
        "id": "Eou325h9kDL4",
        "colab_type": "text"
      },
      "source": [
        "**Import data dari Github**"
      ]
    },
    {
      "cell_type": "code",
      "metadata": {
        "id": "Lf3RekcugELb",
        "colab_type": "code",
        "colab": {}
      },
      "source": [
        "test_data = 'https://raw.githubusercontent.com/geraldy-christanto/hoaxDetection/master/test.csv'\n",
        "train_data = 'https://raw.githubusercontent.com/geraldy-christanto/hoaxDetection/master/train.csv'\n",
        "valid_data = 'https://raw.githubusercontent.com/geraldy-christanto/hoaxDetection/master/valid.csv'\n",
        "\n",
        "train_news = pd.read_csv(train_data)\n",
        "test_news = pd.read_csv(test_data)\n",
        "valid_news = pd.read_csv(valid_data)"
      ],
      "execution_count": 0,
      "outputs": []
    },
    {
      "cell_type": "markdown",
      "metadata": {
        "id": "C66tm2f1kcYW",
        "colab_type": "text"
      },
      "source": [
        "**Observasi Data**"
      ]
    },
    {
      "cell_type": "code",
      "metadata": {
        "id": "YFutmW96g0sI",
        "colab_type": "code",
        "colab": {}
      },
      "source": [
        "#Fungsi untuk observasi dari dataset training, testing, dan validation\n",
        "def data_obs():\n",
        "    print(\"Ukuran dataset training:\")\n",
        "    print(train_news.shape)\n",
        "    print(train_news.head(10))\n",
        "\n",
        "    print(\"\\nUkuran dataset testing:\")\n",
        "    print(test_news.shape)\n",
        "    print(test_news.head(10))\n",
        "\n",
        "    print(\"\\nUkuran dataset validation:\")\n",
        "    print(valid_news.shape)\n",
        "    print(valid_news.head(10))"
      ],
      "execution_count": 0,
      "outputs": []
    },
    {
      "cell_type": "code",
      "metadata": {
        "id": "ppYGo59vg4jM",
        "colab_type": "code",
        "outputId": "f9e8ac0e-476a-483f-d55b-ab8d337a424c",
        "colab": {
          "base_uri": "https://localhost:8080/",
          "height": 714
        }
      },
      "source": [
        "data_obs()"
      ],
      "execution_count": 7,
      "outputs": [
        {
          "output_type": "stream",
          "text": [
            "Ukuran dataset training:\n",
            "(10240, 2)\n",
            "                                           Statement  Label\n",
            "0  Says the Annies List political group supports ...  False\n",
            "1  When did the decline of coal start? It started...   True\n",
            "2  Hillary Clinton agrees with John McCain \"by vo...   True\n",
            "3  Health care reform legislation is likely to ma...  False\n",
            "4  The economic turnaround started at the end of ...   True\n",
            "5  The Chicago Bears have had more starting quart...   True\n",
            "6  Jim Dunnam has not lived in the district he re...  False\n",
            "7  I'm the only person on this stage who has work...   True\n",
            "8  However, it took $19.5 million in Oregon Lotte...   True\n",
            "9  Says GOP primary opponents Glenn Grothman and ...   True\n",
            "\n",
            "Ukuran dataset testing:\n",
            "(2551, 2)\n",
            "                                           Statement  Label\n",
            "0  Building a wall on the U.S.-Mexico border will...   True\n",
            "1  Wisconsin is on pace to double the number of l...  False\n",
            "2  Says John McCain has done nothing to help the ...  False\n",
            "3  Suzanne Bonamici supports a plan that will cut...   True\n",
            "4  When asked by a reporter whether hes at the ce...  False\n",
            "5  Over the past five years the federal governmen...   True\n",
            "6  Says that Tennessee law requires that schools ...   True\n",
            "7  Says Vice President Joe Biden \"admits that the...  False\n",
            "8  Donald Trump is against marriage equality. He ...   True\n",
            "9  We know that more than half of Hillary Clinton...  False\n",
            "\n",
            "Ukuran dataset validation:\n",
            "(2570, 2)\n",
            "                                           Statement  Label\n",
            "0  We have less Americans working now than in the...  FALSE\n",
            "1  When Obama was sworn into office, he DID NOT u...  FALSE\n",
            "2  Says Having organizations parading as being so...  FALSE\n",
            "3     Says nearly half of Oregons children are poor.   TRUE\n",
            "4  On attacks by Republicans that various program...   TRUE\n",
            "5  Says when armed civilians stop mass shootings ...  FALSE\n",
            "6  Says Tennessee is providing millions of dollar...   TRUE\n",
            "7  The health care reform plan would set limits s...  FALSE\n",
            "8  Says Donald Trump started his career back in 1...   TRUE\n",
            "9  Bill White has a long history of trying to lim...   TRUE\n"
          ],
          "name": "stdout"
        }
      ]
    },
    {
      "cell_type": "markdown",
      "metadata": {
        "id": "rsKpq8BJk9JR",
        "colab_type": "text"
      },
      "source": [
        "**Distribusi data dari masing-masing dataset**"
      ]
    },
    {
      "cell_type": "code",
      "metadata": {
        "id": "vyb00tPAhA-e",
        "colab_type": "code",
        "colab": {}
      },
      "source": [
        "def distribusi_data(dataFile):\n",
        "    return sb.countplot(x='Label', data=dataFile, palette='hls')"
      ],
      "execution_count": 0,
      "outputs": []
    },
    {
      "cell_type": "code",
      "metadata": {
        "id": "aa2DquOhhEIC",
        "colab_type": "code",
        "outputId": "c7f1b50c-aabd-4598-f8a3-d8db65bb339a",
        "colab": {
          "base_uri": "https://localhost:8080/",
          "height": 299
        }
      },
      "source": [
        "distribusi_data(train_news)"
      ],
      "execution_count": 99,
      "outputs": [
        {
          "output_type": "execute_result",
          "data": {
            "text/plain": [
              "<matplotlib.axes._subplots.AxesSubplot at 0x7f4a5232be48>"
            ]
          },
          "metadata": {
            "tags": []
          },
          "execution_count": 99
        },
        {
          "output_type": "display_data",
          "data": {
            "image/png": "[encoded data removed]",
            "text/plain": [
              "<Figure size 432x288 with 1 Axes>"
            ]
          },
          "metadata": {
            "tags": []
          }
        }
      ]
    },
    {
      "cell_type": "code",
      "metadata": {
        "id": "bVXdSlJKhFu3",
        "colab_type": "code",
        "outputId": "5f9b7a43-d911-4658-bcbc-20d45cd149e0",
        "colab": {
          "base_uri": "https://localhost:8080/",
          "height": 296
        }
      },
      "source": [
        "distribusi_data(test_news)"
      ],
      "execution_count": 100,
      "outputs": [
        {
          "output_type": "execute_result",
          "data": {
            "text/plain": [
              "<matplotlib.axes._subplots.AxesSubplot at 0x7f4a4485ac50>"
            ]
          },
          "metadata": {
            "tags": []
          },
          "execution_count": 100
        },
        {
          "output_type": "display_data",
          "data": {
            "image/png": "[encoded data removed]",
            "text/plain": [
              "<Figure size 432x288 with 1 Axes>"
            ]
          },
          "metadata": {
            "tags": []
          }
        }
      ]
    },
    {
      "cell_type": "code",
      "metadata": {
        "id": "FRs5a9ashHLD",
        "colab_type": "code",
        "outputId": "2f612767-da44-42c6-abcd-3797b373ea4d",
        "colab": {
          "base_uri": "https://localhost:8080/",
          "height": 300
        }
      },
      "source": [
        "distribusi_data(valid_news)"
      ],
      "execution_count": 101,
      "outputs": [
        {
          "output_type": "execute_result",
          "data": {
            "text/plain": [
              "<matplotlib.axes._subplots.AxesSubplot at 0x7f4a439f24e0>"
            ]
          },
          "metadata": {
            "tags": []
          },
          "execution_count": 101
        },
        {
          "output_type": "display_data",
          "data": {
            "image/png": "[encoded data removed]",
            "text/plain": [
              "<Figure size 432x288 with 1 Axes>"
            ]
          },
          "metadata": {
            "tags": []
          }
        }
      ]
    },
    {
      "cell_type": "markdown",
      "metadata": {
        "id": "D01t-7AalGRt",
        "colab_type": "text"
      },
      "source": [
        "Dari ketiga dataset tersebut terdapat dua jenis label dari setiap statement, yaitu **TRUE** dan **FALSE**. Hasil distribusi data dapat dilihat dalam plot grafik batang di atas. Statement berita yang memiliki label **TRUE** lebih banyak dari yang **FALSE**, karena untuk melakukan prediksi juga perlu mendapatkan data training yang memiliki nilai **TRUE** sebagai acuan untuk menghitung probabilitas apakah statement dari sebuah berita yang akan di input dalam program bernilai **TRUE** atau dengan kata lain, berita tersebut benar."
      ]
    },
    {
      "cell_type": "markdown",
      "metadata": {
        "id": "zKUsX5tXoCh6",
        "colab_type": "text"
      },
      "source": [
        "**Mengecek Kualitas Data**\n",
        "\n",
        "Dari distribusi data yang telah dibuat, perlu dilakukan pengecekan kualitas data dari masing-masing dataset."
      ]
    },
    {
      "cell_type": "code",
      "metadata": {
        "id": "pm93c-cnhO3x",
        "colab_type": "code",
        "colab": {}
      },
      "source": [
        "def data_quality():\n",
        "    \n",
        "    print(\"Training news info\")\n",
        "    train_news.isnull().sum()\n",
        "    train_news.info()\n",
        "        \n",
        "    print(\"\\nTesting news info\")\n",
        "    test_news.isnull().sum()\n",
        "    test_news.info()\n",
        "\n",
        "    print(\"\\nValid news info\")\n",
        "    valid_news.isnull().sum()\n",
        "    valid_news.info()"
      ],
      "execution_count": 0,
      "outputs": []
    },
    {
      "cell_type": "code",
      "metadata": {
        "id": "gXoKwyLxhRct",
        "colab_type": "code",
        "outputId": "b77dba41-4bae-478d-82d9-00ea3721c210",
        "colab": {
          "base_uri": "https://localhost:8080/",
          "height": 459
        }
      },
      "source": [
        "data_quality()"
      ],
      "execution_count": 103,
      "outputs": [
        {
          "output_type": "stream",
          "text": [
            "Training news info\n",
            "<class 'pandas.core.frame.DataFrame'>\n",
            "RangeIndex: 10240 entries, 0 to 10239\n",
            "Data columns (total 2 columns):\n",
            "Statement    10240 non-null object\n",
            "Label        10240 non-null bool\n",
            "dtypes: bool(1), object(1)\n",
            "memory usage: 90.1+ KB\n",
            "\n",
            "Testing news info\n",
            "<class 'pandas.core.frame.DataFrame'>\n",
            "RangeIndex: 2551 entries, 0 to 2550\n",
            "Data columns (total 2 columns):\n",
            "Statement    2551 non-null object\n",
            "Label        2551 non-null bool\n",
            "dtypes: bool(1), object(1)\n",
            "memory usage: 22.5+ KB\n",
            "\n",
            "Valid news info\n",
            "<class 'pandas.core.frame.DataFrame'>\n",
            "RangeIndex: 2570 entries, 0 to 2569\n",
            "Data columns (total 2 columns):\n",
            "Statement    2570 non-null object\n",
            "Label        2569 non-null object\n",
            "dtypes: object(2)\n",
            "memory usage: 40.3+ KB\n"
          ],
          "name": "stdout"
        }
      ]
    },
    {
      "cell_type": "markdown",
      "metadata": {
        "id": "5SYXLA8DoUoQ",
        "colab_type": "text"
      },
      "source": [
        "Pengecekan kualitas data di atas menggunakan libray Pandas.Dataframe.\n",
        "Pengecekan ini bertujuan untuk melihat informasi dari masing-masing dataset, yang berisikan jumlah kolom, data type masing-masing kolom beserta jumlah datanya, dan memory yang digunakan untuk memproses pengambilan informasi data tersebut."
      ]
    },
    {
      "cell_type": "markdown",
      "metadata": {
        "id": "kISYCggNs2pm",
        "colab_type": "text"
      },
      "source": [
        "#PENGOLAHAN DATA#"
      ]
    },
    {
      "cell_type": "markdown",
      "metadata": {
        "id": "cu4AtlMvs9-7",
        "colab_type": "text"
      },
      "source": [
        "**1. Stemming Data**\n",
        "\n",
        "Stemming merupakan proses normalisasi kata atau teks yang sering digunakan dalam Natural Language Processing untuk menyiapkan teks untuk dapat diproses lebih lanjut. Untuk menerapkan algoritma Stemming ini saya menggunakan llibrary **nltk** atau **Natural Language Tool Kit**."
      ]
    },
    {
      "cell_type": "code",
      "metadata": {
        "id": "eHVDKQCNhZ3h",
        "colab_type": "code",
        "colab": {}
      },
      "source": [
        "#Fungsi Stemming\n",
        "def stem_tokens(tokens, stemmer):\n",
        "    stemmed = []\n",
        "    for token in tokens:\n",
        "        stemmed.append(stemmer.stem(token))\n",
        "    return stemmed\n",
        "\n",
        "#Proses data dengan fungsi stemming\n",
        "def process_data(data,exclude_stopword=True,stem=True):\n",
        "    tokens = [w.lower() for w in data]\n",
        "    tokens_stemmed = tokens\n",
        "    tokens_stemmed = stem_tokens(tokens, eng_stemmer)\n",
        "    tokens_stemmed = [w for w in tokens_stemmed if w not in stopwords ]\n",
        "    return tokens_stemmed\n",
        "\n",
        "#Unigram\n",
        "def create_unigram(words):\n",
        "    assert type(words) == list\n",
        "    return words\n",
        "\n",
        "#Bigram\n",
        "def create_bigrams(words):\n",
        "    assert type(words) == list\n",
        "    skip = 0\n",
        "    join_str = \" \"\n",
        "    Len = len(words)\n",
        "    if Len > 1:\n",
        "        lst = []\n",
        "        for i in range(Len-1):\n",
        "            for k in range(1,skip+2):\n",
        "                if i+k < Len:\n",
        "                    lst.append(join_str.join([words[i],words[i+k]]))\n",
        "    else:\n",
        "        lst = create_unigram(words)\n",
        "    return lst"
      ],
      "execution_count": 0,
      "outputs": []
    },
    {
      "cell_type": "markdown",
      "metadata": {
        "id": "1ON-YqtvuXHv",
        "colab_type": "text"
      },
      "source": [
        "Untuk melakukan proses data text, saya menggunakan dua jenis N-gram. Pertama, menggunakan Unigram (1-gram) dan Bigram(2-gram). N-gram ini biasa digunakan untuk text mining dan Natural Language Processing. N-gram merupakan salah satu pemodelan probabilistik teks atau *speech* untuk memprediksi kata berikutnya dalam bentuk (n - 1) seperti Markov chain. Fungsi dari n-gram yaitu untuk menyederhanakan teks melalui sebuah model yang dapat menyimpan lebih banyak konteks dari sebuah kalimat, dan memungkinkan untuk meningkatkan efisiensi algoritma karena memiliki skalabilitas yang tinggi."
      ]
    },
    {
      "cell_type": "code",
      "metadata": {
        "id": "iyyiumjchrc2",
        "colab_type": "code",
        "colab": {}
      },
      "source": [
        "porter = PorterStemmer()"
      ],
      "execution_count": 0,
      "outputs": []
    },
    {
      "cell_type": "code",
      "metadata": {
        "id": "BN1gLIhBhuCa",
        "colab_type": "code",
        "colab": {}
      },
      "source": [
        "def tokenizer(text):\n",
        "    return text.split()\n",
        "\n",
        "\n",
        "def tokenizer_porter(text):\n",
        "    return [porter.stem(word) for word in text.split()]"
      ],
      "execution_count": 0,
      "outputs": []
    },
    {
      "cell_type": "markdown",
      "metadata": {
        "id": "eZeq4gp8yYna",
        "colab_type": "text"
      },
      "source": [
        "Porter stemmer ini salah satu algoritma stemming yang sering digunakan untuk melakukan reduksi kata-kata dalam sebuah kalimat untuk menemukan 'akar' kata atau yang disebut lemma dengan melepas suffix atau prefixnya."
      ]
    },
    {
      "cell_type": "markdown",
      "metadata": {
        "id": "IzXRn170zeJA",
        "colab_type": "text"
      },
      "source": [
        "#KLASIFIKASI & SELEKSI"
      ]
    },
    {
      "cell_type": "markdown",
      "metadata": {
        "id": "0LF5Jc6e6XaX",
        "colab_type": "text"
      },
      "source": [
        "Proses klasifikasi ini, saya menggunakan library Sci-kit python, yang merupakan library untuk pemodelan prediksi. Setelah dibuat *tokenization* atau menguraikan teks menjadi kata, sehingga kata-kata tersebut dapat di encode menjadi bernilai integer atau floating point untuk digunakan sebagai input dalam algoritma machine learning, dalam hal ini menggunakan **sci-kit** yang disebut dengan extraction atau **vectorization**."
      ]
    },
    {
      "cell_type": "markdown",
      "metadata": {
        "id": "C0bYoXR-7Nwp",
        "colab_type": "text"
      },
      "source": [
        "**1. CountVectorizer**\n",
        "\n",
        "Fungsi ini digunakan untuk mengonversi teks menjadi vector dalam jumlah kata yang dimiliki pada statement dari training dataset."
      ]
    },
    {
      "cell_type": "code",
      "metadata": {
        "id": "5ML-01XWiM-G",
        "colab_type": "code",
        "colab": {}
      },
      "source": [
        "countV = CountVectorizer()\n",
        "train_count = countV.fit_transform(train_news['Statement'].values)"
      ],
      "execution_count": 0,
      "outputs": []
    },
    {
      "cell_type": "code",
      "metadata": {
        "id": "CPO1C9w2iRvQ",
        "colab_type": "code",
        "outputId": "c0531ff0-11d5-43c8-cab8-ba73ffdc33a7",
        "colab": {
          "base_uri": "https://localhost:8080/",
          "height": 986
        }
      },
      "source": [
        "print(countV)\n",
        "print(train_count)"
      ],
      "execution_count": 18,
      "outputs": [
        {
          "output_type": "stream",
          "text": [
            "CountVectorizer(analyzer='word', binary=False, decode_error='strict',\n",
            "                dtype=<class 'numpy.int64'>, encoding='utf-8', input='content',\n",
            "                lowercase=True, max_df=1.0, max_features=None, min_df=1,\n",
            "                ngram_range=(1, 1), preprocessor=None, stop_words=None,\n",
            "                strip_accents=None, token_pattern='(?u)\\\\b\\\\w\\\\w+\\\\b',\n",
            "                tokenizer=None, vocabulary=None)\n",
            "  (0, 9676)\t1\n",
            "  (0, 10988)\t1\n",
            "  (0, 1044)\t1\n",
            "  (0, 6639)\t1\n",
            "  (0, 8376)\t1\n",
            "  (0, 5115)\t1\n",
            "  (0, 10709)\t1\n",
            "  (0, 11036)\t1\n",
            "  (0, 11296)\t1\n",
            "  (0, 615)\t1\n",
            "  (0, 7728)\t1\n",
            "  (0, 3278)\t1\n",
            "  (1, 10988)\t1\n",
            "  (1, 11934)\t2\n",
            "  (1, 3434)\t1\n",
            "  (1, 3185)\t1\n",
            "  (1, 7672)\t1\n",
            "  (1, 2475)\t1\n",
            "  (1, 10425)\t1\n",
            "  (1, 6052)\t1\n",
            "  (1, 10426)\t2\n",
            "  (1, 7418)\t1\n",
            "  (1, 4860)\t1\n",
            "  (1, 11138)\t1\n",
            "  (1, 7674)\t1\n",
            "  :\t:\n",
            "  (10239, 10988)\t1\n",
            "  (10239, 7672)\t2\n",
            "  (10239, 11110)\t2\n",
            "  (10239, 5267)\t1\n",
            "  (10239, 7828)\t1\n",
            "  (10239, 7824)\t1\n",
            "  (10239, 1159)\t1\n",
            "  (10239, 12151)\t2\n",
            "  (10239, 6327)\t1\n",
            "  (10239, 6603)\t1\n",
            "  (10239, 11013)\t1\n",
            "  (10239, 11004)\t1\n",
            "  (10239, 3309)\t1\n",
            "  (10239, 12158)\t1\n",
            "  (10239, 11660)\t2\n",
            "  (10239, 799)\t1\n",
            "  (10239, 2568)\t1\n",
            "  (10239, 11622)\t1\n",
            "  (10239, 2549)\t1\n",
            "  (10239, 10660)\t1\n",
            "  (10239, 8996)\t1\n",
            "  (10239, 10918)\t1\n",
            "  (10239, 3989)\t1\n",
            "  (10239, 10594)\t1\n",
            "  (10239, 6853)\t1\n"
          ],
          "name": "stdout"
        }
      ]
    },
    {
      "cell_type": "code",
      "metadata": {
        "id": "ZkHkmGGGia0I",
        "colab_type": "code",
        "colab": {}
      },
      "source": [
        "def get_countVectorizer_stats():\n",
        "    \n",
        "    #Ukuran vocabulary dari training dataset\n",
        "    train_count.shape\n",
        "\n",
        "    #mengecek vocabulary menggunakan fungsi CountVectorizer \n",
        "    print(countV.vocabulary_)\n",
        "\n",
        "    #Memperoleh pemetaan dalam bentuk array\n",
        "    print(countV.get_feature_names()[:25])"
      ],
      "execution_count": 0,
      "outputs": []
    },
    {
      "cell_type": "markdown",
      "metadata": {
        "id": "_VejnwuI7njZ",
        "colab_type": "text"
      },
      "source": [
        "**2. TfidfVectorizer**\n",
        "\n",
        "Dalam tfidfVectorizer ini teks akan dikonversi menjadi vektor frekuensi kata. Parameter yang digunakan yaitu stop_words yaitu english karena dataset berita yang digunakan berbahasa Inggris, kemudian ngram_range dapat menggunakan jenis ngram tingkat 4."
      ]
    },
    {
      "cell_type": "code",
      "metadata": {
        "id": "TDCyWbAt7lrX",
        "colab_type": "code",
        "colab": {}
      },
      "source": [
        "tfidfV = TfidfTransformer()\n",
        "train_tfidf = tfidfV.fit_transform(train_count)\n",
        "\n",
        "def get_tfidf_stats():\n",
        "    train_tfidf.shape\n",
        "   \n",
        "    print(train_tfidf.A[:10])"
      ],
      "execution_count": 0,
      "outputs": []
    },
    {
      "cell_type": "code",
      "metadata": {
        "id": "DRqnxFozifnn",
        "colab_type": "code",
        "colab": {}
      },
      "source": [
        "tfidf_ngram = TfidfVectorizer(stop_words='english',ngram_range=(1,4),use_idf=True,smooth_idf=True)"
      ],
      "execution_count": 0,
      "outputs": []
    },
    {
      "cell_type": "markdown",
      "metadata": {
        "id": "UPy0174P8Lxi",
        "colab_type": "text"
      },
      "source": [
        "**Part-of-Speech Tagging** <br>\n",
        "Pada tahap ini kata-kata yang telah di vectorizer akan dikategorikan berdasarkan kelas kata, seperti kata benda, kata kerja, kata sifat, dan lain-lain. Library yang digunakan yaitu nltk.corpus"
      ]
    },
    {
      "cell_type": "code",
      "metadata": {
        "id": "ka71rJ5eijBo",
        "colab_type": "code",
        "outputId": "d69e495e-1ea6-475e-89b5-b50965cbacec",
        "colab": {
          "base_uri": "https://localhost:8080/",
          "height": 221
        }
      },
      "source": [
        "#POS Tagging\n",
        "tagged_sentences = nltk.corpus.treebank.tagged_sents()\n",
        "\n",
        "cutoff = int(.75 * len(tagged_sentences))\n",
        "training_sentences = train_news['Statement']\n",
        " \n",
        "print(training_sentences)"
      ],
      "execution_count": 22,
      "outputs": [
        {
          "output_type": "stream",
          "text": [
            "0        Says the Annies List political group supports ...\n",
            "1        When did the decline of coal start? It started...\n",
            "2        Hillary Clinton agrees with John McCain \"by vo...\n",
            "3        Health care reform legislation is likely to ma...\n",
            "4        The economic turnaround started at the end of ...\n",
            "                               ...                        \n",
            "10235    There are a larger number of shark attacks in ...\n",
            "10236    Democrats have now become the party of the [At...\n",
            "10237    Says an alternative to Social Security that op...\n",
            "10238    On lifting the U.S. Cuban embargo and allowing...\n",
            "10239    The Department of Veterans Affairs has a manua...\n",
            "Name: Statement, Length: 10240, dtype: object\n"
          ],
          "name": "stdout"
        }
      ]
    },
    {
      "cell_type": "code",
      "metadata": {
        "id": "q3GjYOD89Dz-",
        "colab_type": "code",
        "outputId": "be8ef95d-067e-455f-cab1-54e3edb37b86",
        "colab": {
          "base_uri": "https://localhost:8080/",
          "height": 54
        }
      },
      "source": [
        "print(tagged_sentences)"
      ],
      "execution_count": 23,
      "outputs": [
        {
          "output_type": "stream",
          "text": [
            "[[('Pierre', 'NNP'), ('Vinken', 'NNP'), (',', ','), ('61', 'CD'), ('years', 'NNS'), ('old', 'JJ'), (',', ','), ('will', 'MD'), ('join', 'VB'), ('the', 'DT'), ('board', 'NN'), ('as', 'IN'), ('a', 'DT'), ('nonexecutive', 'JJ'), ('director', 'NN'), ('Nov.', 'NNP'), ('29', 'CD'), ('.', '.')], [('Mr.', 'NNP'), ('Vinken', 'NNP'), ('is', 'VBZ'), ('chairman', 'NN'), ('of', 'IN'), ('Elsevier', 'NNP'), ('N.V.', 'NNP'), (',', ','), ('the', 'DT'), ('Dutch', 'NNP'), ('publishing', 'VBG'), ('group', 'NN'), ('.', '.')], ...]\n"
          ],
          "name": "stdout"
        }
      ]
    },
    {
      "cell_type": "markdown",
      "metadata": {
        "id": "ypG6ENu59Uww",
        "colab_type": "text"
      },
      "source": [
        "Dapat kita lihat dalam potongan tagged_sentences di atas setiap kata dipisah dan memiliki kategori masing-masing. Arti dari setiap kategori tersebut dapat dilihat pada link berikut [link text](https://pythonprogramming.net/part-of-speech-tagging-nltk-tutorial/)."
      ]
    },
    {
      "cell_type": "code",
      "metadata": {
        "id": "El6_BEQ4i5f0",
        "colab_type": "code",
        "colab": {}
      },
      "source": [
        "def features(sentence, index):\n",
        "    \"\"\" sentence: [w1, w2, ...], index: the index of the word \"\"\"\n",
        "    return {\n",
        "        'word': sentence[index],\n",
        "        'is_first': index == 0,\n",
        "        'is_last': index == len(sentence) - 1,\n",
        "        'is_capitalized': sentence[index][0].upper() == sentence[index][0],\n",
        "        'is_all_caps': sentence[index].upper() == sentence[index],\n",
        "        'is_all_lower': sentence[index].lower() == sentence[index],\n",
        "        'prefix-1': sentence[index][0],\n",
        "        'prefix-2': sentence[index][:2],\n",
        "        'prefix-3': sentence[index][:3],\n",
        "        'suffix-1': sentence[index][-1],\n",
        "        'suffix-2': sentence[index][-2:],\n",
        "        'suffix-3': sentence[index][-3:],\n",
        "        'prev_word': '' if index == 0 else sentence[index - 1],\n",
        "        'next_word': '' if index == len(sentence) - 1 else sentence[index + 1],\n",
        "        'has_hyphen': '-' in sentence[index],\n",
        "        'is_numeric': sentence[index].isdigit(),\n",
        "        'capitals_inside': sentence[index][1:].lower() != sentence[index][1:]\n",
        "    }"
      ],
      "execution_count": 0,
      "outputs": []
    },
    {
      "cell_type": "code",
      "metadata": {
        "id": "Qs7gIDWGi9TN",
        "colab_type": "code",
        "colab": {}
      },
      "source": [
        "def untag(tagged_sentence):\n",
        "    return [w for w, t in tagged_sentence]"
      ],
      "execution_count": 0,
      "outputs": []
    },
    {
      "cell_type": "code",
      "metadata": {
        "id": "4EvusaN7kFsA",
        "colab_type": "code",
        "outputId": "5d9f6052-8db4-40f9-d698-1b15ae480c40",
        "colab": {
          "base_uri": "https://localhost:8080/",
          "height": 122
        }
      },
      "source": [
        "from google.colab import drive\n",
        "drive.mount('/content/drive')"
      ],
      "execution_count": 26,
      "outputs": [
        {
          "output_type": "stream",
          "text": [
            "Go to this URL in a browser: https://accounts.google.com/o/oauth2/auth?client_id=947318989803-6bn6qk8qdgf4n4g3pfee6491hc0brc4i.apps.googleusercontent.com&redirect_uri=urn%3aietf%3awg%3aoauth%3a2.0%3aoob&response_type=code&scope=email%20https%3a%2f%2fwww.googleapis.com%2fauth%2fdocs.test%20https%3a%2f%2fwww.googleapis.com%2fauth%2fdrive%20https%3a%2f%2fwww.googleapis.com%2fauth%2fdrive.photos.readonly%20https%3a%2f%2fwww.googleapis.com%2fauth%2fpeopleapi.readonly\n",
            "\n",
            "Enter your authorization code:\n",
            "··········\n",
            "Mounted at /content/drive\n"
          ],
          "name": "stdout"
        }
      ]
    },
    {
      "cell_type": "markdown",
      "metadata": {
        "id": "qAicYjCrdQxS",
        "colab_type": "text"
      },
      "source": [
        "Jika ingin mencoba silakan download terlebih dahulu file [Glove](https://drive.google.com/open?id=1JDunhUif5G3pcYo57h9-kfrbc0xGrksh) dari Google drive saya dan simpan ke dalam google drive anda. Simpan di halaman depan atau jika ingin dimasukkan ke dalam sebuah folder silakan atur directory pada fungsi open dibawah."
      ]
    },
    {
      "cell_type": "markdown",
      "metadata": {
        "id": "pPSlP1Jg-KvQ",
        "colab_type": "text"
      },
      "source": [
        "**Word2Vec**\n",
        "\n",
        "Dengan file GloVe.6B.50d, dapat dihasilkan *word embedding* dengan merekonstruksi konteks kata-kata yang terdapat dalam GloVe tersebut. Word2vec mengambil kata dalam file GloVe sebagai input corpus dan menghasilkan sebuah vektor."
      ]
    },
    {
      "cell_type": "code",
      "metadata": {
        "id": "zbfHkLxGjAkl",
        "colab_type": "code",
        "colab": {}
      },
      "source": [
        "with open(\"/content/drive/My Drive/glove.6B.50d.txt\", \"rb\") as lines:\n",
        "    w2v = {line.split()[0]: np.array(map(float, line.split()[1:]))\n",
        "           for line in lines}"
      ],
      "execution_count": 0,
      "outputs": []
    },
    {
      "cell_type": "code",
      "metadata": {
        "id": "XN8NgBAiw7Uf",
        "colab_type": "code",
        "colab": {}
      },
      "source": [
        "class MeanEmbeddingVectorizer(object):\n",
        "    def __init__(self, word2vec):\n",
        "        self.word2vec = word2vec\n",
        "        self.dim = len(word2vec.itervalues().next())\n",
        "\n",
        "    def fit(self, X, y):\n",
        "        return self\n",
        "\n",
        "    def transform(self, X):\n",
        "        return np.array([\n",
        "            np.mean([self.word2vec[w] for w in words if w in self.word2vec]\n",
        "                    or [np.zeros(self.dim)], axis=0)\n",
        "            for words in X\n",
        "        ])"
      ],
      "execution_count": 0,
      "outputs": []
    },
    {
      "cell_type": "code",
      "metadata": {
        "id": "4LDbCXdLxWBS",
        "colab_type": "code",
        "colab": {}
      },
      "source": [
        "doc_new = ['obama is running for president in 2016']"
      ],
      "execution_count": 0,
      "outputs": []
    },
    {
      "cell_type": "markdown",
      "metadata": {
        "id": "w-vwYeVJ_Iqe",
        "colab_type": "text"
      },
      "source": [
        "**3. Naive Bayes**\n",
        "\n",
        "Metode probabilitas dan proses stokastik pertama yang saya gunakan yaitu **naive bayes**. Naive bayes ini sebuah metode untuk melakukan klasifikasi menggunakan metode probabilitas dengan memprediksi peluang untuk masa yang akan datang (t) berdasarkan pengalaman di masa sebelumnya(t-1). Proses pada aplikasi ini yaitu pertama dengan menghitung jumlah label dari setiap statement pada train_news. Kemudian dari hasil pipeline dengan metode MultinomialNaiveBayes [MultinomialNB()]. Setelah itu, setiap jumlah kasus dari setiap label dari testing news akan di predict ketika labelnya itu sesuai dengan training news yang ada dengan membandingkan hasil per labelnya."
      ]
    },
    {
      "cell_type": "code",
      "metadata": {
        "id": "0lmn5XKpxZiY",
        "colab_type": "code",
        "outputId": "f8a3e934-8206-43e6-a6bb-9913984146f0",
        "colab": {
          "base_uri": "https://localhost:8080/",
          "height": 34
        }
      },
      "source": [
        "nb_pipeline = Pipeline([\n",
        "        ('NBCV',countV),\n",
        "        ('nb_clf',MultinomialNB())])\n",
        "\n",
        "nb_pipeline.fit(train_news['Statement'],train_news['Label'])\n",
        "predicted_nb = nb_pipeline.predict(test_news['Statement'])\n",
        "np.mean(predicted_nb == test_news['Label'])"
      ],
      "execution_count": 30,
      "outputs": [
        {
          "output_type": "execute_result",
          "data": {
            "text/plain": [
              "0.6072128577028616"
            ]
          },
          "metadata": {
            "tags": []
          },
          "execution_count": 30
        }
      ]
    },
    {
      "cell_type": "markdown",
      "metadata": {
        "id": "TgMqXDfuA6D9",
        "colab_type": "text"
      },
      "source": [
        "**4. Logistic Regression**\n",
        "\n"
      ]
    },
    {
      "cell_type": "code",
      "metadata": {
        "id": "2D5yyGVfxjfg",
        "colab_type": "code",
        "outputId": "745bee06-26d3-42f1-99da-ed42b333e0c4",
        "colab": {
          "base_uri": "https://localhost:8080/",
          "height": 34
        }
      },
      "source": [
        "logR_pipeline = Pipeline([\n",
        "        ('LogRCV',countV),\n",
        "        ('LogR_clf',LogisticRegression(solver='lbfgs', max_iter=1000))\n",
        "        ])\n",
        "\n",
        "logR_pipeline.fit(train_news['Statement'],train_news['Label'])\n",
        "predicted_LogR = logR_pipeline.predict(test_news['Statement'])\n",
        "np.mean(predicted_LogR == test_news['Label'])\n"
      ],
      "execution_count": 31,
      "outputs": [
        {
          "output_type": "execute_result",
          "data": {
            "text/plain": [
              "0.5985887887103096"
            ]
          },
          "metadata": {
            "tags": []
          },
          "execution_count": 31
        }
      ]
    },
    {
      "cell_type": "markdown",
      "metadata": {
        "id": "LLopWQ5aBpdm",
        "colab_type": "text"
      },
      "source": [
        "**5. Linear SVM**"
      ]
    },
    {
      "cell_type": "code",
      "metadata": {
        "id": "rRQ--5vXxvjG",
        "colab_type": "code",
        "outputId": "2169a9c7-2330-4f4a-daaf-ee55006da5fc",
        "colab": {
          "base_uri": "https://localhost:8080/",
          "height": 34
        }
      },
      "source": [
        "svm_pipeline = Pipeline([\n",
        "        ('svmCV',countV),\n",
        "        ('svm_clf',svm.LinearSVC(max_iter=5000))\n",
        "        ])\n",
        "\n",
        "svm_pipeline.fit(train_news['Statement'],train_news['Label'])\n",
        "predicted_svm = svm_pipeline.predict(test_news['Statement'])\n",
        "np.mean(predicted_svm == test_news['Label'])\n"
      ],
      "execution_count": 32,
      "outputs": [
        {
          "output_type": "execute_result",
          "data": {
            "text/plain": [
              "0.5723245785966288"
            ]
          },
          "metadata": {
            "tags": []
          },
          "execution_count": 32
        }
      ]
    },
    {
      "cell_type": "markdown",
      "metadata": {
        "id": "t2fXnzX5CnTB",
        "colab_type": "text"
      },
      "source": [
        "**6. SVM Stochastic Gradient Descent on hinge loss**"
      ]
    },
    {
      "cell_type": "code",
      "metadata": {
        "id": "u8HDvf-9x2tH",
        "colab_type": "code",
        "outputId": "2bbdce5b-0217-489e-fc67-db4314135252",
        "colab": {
          "base_uri": "https://localhost:8080/",
          "height": 34
        }
      },
      "source": [
        "sgd_pipeline = Pipeline([\n",
        "        ('svm2CV',countV),\n",
        "        ('svm2_clf',SGDClassifier(loss='hinge', penalty='l2', alpha=1e-3))\n",
        "        ])\n",
        "\n",
        "sgd_pipeline.fit(train_news['Statement'],train_news['Label'])\n",
        "predicted_sgd = sgd_pipeline.predict(test_news['Statement'])\n",
        "np.mean(predicted_sgd == test_news['Label'])\n"
      ],
      "execution_count": 33,
      "outputs": [
        {
          "output_type": "execute_result",
          "data": {
            "text/plain": [
              "0.6166209329674638"
            ]
          },
          "metadata": {
            "tags": []
          },
          "execution_count": 33
        }
      ]
    },
    {
      "cell_type": "markdown",
      "metadata": {
        "id": "RmktmHtuCrwm",
        "colab_type": "text"
      },
      "source": [
        "**7. Random Forest**"
      ]
    },
    {
      "cell_type": "code",
      "metadata": {
        "id": "6a74ZejWyLGm",
        "colab_type": "code",
        "outputId": "8eebdc4f-b897-4ce2-9de7-e076c52b58f9",
        "colab": {
          "base_uri": "https://localhost:8080/",
          "height": 34
        }
      },
      "source": [
        "random_forest = Pipeline([\n",
        "        ('rfCV',countV),\n",
        "        ('rf_clf',RandomForestClassifier(n_estimators=200,n_jobs=3))\n",
        "        ])\n",
        "    \n",
        "random_forest.fit(train_news['Statement'],train_news['Label'])\n",
        "predicted_rf = random_forest.predict(test_news['Statement'])\n",
        "np.mean(predicted_rf == test_news['Label'])"
      ],
      "execution_count": 34,
      "outputs": [
        {
          "output_type": "execute_result",
          "data": {
            "text/plain": [
              "0.6256370050960408"
            ]
          },
          "metadata": {
            "tags": []
          },
          "execution_count": 34
        }
      ]
    },
    {
      "cell_type": "markdown",
      "metadata": {
        "id": "BB329NLbC1o7",
        "colab_type": "text"
      },
      "source": [
        "Fungsi untuk membuat confusion matrix berdasarkan classifiernya.\n",
        "Confusion matrix merupakan ringkasan hasil prediksi dari klasifikasi yang telah dibuat. Jumlah prediksi benar atau salah akan didapatkan dengan menghitung nilai berdasarkan setiap label atau kelasnya. "
      ]
    },
    {
      "cell_type": "code",
      "metadata": {
        "id": "W_v4iAB0ylF2",
        "colab_type": "code",
        "colab": {}
      },
      "source": [
        "def build_confusion_matrix(classifier):\n",
        "    \n",
        "    k_fold = KFold(n_splits=5)\n",
        "    scores = []\n",
        "    confusion = np.array([[0,0],[0,0]])\n",
        "\n",
        "    for train_ind, test_ind in k_fold.split(train_news):\n",
        "        train_text = train_news.iloc[train_ind]['Statement'] \n",
        "        train_y = train_news.iloc[train_ind]['Label']\n",
        "    \n",
        "        test_text = train_news.iloc[test_ind]['Statement']\n",
        "        test_y = train_news.iloc[test_ind]['Label']\n",
        "        \n",
        "        classifier.fit(train_text,train_y)\n",
        "        predictions = classifier.predict(test_text)\n",
        "        \n",
        "        confusion += confusion_matrix(test_y,predictions)\n",
        "        score = f1_score(test_y,predictions)\n",
        "        scores.append(score)\n",
        "    \n",
        "    return (print('Total statements classified:', len(train_news)),print('Score:', sum(scores)/len(scores)),print('score length', len(scores)),print('Confusion matrix:'),print(confusion))"
      ],
      "execution_count": 0,
      "outputs": []
    },
    {
      "cell_type": "code",
      "metadata": {
        "id": "ztA5BIszy1Zm",
        "colab_type": "code",
        "outputId": "475c3926-8db8-4198-9deb-40c23261e6a6",
        "colab": {
          "base_uri": "https://localhost:8080/",
          "height": 697
        }
      },
      "source": [
        "print(' Naive Bayes ')\n",
        "build_confusion_matrix(nb_pipeline)\n",
        "print('\\n Logistic Regression ')\n",
        "build_confusion_matrix(logR_pipeline)\n",
        "print('\\n SVM ')\n",
        "build_confusion_matrix(svm_pipeline)\n",
        "print('\\n SGD ')\n",
        "build_confusion_matrix(sgd_pipeline)\n",
        "print('\\n Random Forest ')\n",
        "build_confusion_matrix(random_forest)\n"
      ],
      "execution_count": 36,
      "outputs": [
        {
          "output_type": "stream",
          "text": [
            " Naive Bayes \n",
            "Total statements classified: 10240\n",
            "Score: 0.66961153965076\n",
            "score length 5\n",
            "Confusion matrix:\n",
            "[[2118 2370]\n",
            " [1664 4088]]\n",
            "\n",
            " Logistic Regression \n",
            "Total statements classified: 10240\n",
            "Score: 0.6467945943441228\n",
            "score length 5\n",
            "Confusion matrix:\n",
            "[[2252 2236]\n",
            " [1934 3818]]\n",
            "\n",
            " SVM \n",
            "Total statements classified: 10240\n",
            "Score: 0.6104687487924283\n",
            "score length 5\n",
            "Confusion matrix:\n",
            "[[2260 2228]\n",
            " [2246 3506]]\n",
            "\n",
            " SGD \n",
            "Total statements classified: 10240\n",
            "Score: 0.6617719287551973\n",
            "score length 5\n",
            "Confusion matrix:\n",
            "[[2195 2293]\n",
            " [1773 3979]]\n",
            "\n",
            " Random Forest \n",
            "Total statements classified: 10240\n",
            "Score: 0.701629296252633\n",
            "score length 5\n",
            "Confusion matrix:\n",
            "[[1802 2686]\n",
            " [1192 4560]]\n"
          ],
          "name": "stdout"
        },
        {
          "output_type": "execute_result",
          "data": {
            "text/plain": [
              "(None, None, None, None, None)"
            ]
          },
          "metadata": {
            "tags": []
          },
          "execution_count": 36
        }
      ]
    },
    {
      "cell_type": "markdown",
      "metadata": {
        "id": "XPNP3o0-FBTF",
        "colab_type": "text"
      },
      "source": [
        "**Klasifikasi N-gram per metode**"
      ]
    },
    {
      "cell_type": "code",
      "metadata": {
        "id": "tuW6SD2qzhlO",
        "colab_type": "code",
        "outputId": "67804a36-f765-4b35-f0cd-5fc8a118db05",
        "colab": {
          "base_uri": "https://localhost:8080/",
          "height": 34
        }
      },
      "source": [
        "#naive-bayes\n",
        "nb_pipeline_ngram = Pipeline([\n",
        "        ('nb_tfidf',tfidf_ngram),\n",
        "        ('nb_clf',MultinomialNB())])\n",
        "\n",
        "nb_pipeline_ngram.fit(train_news['Statement'],train_news['Label'])\n",
        "predicted_nb_ngram = nb_pipeline_ngram.predict(test_news['Statement'])\n",
        "np.mean(predicted_nb_ngram == test_news['Label'])\n"
      ],
      "execution_count": 37,
      "outputs": [
        {
          "output_type": "execute_result",
          "data": {
            "text/plain": [
              "0.5938847510780086"
            ]
          },
          "metadata": {
            "tags": []
          },
          "execution_count": 37
        }
      ]
    },
    {
      "cell_type": "code",
      "metadata": {
        "id": "tpsH4yWqzhb4",
        "colab_type": "code",
        "outputId": "f6855891-4165-4183-f70f-7c1ca695d3ef",
        "colab": {
          "base_uri": "https://localhost:8080/",
          "height": 34
        }
      },
      "source": [
        "#logistic regression\n",
        "logR_pipeline_ngram = Pipeline([\n",
        "        ('LogR_tfidf',tfidf_ngram),\n",
        "        ('LogR_clf',LogisticRegression(penalty=\"l2\",C=1, solver='lbfgs'))\n",
        "        ])\n",
        "\n",
        "logR_pipeline_ngram.fit(train_news['Statement'],train_news['Label'])\n",
        "predicted_LogR_ngram = logR_pipeline_ngram.predict(test_news['Statement'])\n",
        "np.mean(predicted_LogR_ngram == test_news['Label'])\n"
      ],
      "execution_count": 38,
      "outputs": [
        {
          "output_type": "execute_result",
          "data": {
            "text/plain": [
              "0.6193649549196394"
            ]
          },
          "metadata": {
            "tags": []
          },
          "execution_count": 38
        }
      ]
    },
    {
      "cell_type": "code",
      "metadata": {
        "id": "Ey8LosaAzhTA",
        "colab_type": "code",
        "outputId": "eb7ade5d-7f04-4ee9-e41a-7bf3da2dd97a",
        "colab": {
          "base_uri": "https://localhost:8080/",
          "height": 34
        }
      },
      "source": [
        "#linear SVM\n",
        "svm_pipeline_ngram = Pipeline([\n",
        "        ('svm_tfidf',tfidf_ngram),\n",
        "        ('svm_clf',svm.LinearSVC())\n",
        "        ])\n",
        "\n",
        "svm_pipeline_ngram.fit(train_news['Statement'],train_news['Label'])\n",
        "predicted_svm_ngram = svm_pipeline_ngram.predict(test_news['Statement'])\n",
        "np.mean(predicted_svm_ngram == test_news['Label'])\n"
      ],
      "execution_count": 39,
      "outputs": [
        {
          "output_type": "execute_result",
          "data": {
            "text/plain": [
              "0.6170129361034888"
            ]
          },
          "metadata": {
            "tags": []
          },
          "execution_count": 39
        }
      ]
    },
    {
      "cell_type": "code",
      "metadata": {
        "id": "_BocSUuOzhKy",
        "colab_type": "code",
        "outputId": "9cbdd575-2b17-46ea-af12-983cc791d256",
        "colab": {
          "base_uri": "https://localhost:8080/",
          "height": 34
        }
      },
      "source": [
        "#SGD \n",
        "sgd_pipeline_ngram = Pipeline([\n",
        "         ('sgd_tfidf',tfidf_ngram),\n",
        "         ('sgd_clf',SGDClassifier(loss='hinge', penalty='l2', alpha=1e-3))#, n_iter=5))\n",
        "         ])\n",
        "\n",
        "sgd_pipeline_ngram.fit(train_news['Statement'],train_news['Label'])\n",
        "predicted_sgd_ngram = sgd_pipeline_ngram.predict(test_news['Statement'])\n",
        "np.mean(predicted_sgd_ngram == test_news['Label'])\n"
      ],
      "execution_count": 40,
      "outputs": [
        {
          "output_type": "execute_result",
          "data": {
            "text/plain": [
              "0.5417483339866719"
            ]
          },
          "metadata": {
            "tags": []
          },
          "execution_count": 40
        }
      ]
    },
    {
      "cell_type": "code",
      "metadata": {
        "id": "-naSqNuhzhCm",
        "colab_type": "code",
        "outputId": "aa04d893-2571-4f6a-a26a-9347c2aa84de",
        "colab": {
          "base_uri": "https://localhost:8080/",
          "height": 34
        }
      },
      "source": [
        "#Random forest\n",
        "random_forest_ngram = Pipeline([\n",
        "        ('rf_tfidf',tfidf_ngram),\n",
        "        ('rf_clf',RandomForestClassifier(n_estimators=300,n_jobs=3))\n",
        "        ])\n",
        "    \n",
        "random_forest_ngram.fit(train_news['Statement'],train_news['Label'])\n",
        "predicted_rf_ngram = random_forest_ngram.predict(test_news['Statement'])\n",
        "np.mean(predicted_rf_ngram == test_news['Label'])\n"
      ],
      "execution_count": 41,
      "outputs": [
        {
          "output_type": "execute_result",
          "data": {
            "text/plain": [
              "0.604860838886711"
            ]
          },
          "metadata": {
            "tags": []
          },
          "execution_count": 41
        }
      ]
    },
    {
      "cell_type": "markdown",
      "metadata": {
        "id": "Ht7y62zJF1QL",
        "colab_type": "text"
      },
      "source": [
        "**K-fold cross validation untuk setiap classifier**"
      ]
    },
    {
      "cell_type": "code",
      "metadata": {
        "id": "0q6viW9Lzg2H",
        "colab_type": "code",
        "colab": {
          "base_uri": "https://localhost:8080/",
          "height": 697
        },
        "outputId": "bc43b822-c288-407e-b7bc-55de0ca7d474"
      },
      "source": [
        "print('K-Fold Naive Bayes ')\n",
        "build_confusion_matrix(nb_pipeline_ngram)\n",
        "print('\\n K-fold Logistic Regression ')\n",
        "build_confusion_matrix(logR_pipeline_ngram)\n",
        "print('\\n K-fold SVM ')\n",
        "build_confusion_matrix(svm_pipeline_ngram)\n",
        "print('\\n K-fold SGD ')\n",
        "build_confusion_matrix(sgd_pipeline_ngram)\n",
        "print('\\n K-fold Random Forest ')\n",
        "build_confusion_matrix(random_forest_ngram)"
      ],
      "execution_count": 42,
      "outputs": [
        {
          "output_type": "stream",
          "text": [
            "K-Fold Naive Bayes \n",
            "Total statements classified: 10240\n",
            "Score: 0.7224053159841455\n",
            "score length 5\n",
            "Confusion matrix:\n",
            "[[ 758 3730]\n",
            " [ 390 5362]]\n",
            "\n",
            " K-fold Logistic Regression \n",
            "Total statements classified: 10240\n",
            "Score: 0.7044355553757985\n",
            "score length 5\n",
            "Confusion matrix:\n",
            "[[1580 2908]\n",
            " [1043 4709]]\n",
            "\n",
            " K-fold SVM \n",
            "Total statements classified: 10240\n",
            "Score: 0.6790920142902143\n",
            "score length 5\n",
            "Confusion matrix:\n",
            "[[2016 2472]\n",
            " [1524 4228]]\n",
            "\n",
            " K-fold SGD \n",
            "Total statements classified: 10240\n",
            "Score: 0.7189849719606326\n",
            "score length 5\n",
            "Confusion matrix:\n",
            "[[   5 4483]\n",
            " [   7 5745]]\n",
            "\n",
            " K-fold Random Forest \n",
            "Total statements classified: 10240\n",
            "Score: 0.6555154363630729\n",
            "score length 5\n",
            "Confusion matrix:\n",
            "[[1996 2492]\n",
            " [1732 4020]]\n"
          ],
          "name": "stdout"
        },
        {
          "output_type": "execute_result",
          "data": {
            "text/plain": [
              "(None, None, None, None, None)"
            ]
          },
          "metadata": {
            "tags": []
          },
          "execution_count": 42
        }
      ]
    },
    {
      "cell_type": "code",
      "metadata": {
        "id": "n4T1Gp27zgl6",
        "colab_type": "code",
        "outputId": "7f78231e-eb71-4bf0-926c-dbf5a505491c",
        "colab": {
          "base_uri": "https://localhost:8080/",
          "height": 853
        }
      },
      "source": [
        "print(classification_report(test_news['Label'], predicted_nb_ngram))\n",
        "print(classification_report(test_news['Label'], predicted_LogR_ngram))\n",
        "print(classification_report(test_news['Label'], predicted_svm_ngram))\n",
        "print(classification_report(test_news['Label'], predicted_sgd_ngram))\n",
        "print(classification_report(test_news['Label'], predicted_rf_ngram))\n",
        "\n",
        "test_news['Label'].shape"
      ],
      "execution_count": 43,
      "outputs": [
        {
          "output_type": "stream",
          "text": [
            "              precision    recall  f1-score   support\n",
            "\n",
            "       False       0.72      0.19      0.30      1169\n",
            "        True       0.58      0.94      0.71      1382\n",
            "\n",
            "    accuracy                           0.59      2551\n",
            "   macro avg       0.65      0.56      0.51      2551\n",
            "weighted avg       0.64      0.59      0.52      2551\n",
            "\n",
            "              precision    recall  f1-score   support\n",
            "\n",
            "       False       0.64      0.39      0.49      1169\n",
            "        True       0.61      0.81      0.70      1382\n",
            "\n",
            "    accuracy                           0.62      2551\n",
            "   macro avg       0.62      0.60      0.59      2551\n",
            "weighted avg       0.62      0.62      0.60      2551\n",
            "\n",
            "              precision    recall  f1-score   support\n",
            "\n",
            "       False       0.61      0.47      0.53      1169\n",
            "        True       0.62      0.74      0.68      1382\n",
            "\n",
            "    accuracy                           0.62      2551\n",
            "   macro avg       0.61      0.61      0.60      2551\n",
            "weighted avg       0.62      0.62      0.61      2551\n",
            "\n",
            "              precision    recall  f1-score   support\n",
            "\n",
            "       False       0.00      0.00      0.00      1169\n",
            "        True       0.54      1.00      0.70      1382\n",
            "\n",
            "    accuracy                           0.54      2551\n",
            "   macro avg       0.27      0.50      0.35      2551\n",
            "weighted avg       0.29      0.54      0.38      2551\n",
            "\n",
            "              precision    recall  f1-score   support\n",
            "\n",
            "       False       0.59      0.47      0.52      1169\n",
            "        True       0.62      0.72      0.66      1382\n",
            "\n",
            "    accuracy                           0.60      2551\n",
            "   macro avg       0.60      0.59      0.59      2551\n",
            "weighted avg       0.60      0.60      0.60      2551\n",
            "\n"
          ],
          "name": "stdout"
        },
        {
          "output_type": "stream",
          "text": [
            "/usr/local/lib/python3.6/dist-packages/sklearn/metrics/classification.py:1437: UndefinedMetricWarning: Precision and F-score are ill-defined and being set to 0.0 in labels with no predicted samples.\n",
            "  'precision', 'predicted', average, warn_for)\n"
          ],
          "name": "stderr"
        },
        {
          "output_type": "execute_result",
          "data": {
            "text/plain": [
              "(2551,)"
            ]
          },
          "metadata": {
            "tags": []
          },
          "execution_count": 43
        }
      ]
    },
    {
      "cell_type": "code",
      "metadata": {
        "colab_type": "code",
        "id": "OEHuVASK6PE3",
        "colab": {}
      },
      "source": [
        "#parameter untuk random forest classifier\n",
        "parameters = {'rf_tfidf__ngram_range': [(1, 1), (1, 2),(1,3)],\n",
        "               'rf_tfidf__use_idf': (True, False),\n",
        "               'rf_clf__max_depth': (1,2,3,4,5,6,7,8,9,10)\n",
        "}\n",
        "\n",
        "gs_clf = GridSearchCV(random_forest_ngram, parameters, cv = 5,n_jobs=-1)\n",
        "gs_clf = gs_clf.fit(train_news['Statement'][:5000],train_news['Label'][:5000])"
      ],
      "execution_count": 0,
      "outputs": []
    },
    {
      "cell_type": "code",
      "metadata": {
        "id": "3iu8a77T5V8z",
        "colab_type": "code",
        "colab": {}
      },
      "source": [
        "#parameter untuk logistic regression\n",
        "parameters = {'LogR_tfidf__ngram_range': [(1, 1), (1, 2),(1,3)],#(1,4),(1,5)],\n",
        "               'LogR_tfidf__use_idf': (True, False),\n",
        "               'LogR_tfidf__smooth_idf': (True, False)\n",
        "}\n",
        "\n",
        "gs_clf = GridSearchCV(logR_pipeline_ngram, parameters, n_jobs=-1, cv =5)\n",
        "gs_clf = gs_clf.fit(train_news['Statement'][:5000],train_news['Label'][:5000])"
      ],
      "execution_count": 0,
      "outputs": []
    },
    {
      "cell_type": "code",
      "metadata": {
        "id": "XojNU2eG5Vo8",
        "colab_type": "code",
        "colab": {}
      },
      "source": [
        "#parameter untuk Linear SVM \n",
        "parameters = {'svm_tfidf__ngram_range': [(1, 1), (1, 2),(1,3)],\n",
        "               'svm_tfidf__use_idf': (True, False),\n",
        "               'svm_tfidf__smooth_idf': (True, False),\n",
        "               'svm_clf__penalty': ('l1','l2'),\n",
        "}\n",
        "\n",
        "gs_clf = GridSearchCV(svm_pipeline_ngram, parameters, n_jobs=-1, error_score = 0.0, cv =5)\n",
        "gs_clf = gs_clf.fit(train_news['Statement'][:10000],train_news['Label'][:10000])"
      ],
      "execution_count": 0,
      "outputs": []
    },
    {
      "cell_type": "code",
      "metadata": {
        "id": "ZzstbU7F5VfI",
        "colab_type": "code",
        "colab": {
          "base_uri": "https://localhost:8080/",
          "height": 170
        },
        "outputId": "d0dfb9e1-2bf4-40ce-bbf5-dc642a97953f"
      },
      "source": [
        "#Menjalankan random forest dan logistic regression dengan metode GridSearch\n",
        "random_forest_final = Pipeline([\n",
        "        ('rf_tfidf',TfidfVectorizer(stop_words='english',ngram_range=(1,3),use_idf=True,smooth_idf=True)),\n",
        "        ('rf_clf',RandomForestClassifier(n_estimators=300,n_jobs=3,max_depth=10))\n",
        "        ])\n",
        "    \n",
        "random_forest_final.fit(train_news['Statement'],train_news['Label'])\n",
        "predicted_rf_final = random_forest_final.predict(test_news['Statement'])\n",
        "np.mean(predicted_rf_final == test_news['Label'])\n",
        "print(metrics.classification_report(test_news['Label'], predicted_rf_final))"
      ],
      "execution_count": 52,
      "outputs": [
        {
          "output_type": "stream",
          "text": [
            "              precision    recall  f1-score   support\n",
            "\n",
            "       False       0.50      0.00      0.00      1169\n",
            "        True       0.54      1.00      0.70      1382\n",
            "\n",
            "    accuracy                           0.54      2551\n",
            "   macro avg       0.52      0.50      0.35      2551\n",
            "weighted avg       0.52      0.54      0.38      2551\n",
            "\n"
          ],
          "name": "stdout"
        }
      ]
    },
    {
      "cell_type": "code",
      "metadata": {
        "id": "Vnm2wF_F5VU2",
        "colab_type": "code",
        "colab": {
          "base_uri": "https://localhost:8080/",
          "height": 170
        },
        "outputId": "6f30013c-7dd2-46b7-d955-afe10af294a6"
      },
      "source": [
        "logR_pipeline_final = Pipeline([\n",
        "        ('LogR_tfidf',TfidfVectorizer(stop_words='english',ngram_range=(1,5),use_idf=True,smooth_idf=False)),\n",
        "        ('LogR_clf',LogisticRegression(penalty=\"l2\",C=1, solver=\"lbfgs\"))\n",
        "        ])\n",
        "\n",
        "logR_pipeline_final.fit(train_news['Statement'],train_news['Label'])\n",
        "predicted_LogR_final = logR_pipeline_final.predict(test_news['Statement'])\n",
        "np.mean(predicted_LogR_final == test_news['Label'])\n",
        "print(metrics.classification_report(test_news['Label'], predicted_LogR_final))"
      ],
      "execution_count": 53,
      "outputs": [
        {
          "output_type": "stream",
          "text": [
            "              precision    recall  f1-score   support\n",
            "\n",
            "       False       0.64      0.38      0.48      1169\n",
            "        True       0.61      0.82      0.70      1382\n",
            "\n",
            "    accuracy                           0.62      2551\n",
            "   macro avg       0.62      0.60      0.59      2551\n",
            "weighted avg       0.62      0.62      0.60      2551\n",
            "\n"
          ],
          "name": "stdout"
        }
      ]
    },
    {
      "cell_type": "code",
      "metadata": {
        "id": "-lRKuZqx5VK5",
        "colab_type": "code",
        "colab": {}
      },
      "source": [
        "#Menyimpan model final ke dalam disk\n",
        "model_file = 'final_model.sav'\n",
        "pickle.dump(logR_pipeline_ngram,open(model_file,'wb'))"
      ],
      "execution_count": 0,
      "outputs": []
    },
    {
      "cell_type": "markdown",
      "metadata": {
        "id": "Hh3U2hWn4W7J",
        "colab_type": "text"
      },
      "source": [
        "#VISUALISASI#"
      ]
    },
    {
      "cell_type": "code",
      "metadata": {
        "id": "bxigJUHuzYln",
        "colab_type": "code",
        "colab": {}
      },
      "source": [
        "def plot_learning_curve(pipeline,title):\n",
        "    \n",
        "    X = train_news[\"Statement\"]\n",
        "    y = train_news[\"Label\"]\n",
        "    \n",
        "    pl = pipeline\n",
        "    pl.fit(X,y)\n",
        "    \n",
        "    train_sizes, train_scores, test_scores = learning_curve(pl, X, y, n_jobs=-1, cv=5, train_sizes=np.linspace(.1, 1.0, 5), verbose=0)\n",
        "       \n",
        "    train_scores_mean = np.mean(train_scores, axis=1)\n",
        "    train_scores_std = np.std(train_scores, axis=1)\n",
        "    test_scores_mean = np.mean(test_scores, axis=1)\n",
        "    test_scores_std = np.std(test_scores, axis=1)\n",
        "     \n",
        "    plt.figure()\n",
        "    plt.title(title)\n",
        "    plt.legend(loc=\"best\")\n",
        "    plt.xlabel(\"Training examples\")\n",
        "    plt.ylabel(\"Score\")\n",
        "    plt.gca().invert_yaxis()\n",
        "    \n",
        "    plt.grid()\n",
        "    \n",
        "    plt.fill_between(train_sizes, train_scores_mean - train_scores_std, train_scores_mean + train_scores_std, alpha=0.1, color=\"r\")\n",
        "    plt.fill_between(train_sizes, test_scores_mean - test_scores_std, test_scores_mean + test_scores_std, alpha=0.1, color=\"g\")\n",
        "    \n",
        "    plt.plot(train_sizes, train_scores_mean, 'o-', color=\"r\", label=\"Training score\")\n",
        "    plt.plot(train_sizes, test_scores_mean, 'o-', color=\"g\", label=\"Cross-validation score\")\n",
        "    \n",
        "    plt.ylim(-.1,1.1)\n",
        "    plt.show()"
      ],
      "execution_count": 0,
      "outputs": []
    },
    {
      "cell_type": "markdown",
      "metadata": {
        "id": "IzXpUVNp3c1f",
        "colab_type": "text"
      },
      "source": [
        "**Plot learning curve untuk setiap classifier**"
      ]
    },
    {
      "cell_type": "code",
      "metadata": {
        "id": "4a5PHi7u5Uyx",
        "colab_type": "code",
        "colab": {
          "base_uri": "https://localhost:8080/",
          "height": 312
        },
        "outputId": "abbf95a7-ed09-443a-f704-3f6634822282"
      },
      "source": [
        "plot_learning_curve(logR_pipeline_ngram,\"LogisticRegression\")"
      ],
      "execution_count": 78,
      "outputs": [
        {
          "output_type": "stream",
          "text": [
            "No handles with labels found to put in legend.\n"
          ],
          "name": "stderr"
        },
        {
          "output_type": "display_data",
          "data": {
            "image/png": "[encoded data removed]",
            "text/plain": [
              "<Figure size 432x288 with 1 Axes>"
            ]
          },
          "metadata": {
            "tags": []
          }
        }
      ]
    },
    {
      "cell_type": "code",
      "metadata": {
        "id": "v4aYe5wXGAIR",
        "colab_type": "code",
        "colab": {
          "base_uri": "https://localhost:8080/",
          "height": 312
        },
        "outputId": "eb50329f-de86-4e60-c134-f234c199fc67"
      },
      "source": [
        "plot_learning_curve(nb_pipeline_ngram,\"NaiveBayes Classifier\")"
      ],
      "execution_count": 79,
      "outputs": [
        {
          "output_type": "stream",
          "text": [
            "No handles with labels found to put in legend.\n"
          ],
          "name": "stderr"
        },
        {
          "output_type": "display_data",
          "data": {
            "image/png": "[encoded data removed]",
            "text/plain": [
              "<Figure size 432x288 with 1 Axes>"
            ]
          },
          "metadata": {
            "tags": []
          }
        }
      ]
    },
    {
      "cell_type": "code",
      "metadata": {
        "id": "MR88-7uhGCnl",
        "colab_type": "code",
        "colab": {
          "base_uri": "https://localhost:8080/",
          "height": 312
        },
        "outputId": "478b788b-627c-44ae-e005-488585eac6ff"
      },
      "source": [
        "plot_learning_curve(svm_pipeline_ngram,\"SVM Classifier\")"
      ],
      "execution_count": 80,
      "outputs": [
        {
          "output_type": "stream",
          "text": [
            "No handles with labels found to put in legend.\n"
          ],
          "name": "stderr"
        },
        {
          "output_type": "display_data",
          "data": {
            "image/png": "[encoded data removed]",
            "text/plain": [
              "<Figure size 432x288 with 1 Axes>"
            ]
          },
          "metadata": {
            "tags": []
          }
        }
      ]
    },
    {
      "cell_type": "markdown",
      "metadata": {
        "id": "qRUxaYmy1IuP",
        "colab_type": "text"
      },
      "source": [
        "Dari learning curve di atas, untuk LogRes, dapat dilihat bahwa score untuk cross-validation stagnan. Hasil tersebut menunjukkan tingkat akurasi yang perlu ditingkatkan lagi dalam sisi algoritma pipeline untuk setiap classifier. Model terbaik dari plot ini akan digunakan untuk melakukan prediksi."
      ]
    },
    {
      "cell_type": "markdown",
      "metadata": {
        "id": "EhmvfkD9Awzl",
        "colab_type": "text"
      },
      "source": [
        "**2. Kurva Precision-Recall** <bR>\n",
        "Kurva untuk menentukan akurasi yang didapatkan dari confusion matrix dengan mendapatkan case yang terdapat dalam class positive(True).\n",
        "Data precision merupakan pengukuran seberapa berkualitasnya data training yang telah di klasifikasikan, sedangkan Recall menentukan seberapa lengkap hasil yang relevan antara training dataset dengan testing data."
      ]
    },
    {
      "cell_type": "code",
      "metadata": {
        "id": "VxvEyW2b5UpN",
        "colab_type": "code",
        "colab": {}
      },
      "source": [
        "#plotting Precision-Recall curve\n",
        "def plot_PR_curve(classifier):\n",
        "    \n",
        "    precision, recall, thresholds = precision_recall_curve(test_news['Label'], classifier)\n",
        "    average_precision = average_precision_score(test_news['Label'], classifier)\n",
        "    \n",
        "    plt.step(recall, precision, color='b', alpha=0.2,\n",
        "             where='post')\n",
        "    plt.fill_between(recall, precision, step='post', alpha=0.2,\n",
        "                     color='b')\n",
        "    \n",
        "    plt.xlabel('Recall')\n",
        "    plt.ylabel('Precision')\n",
        "    plt.ylim([0.0, 1.05])\n",
        "    plt.xlim([0.0, 1.0])\n",
        "    plt.title('2-class Random Forest Precision-Recall curve: AP={0:0.2f}'.format(\n",
        "              average_precision))"
      ],
      "execution_count": 0,
      "outputs": []
    },
    {
      "cell_type": "code",
      "metadata": {
        "id": "um9qmJrE5UZk",
        "colab_type": "code",
        "colab": {
          "base_uri": "https://localhost:8080/",
          "height": 295
        },
        "outputId": "86cfeaa7-bcc0-4f9b-b2ac-28aef36e140d"
      },
      "source": [
        "plot_PR_curve(predicted_LogR_ngram)\n",
        "plot_PR_curve(predicted_rf_ngram)"
      ],
      "execution_count": 105,
      "outputs": [
        {
          "output_type": "display_data",
          "data": {
            "image/png": "[encoded data removed]",
            "text/plain": [
              "<Figure size 432x288 with 1 Axes>"
            ]
          },
          "metadata": {
            "tags": []
          }
        }
      ]
    },
    {
      "cell_type": "markdown",
      "metadata": {
        "id": "L4CzGmslCeeY",
        "colab_type": "text"
      },
      "source": [
        "Dari kurva di atas didapatkan rata-rata nilai precisionnya yaitu 0.60, yang berarti akurasi dari perhitungan probabilitas untuk menentukan apakah statement itu bernilai TRUE atau FALSE yaitu 0.60 dari 1.00. Sehingga program ini perlu terus ditingkatkan lagi, baik dari sisi kompleksitas, jumlah dataset yang perlu ditingkatkan, maupun algoritma yang digunakan."
      ]
    },
    {
      "cell_type": "code",
      "metadata": {
        "id": "kuU-EwG25UPX",
        "colab_type": "code",
        "colab": {}
      },
      "source": [
        "def show_most_informative_features(model, vect, clf, text=None, n=50):\n",
        "    vectorizer = model.named_steps[vect]\n",
        "    classifier = model.named_steps[clf]\n",
        "\n",
        "    if not hasattr(classifier, 'coef_'):\n",
        "        raise TypeError(\n",
        "            \"Cannot compute most informative features on {}.\".format(\n",
        "                classifier.__class__.__name__\n",
        "            )\n",
        "        )\n",
        "            \n",
        "    if text is not None:\n",
        "        tvec = model.transform([text]).toarray()\n",
        "    else:\n",
        "        tvec = classifier.coef_\n",
        "\n",
        "    coefs = sorted(\n",
        "        zip(tvec[0], vectorizer.get_feature_names()),\n",
        "        reverse=True\n",
        "    )\n",
        "    \n",
        "    topn  = zip(coefs[:n], coefs[:-(n+1):-1])\n",
        "\n",
        "    output = []\n",
        "    if text is not None:\n",
        "        output.append(\"\\\"{}\\\"\".format(text))\n",
        "        output.append(\n",
        "            \"Classified as: {}\".format(model.predict([text]))\n",
        "        )\n",
        "        output.append(\"\")\n",
        "\n",
        "    for (cp, fnp), (cn, fnn) in topn:\n",
        "        output.append(\n",
        "            \"{:0.4f}{: >15}    {:0.4f}{: >15}\".format(\n",
        "                cp, fnp, cn, fnn\n",
        "            )\n",
        "        )\n",
        "    print(output)"
      ],
      "execution_count": 0,
      "outputs": []
    },
    {
      "cell_type": "code",
      "metadata": {
        "id": "CkBqk1PR5UFj",
        "colab_type": "code",
        "colab": {
          "base_uri": "https://localhost:8080/",
          "height": 105
        },
        "outputId": "b2bad283-f782-4f08-b790-f91f703c15c3"
      },
      "source": [
        "show_most_informative_features(logR_pipeline_ngram,vect='LogR_tfidf',clf='LogR_clf')\n",
        "show_most_informative_features(nb_pipeline_ngram,vect='nb_tfidf',clf='nb_clf')\n",
        "show_most_informative_features(svm_pipeline_ngram,vect='svm_tfidf',clf='svm_clf')\n",
        "show_most_informative_features(sgd_pipeline_ngram,vect='sgd_tfidf',clf='sgd_clf')"
      ],
      "execution_count": 88,
      "outputs": [
        {
          "output_type": "stream",
          "text": [
            "['3.3274        percent    -2.0938      obamacare', '1.8485        million    -1.8249          obama', '1.7409        average    -1.6505           says', '1.6573            day    -1.5980      wisconsin', '1.6514        georgia    -1.4068            rep', '1.6174           debt    -1.3510     government', '1.6029      countries    -1.2283           care', '1.5744          times    -1.2013           plan', '1.4221        highest    -1.1898      president', '1.3850        country    -1.1784   scott walker', '1.3490           half    -1.1635         walker', '1.3286            000    -1.0761         obamas', '1.2220       american    -1.0428          scott', '1.2136            cut    -1.0123           away', '1.2060         months    -0.9792        clinton', '1.1675         states    -0.9715         barack', '1.1637      americans    -0.9658       medicare', '1.0659           rate    -0.9373       stimulus', '1.0616           year    -0.9210          white', '1.0163             60    -0.9001          going', '0.9677           weve    -0.8912        illegal', '0.9563         nearly    -0.8545       care law', '0.9467             10    -0.8433       security', '0.9448       spending    -0.8200         social', '0.9354        college    -0.8193          voted', '0.9205         lowest    -0.8116       increase', '0.9154           ohio    -0.8114           know', '0.8974          terms    -0.8109health care law', '0.8927         cities    -0.8079          group', '0.8724          lower    -0.8040         muslim', '0.8526        poverty    -0.7985   barack obama', '0.8448       trillion    -0.7982      democrats', '0.8389         dollar    -0.7874says barack obama', '0.8356        decades    -0.7829    health care', '0.8198         romney    -0.7332           stop', '0.8091             40    -0.7319       benghazi', '0.8072        workers    -0.7257        hillary', '0.8020        members    -0.7198       supports', '0.7909          worth    -0.7189      gov scott', '0.7899      education    -0.7163    raise taxes', '0.7897          today    -0.7157       deciding', '0.7656             50    -0.7097          china', '0.7655          worst    -0.7043            tom', '0.7632         mccain    -0.6921 says president', '0.7540        torture    -0.6901      dont know', '0.7512says donald trump    -0.6852   middle class', '0.7458        elected    -0.6819       says rep', '0.7385        florida    -0.6812    500 billion', '0.7318        funding    -0.6802       illegals', '0.7250           does    -0.6740          wants']\n",
            "['-8.3673           says    -12.4938        00 2014', '-8.4799        percent    -12.493800 2014 provisions', '-8.9058          state    -12.493800 2014 provisions incorporated', '-8.9942            000    -12.4938   000 000 send', '-9.0719          years    -12.4938000 000 send community', '-9.0913           year    -12.4938000 000 support', '-9.1003            tax    -12.4938000 000 support supreme', '-9.1008         states    -12.4938         000 10', '-9.1342        million    -12.4938     000 10 000', '-9.2124         people    -12.4938000 10 000 refugees', '-9.2204          obama    -12.4938     000 20 000', '-9.2820           jobs    -12.4938000 20 000 infrastructural', '-9.3021         health    -12.4938000 20 000 jobs', '-9.3725      president    -12.4938         000 25', '-9.3907          texas    -12.4938     000 25 000', '-9.3952        country    -12.4938000 25 000 federal', '-9.4194          taxes    -12.4938         000 38', '-9.4331            new    -12.4938     000 38 000', '-9.4862        billion    -12.4938000 38 000 earned', '-9.5115           care    -12.4938  000 40 000 50', '-9.5466         united    -12.4938        000 400', '-9.5504           rate    -12.4938    000 400 000', '-9.5529  united states    -12.4938000 400 000 military', '-9.5836        federal    -12.4938000 50 000 year', '-9.6116      americans    -12.4938        000 500', '-9.6434           said    -12.4938 000 500 severe', '-9.6522            cut    -12.4938000 500 severe vaccine', '-9.6621         budget    -12.4938         000 97', '-9.6718             10    -12.4938     000 97 000', '-9.6783          voted    -12.4938000 97 000 just', '-9.6873    health care    -12.4938    000 african', '-9.6943            pay    -12.4938000 african americans', '-9.6970           time    -12.4938000 african americans andwas', '-9.7036           debt    -12.4938000 american jobs', '-9.7360       american    -12.4938000 american jobs including', '-9.7391        average    -12.4938000 americans simply', '-9.7663        florida    -12.4938000 americans simply given', '-9.7801     government    -12.4938     000 anchor', '-9.7932            law    -12.4938000 anchor babies', '-9.8016       spending    -12.4938000 anchor babies born', '-9.8063     republican    -12.4938    000 applied', '-9.8246        highest    -12.4938000 applied equally', '-9.8427          money    -12.4938000 applied equally granted', '-9.8442         barack    -12.4938     000 babies', '-9.8617          times    -12.4938000 babies born', '-9.8748           just    -12.4938000 babies born deformed', '-9.8761         school    -12.4938000 barrels day', '-9.8818          world    -12.4938000 barrels day able', '-9.8855            day    -12.4938000 barrels oil day', '-9.9084         senate    -12.4938       000 beef']\n",
            "['2.0315        percent    -1.5708      obamacare', '1.8048      countries    -1.4197      wisconsin', '1.6195            day    -1.3027          obama', '1.6157        georgia    -1.2967            rep', '1.4357          times    -1.1417     government', '1.4045        average    -1.0632           away', '1.3988        million    -1.0549       illegals', '1.3347           debt    -1.0137           says', '1.2845         months    -0.9930   scott walker', '1.1959           half    -0.9560          group', '1.1058       american    -0.9553         obamas', '1.1058          terms    -0.9542           plan', '1.0753            cut    -0.9471        illegal', '1.0721            000    -0.9384nuclear weapons', '1.0521         cities    -0.9354          white', '1.0434          lower    -0.9232       released', '1.0430        decades    -0.9213         walker', '1.0325             60    -0.9170         muslim', '1.0281        country    -0.9116           face', '1.0233   percent time    -0.9049    seven years', '1.0137          worth    -0.8953          china', '1.0122        highest    -0.8939         gotten', '1.0055       shutdown    -0.8924           stop', '0.9976     says scott    -0.8705        cabinet', '0.9718        members    -0.8687      dont know', '0.9539      lobbyists    -0.8608           seat', '0.9473        opposed    -0.8582       benghazi', '0.9462   corporations    -0.8475          fight', '0.9258           ohio    -0.8411      president', '0.9209       georgias    -0.8410           team', '0.9064            won    -0.8359           real', '0.8997         dollar    -0.8331            tom', '0.8899       expanded    -0.8326            aid', '0.8881        elected    -0.8304           care', '0.8802           weve    -0.8291     christians', '0.8702      committee    -0.8131       deciding', '0.8625             14    -0.8121      virginias', '0.8523        workers    -0.8027      jobs lost', '0.8495          share    -0.8019    500 billion', '0.8421       spending    -0.7958   end medicare', '0.8398      accidents    -0.7952          taxed', '0.8363      statewide    -0.7938        selling', '0.8252             24    -0.7925        clinton', '0.8226         called    -0.7890       war iraq', '0.8196national average    -0.7867    raise taxes', '0.8193           does    -0.7832          price', '0.8175        torture    -0.7804  said drilling', '0.8158         nearly    -0.7785          lanes', '0.8124         lowest    -0.7756           free', '0.8116        college    -0.7749       bankrupt']\n",
            "['0.4100        percent    -0.6299          obama', '0.2862        million    -0.6199      obamacare', '0.2722      countries    -0.5692         barack', '0.2718            day    -0.4894   barack obama', '0.2678          times    -0.4477           care', '0.2663        georgia    -0.4326   scott walker', '0.2592            000    -0.4224         walker', '0.2425           debt    -0.4140      president', '0.2301        average    -0.3961           says', '0.2254       american    -0.3951            rep', '0.2189           half    -0.3653      wisconsin', '0.2143         months    -0.3626          scott', '0.2138            cut    -0.3483    health care', '0.2105        country    -0.3472       care law', '0.1796         states    -0.3370     government', '0.1773         cities    -0.3330health care law', '0.1759           ohio    -0.3300 says president', '0.1757          state    -0.3230         obamas', '0.1747     republican    -0.3201        clinton', '0.1695          terms    -0.3186           plan', '0.1687         romney    -0.3132       medicare', '0.1686         called    -0.3093       security', '0.1662          lower    -0.3092says barack obama', '0.1651      lobbyists    -0.3058      gov scott', '0.1651        members    -0.3005         social', '0.1628       spending    -0.2855    says barack', '0.1628         dollar    -0.2833gov scott walker', '0.1625           does    -0.2788        hillary', '0.1621       trillion    -0.2712social security', '0.1615           weve    -0.2602president barack', '0.1605        program    -0.2501           away', '0.1584        highest    -0.2439       stimulus', '0.1584says donald trump    -0.2417   tax increase', '0.1577         mccain    -0.2346          voted', '0.1560             60    -0.2263          going', '0.1557            won    -0.2225          white', '0.1556           year    -0.2162tax increase history', '0.1555      americans    -0.2161hillary clinton', '0.1554        workers    -0.2160says president barack', '0.1532   corporations    -0.2146       supports', '0.1519   percent time    -0.2140         muslim', '0.1507        funding    -0.2136          wants', '0.1495       shutdown    -0.2131       increase', '0.1492        college    -0.2130       deciding', '0.1472           bush    -0.2129       says rep', '0.1469        poverty    -0.2061increase history', '0.1447       actually    -0.1983    500 billion', '0.1435        florida    -0.1976president barack obama', '0.1428      education    -0.1964    raise taxes', '0.1428       georgias    -0.1934largest tax increase history']\n"
          ],
          "name": "stdout"
        }
      ]
    },
    {
      "cell_type": "markdown",
      "metadata": {
        "id": "Z8xq-2n0s4u6",
        "colab_type": "text"
      },
      "source": [
        "#PENDETEKSI FAKE NEWS#"
      ]
    },
    {
      "cell_type": "code",
      "metadata": {
        "id": "EhtPzsYA5T5H",
        "colab_type": "code",
        "colab": {
          "base_uri": "https://localhost:8080/",
          "height": 85
        },
        "outputId": "f35bcddd-ee73-45e8-d969-2dd96b60d714"
      },
      "source": [
        "import pickle\n",
        "\n",
        "var = input(\"Masukkan statement berita yang ingin di verifikasi: \")\n",
        "print(\"Statement yang dimasukkan: \" + str(var))\n",
        "\n",
        "#Fungsi untuk mendeteksi fake news\n",
        "def detecting_fake_news(var):    \n",
        "#Mengambil model terbaik dari final model\n",
        "    load_model = pickle.load(open('final_model.sav', 'rb'))\n",
        "    prediction = load_model.predict([var])\n",
        "    prob = load_model.predict_proba([var])\n",
        "\n",
        "    return (print(\"Statement yang dimasukkan bernilai \",prediction[0]),\n",
        "        print(\"Probabilitas \",prob[0][1]))\n",
        "\n",
        "if __name__ == '__main__':\n",
        "    detecting_fake_news(var)"
      ],
      "execution_count": 97,
      "outputs": [
        {
          "output_type": "stream",
          "text": [
            "Masukkan statement berita yang ingin di verifikasi: WikiLeaks confirms Hillary sold weapons to ISIS\n",
            "Statement yang dimasukkan: WikiLeaks confirms Hillary sold weapons to ISIS\n",
            "Statement yang dimasukkan bernilai  False\n",
            "Probabilitas  0.39975857857363584\n"
          ],
          "name": "stdout"
        }
      ]
    }
  ]
}